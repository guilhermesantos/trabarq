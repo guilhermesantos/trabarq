{
 "cells": [
  {
   "cell_type": "code",
   "execution_count": 1,
   "metadata": {},
   "outputs": [
    {
     "data": {
      "text/html": [
       "<script type=\"text/javascript\">window.PlotlyConfig = {MathJaxConfig: 'local'};</script><script type=\"text/javascript\">if (window.MathJax) {MathJax.Hub.Config({SVG: {font: \"STIX-Web\"}});}</script><script>requirejs.config({paths: { 'plotly': ['https://cdn.plot.ly/plotly-latest.min']},});if(!window._Plotly) {require(['plotly'],function(plotly) {window._Plotly=plotly;});}</script>"
      ],
      "text/vnd.plotly.v1+html": [
       "<script type=\"text/javascript\">window.PlotlyConfig = {MathJaxConfig: 'local'};</script><script type=\"text/javascript\">if (window.MathJax) {MathJax.Hub.Config({SVG: {font: \"STIX-Web\"}});}</script><script>requirejs.config({paths: { 'plotly': ['https://cdn.plot.ly/plotly-latest.min']},});if(!window._Plotly) {require(['plotly'],function(plotly) {window._Plotly=plotly;});}</script>"
      ]
     },
     "metadata": {},
     "output_type": "display_data"
    },
    {
     "data": {
      "text/plain": [
       "{'int_mat_i5': [{'clock': 5541.534155,\n",
       "   'icp': 2.61,\n",
       "   'branch_misses': 1040593,\n",
       "   'cache_misses': 1202622113},\n",
       "  {'clock': 5558.865999,\n",
       "   'icp': 2.6,\n",
       "   'branch_misses': 1042062,\n",
       "   'cache_misses': 1203039621},\n",
       "  {'clock': 5587.592536,\n",
       "   'icp': 2.58,\n",
       "   'branch_misses': 1039881,\n",
       "   'cache_misses': 1204618275},\n",
       "  {'clock': 5568.836711,\n",
       "   'icp': 2.61,\n",
       "   'branch_misses': 1041086,\n",
       "   'cache_misses': 1209492142},\n",
       "  {'clock': 5483.359369,\n",
       "   'icp': 2.63,\n",
       "   'branch_misses': 1041551,\n",
       "   'cache_misses': 1197951203},\n",
       "  {'clock': 5556.287346,\n",
       "   'icp': 2.61,\n",
       "   'branch_misses': 1040512,\n",
       "   'cache_misses': 1209664055},\n",
       "  {'clock': 5476.921236,\n",
       "   'icp': 2.62,\n",
       "   'branch_misses': 1040962,\n",
       "   'cache_misses': 1202598640},\n",
       "  {'clock': 5515.66087,\n",
       "   'icp': 2.62,\n",
       "   'branch_misses': 1041032,\n",
       "   'cache_misses': 1204586470},\n",
       "  {'clock': 5504.107633,\n",
       "   'icp': 2.62,\n",
       "   'branch_misses': 1040538,\n",
       "   'cache_misses': 1207184566},\n",
       "  {'clock': 5514.882283,\n",
       "   'icp': 2.63,\n",
       "   'branch_misses': 1041511,\n",
       "   'cache_misses': 1204253637}],\n",
       " 'float_mat_i5': [{'clock': 7483.38266,\n",
       "   'icp': 1.92,\n",
       "   'branch_misses': 1057160,\n",
       "   'cache_misses': 1410245961},\n",
       "  {'clock': 7307.771412,\n",
       "   'icp': 1.97,\n",
       "   'branch_misses': 1056237,\n",
       "   'cache_misses': 1356824725},\n",
       "  {'clock': 7689.63352,\n",
       "   'icp': 1.87,\n",
       "   'branch_misses': 1058036,\n",
       "   'cache_misses': 1395422479},\n",
       "  {'clock': 7891.34118,\n",
       "   'icp': 1.82,\n",
       "   'branch_misses': 1057506,\n",
       "   'cache_misses': 1409162292},\n",
       "  {'clock': 7296.996403,\n",
       "   'icp': 1.98,\n",
       "   'branch_misses': 1054513,\n",
       "   'cache_misses': 1366532951},\n",
       "  {'clock': 7467.017829,\n",
       "   'icp': 1.93,\n",
       "   'branch_misses': 1059675,\n",
       "   'cache_misses': 1407099277},\n",
       "  {'clock': 7338.00536,\n",
       "   'icp': 1.96,\n",
       "   'branch_misses': 1058184,\n",
       "   'cache_misses': 1370747229},\n",
       "  {'clock': 7359.729452,\n",
       "   'icp': 1.95,\n",
       "   'branch_misses': 1054016,\n",
       "   'cache_misses': 1380115758},\n",
       "  {'clock': 7521.46944,\n",
       "   'icp': 1.92,\n",
       "   'branch_misses': 1059816,\n",
       "   'cache_misses': 1378519749},\n",
       "  {'clock': 7497.884108,\n",
       "   'icp': 1.92,\n",
       "   'branch_misses': 1056774,\n",
       "   'cache_misses': 1414154049}],\n",
       " 'float_gauss_i5': [{'clock': 3729.604716,\n",
       "   'icp': 1.74,\n",
       "   'branch_misses': 4090845,\n",
       "   'cache_misses': 229867574},\n",
       "  {'clock': 3753.329224,\n",
       "   'icp': 1.75,\n",
       "   'branch_misses': 4057578,\n",
       "   'cache_misses': 228265984},\n",
       "  {'clock': 3705.665019,\n",
       "   'icp': 1.75,\n",
       "   'branch_misses': 4053583,\n",
       "   'cache_misses': 232129083},\n",
       "  {'clock': 3731.720099,\n",
       "   'icp': 1.75,\n",
       "   'branch_misses': 4054977,\n",
       "   'cache_misses': 231741394},\n",
       "  {'clock': 3695.2727,\n",
       "   'icp': 1.75,\n",
       "   'branch_misses': 4080254,\n",
       "   'cache_misses': 228977484},\n",
       "  {'clock': 3706.823048,\n",
       "   'icp': 1.75,\n",
       "   'branch_misses': 4071726,\n",
       "   'cache_misses': 230970756},\n",
       "  {'clock': 3724.0161,\n",
       "   'icp': 1.74,\n",
       "   'branch_misses': 4352022,\n",
       "   'cache_misses': 228088635},\n",
       "  {'clock': 3699.334794,\n",
       "   'icp': 1.75,\n",
       "   'branch_misses': 4071079,\n",
       "   'cache_misses': 229982258},\n",
       "  {'clock': 3697.852156,\n",
       "   'icp': 1.75,\n",
       "   'branch_misses': 4097460,\n",
       "   'cache_misses': 231414072},\n",
       "  {'clock': 3704.60794,\n",
       "   'icp': 1.75,\n",
       "   'branch_misses': 4066374,\n",
       "   'cache_misses': 227724854}],\n",
       " 'dep_i5': [{'clock': 0.330377,\n",
       "   'icp': 0.63,\n",
       "   'branch_misses': 7867,\n",
       "   'cache_misses': 13921},\n",
       "  {'clock': 0.261466,\n",
       "   'icp': 0.79,\n",
       "   'branch_misses': 6762,\n",
       "   'cache_misses': 13162},\n",
       "  {'clock': 0.25245, 'icp': 0.8, 'branch_misses': 6635, 'cache_misses': 12802},\n",
       "  {'clock': 0.264997,\n",
       "   'icp': 0.78,\n",
       "   'branch_misses': 6651,\n",
       "   'cache_misses': 13007},\n",
       "  {'clock': 0.252617,\n",
       "   'icp': 0.79,\n",
       "   'branch_misses': 6703,\n",
       "   'cache_misses': 12796},\n",
       "  {'clock': 0.250324,\n",
       "   'icp': 0.79,\n",
       "   'branch_misses': 6601,\n",
       "   'cache_misses': 12636},\n",
       "  {'clock': 0.25461,\n",
       "   'icp': 0.79,\n",
       "   'branch_misses': 6668,\n",
       "   'cache_misses': 12652},\n",
       "  {'clock': 0.260604,\n",
       "   'icp': 0.79,\n",
       "   'branch_misses': 6695,\n",
       "   'cache_misses': 12979},\n",
       "  {'clock': 0.290677,\n",
       "   'icp': 0.74,\n",
       "   'branch_misses': 6800,\n",
       "   'cache_misses': 13107},\n",
       "  {'clock': 0.253971,\n",
       "   'icp': 0.8,\n",
       "   'branch_misses': 6685,\n",
       "   'cache_misses': 12848}],\n",
       " 'branch_i5': [{'clock': 0.87386,\n",
       "   'icp': 1.21,\n",
       "   'branch_misses': 23180,\n",
       "   'cache_misses': 16011},\n",
       "  {'clock': 0.741079,\n",
       "   'icp': 1.34,\n",
       "   'branch_misses': 21897,\n",
       "   'cache_misses': 14991},\n",
       "  {'clock': 0.740902,\n",
       "   'icp': 1.34,\n",
       "   'branch_misses': 21760,\n",
       "   'cache_misses': 15128},\n",
       "  {'clock': 0.734185,\n",
       "   'icp': 1.35,\n",
       "   'branch_misses': 21926,\n",
       "   'cache_misses': 15030},\n",
       "  {'clock': 0.777629,\n",
       "   'icp': 1.31,\n",
       "   'branch_misses': 21963,\n",
       "   'cache_misses': 15603},\n",
       "  {'clock': 0.744889,\n",
       "   'icp': 1.32,\n",
       "   'branch_misses': 21818,\n",
       "   'cache_misses': 14863},\n",
       "  {'clock': 0.749557,\n",
       "   'icp': 1.32,\n",
       "   'branch_misses': 21890,\n",
       "   'cache_misses': 14885},\n",
       "  {'clock': 0.738433,\n",
       "   'icp': 1.34,\n",
       "   'branch_misses': 21895,\n",
       "   'cache_misses': 15101},\n",
       "  {'clock': 0.76154,\n",
       "   'icp': 1.34,\n",
       "   'branch_misses': 21830,\n",
       "   'cache_misses': 14841},\n",
       "  {'clock': 0.735831,\n",
       "   'icp': 1.34,\n",
       "   'branch_misses': 22036,\n",
       "   'cache_misses': 14785}],\n",
       " 'branch_sort_i5': [{'clock': 9.897961,\n",
       "   'icp': 1.98,\n",
       "   'branch_misses': 161183,\n",
       "   'cache_misses': 25759},\n",
       "  {'clock': 9.899823,\n",
       "   'icp': 2.0,\n",
       "   'branch_misses': 159395,\n",
       "   'cache_misses': 24794},\n",
       "  {'clock': 9.877013,\n",
       "   'icp': 2.0,\n",
       "   'branch_misses': 159950,\n",
       "   'cache_misses': 24340},\n",
       "  {'clock': 9.945115,\n",
       "   'icp': 1.99,\n",
       "   'branch_misses': 159620,\n",
       "   'cache_misses': 25048},\n",
       "  {'clock': 9.90574,\n",
       "   'icp': 2.0,\n",
       "   'branch_misses': 160256,\n",
       "   'cache_misses': 24872},\n",
       "  {'clock': 9.887222,\n",
       "   'icp': 2.0,\n",
       "   'branch_misses': 159907,\n",
       "   'cache_misses': 24552},\n",
       "  {'clock': 10.149869,\n",
       "   'icp': 2.0,\n",
       "   'branch_misses': 160241,\n",
       "   'cache_misses': 24930},\n",
       "  {'clock': 9.932349,\n",
       "   'icp': 2.0,\n",
       "   'branch_misses': 159822,\n",
       "   'cache_misses': 25143},\n",
       "  {'clock': 9.961555,\n",
       "   'icp': 1.99,\n",
       "   'branch_misses': 160257,\n",
       "   'cache_misses': 24690},\n",
       "  {'clock': 9.788695,\n",
       "   'icp': 2.0,\n",
       "   'branch_misses': 160257,\n",
       "   'cache_misses': 25040}],\n",
       " 'int_mat_rasp': [{'clock': 94111.032533,\n",
       "   'icp': 0.4,\n",
       "   'branch_misses': 4116409,\n",
       "   'cache_misses': 1232037271},\n",
       "  {'clock': 93762.223844,\n",
       "   'icp': 0.4,\n",
       "   'branch_misses': 2845114,\n",
       "   'cache_misses': 1226432082},\n",
       "  {'clock': 93962.1391,\n",
       "   'icp': 0.4,\n",
       "   'branch_misses': 3552881,\n",
       "   'cache_misses': 1229957253},\n",
       "  {'clock': 96047.345699,\n",
       "   'icp': 0.39,\n",
       "   'branch_misses': 4729520,\n",
       "   'cache_misses': 1237041130},\n",
       "  {'clock': 96138.737535,\n",
       "   'icp': 0.39,\n",
       "   'branch_misses': 4508192,\n",
       "   'cache_misses': 1235967561},\n",
       "  {'clock': 96161.178352,\n",
       "   'icp': 0.39,\n",
       "   'branch_misses': 4537433,\n",
       "   'cache_misses': 1234259516},\n",
       "  {'clock': 96010.15175,\n",
       "   'icp': 0.39,\n",
       "   'branch_misses': 4129295,\n",
       "   'cache_misses': 1233355388},\n",
       "  {'clock': 95614.985329,\n",
       "   'icp': 0.4,\n",
       "   'branch_misses': 2855913,\n",
       "   'cache_misses': 1221014168},\n",
       "  {'clock': 96109.826443,\n",
       "   'icp': 0.39,\n",
       "   'branch_misses': 4554716,\n",
       "   'cache_misses': 1233677931},\n",
       "  {'clock': 96154.544565,\n",
       "   'icp': 0.39,\n",
       "   'branch_misses': 4550173,\n",
       "   'cache_misses': 1235616078}],\n",
       " 'float_mat_rasp': [{'clock': 113173.107728,\n",
       "   'icp': 0.34,\n",
       "   'branch_misses': 5028912,\n",
       "   'cache_misses': 1490094941},\n",
       "  {'clock': 112063.731129,\n",
       "   'icp': 0.34,\n",
       "   'branch_misses': 1834209,\n",
       "   'cache_misses': 1475729107},\n",
       "  {'clock': 113034.061121,\n",
       "   'icp': 0.34,\n",
       "   'branch_misses': 5144674,\n",
       "   'cache_misses': 1492907675},\n",
       "  {'clock': 112680.872164,\n",
       "   'icp': 0.34,\n",
       "   'branch_misses': 3980138,\n",
       "   'cache_misses': 1485285345},\n",
       "  {'clock': 110987.721008,\n",
       "   'icp': 0.34,\n",
       "   'branch_misses': 2110130,\n",
       "   'cache_misses': 1475405810},\n",
       "  {'clock': 108319.134333,\n",
       "   'icp': 0.35,\n",
       "   'branch_misses': 1890324,\n",
       "   'cache_misses': 1477264919},\n",
       "  {'clock': 108285.407728,\n",
       "   'icp': 0.35,\n",
       "   'branch_misses': 1814128,\n",
       "   'cache_misses': 1475814502},\n",
       "  {'clock': 108299.222885,\n",
       "   'icp': 0.35,\n",
       "   'branch_misses': 1812657,\n",
       "   'cache_misses': 1476802053},\n",
       "  {'clock': 108283.678136,\n",
       "   'icp': 0.35,\n",
       "   'branch_misses': 1784086,\n",
       "   'cache_misses': 1476515423},\n",
       "  {'clock': 108340.623609,\n",
       "   'icp': 0.35,\n",
       "   'branch_misses': 1812382,\n",
       "   'cache_misses': 1475959816}],\n",
       " 'float_gauss_rasp': [{'clock': 6935.103514,\n",
       "   'icp': 0.52,\n",
       "   'branch_misses': 3858775,\n",
       "   'cache_misses': 15912074},\n",
       "  {'clock': 7021.913972,\n",
       "   'icp': 0.52,\n",
       "   'branch_misses': 3578760,\n",
       "   'cache_misses': 15811288},\n",
       "  {'clock': 6935.919291,\n",
       "   'icp': 0.52,\n",
       "   'branch_misses': 3625451,\n",
       "   'cache_misses': 16028043},\n",
       "  {'clock': 6995.937933,\n",
       "   'icp': 0.52,\n",
       "   'branch_misses': 3587755,\n",
       "   'cache_misses': 15801746},\n",
       "  {'clock': 7166.834433,\n",
       "   'icp': 0.52,\n",
       "   'branch_misses': 4189253,\n",
       "   'cache_misses': 17025632},\n",
       "  {'clock': 7062.628154,\n",
       "   'icp': 0.52,\n",
       "   'branch_misses': 3899905,\n",
       "   'cache_misses': 16381076},\n",
       "  {'clock': 7004.499338,\n",
       "   'icp': 0.52,\n",
       "   'branch_misses': 3648534,\n",
       "   'cache_misses': 16217053},\n",
       "  {'clock': 6989.987002,\n",
       "   'icp': 0.52,\n",
       "   'branch_misses': 3560909,\n",
       "   'cache_misses': 15745734},\n",
       "  {'clock': 6970.370491,\n",
       "   'icp': 0.52,\n",
       "   'branch_misses': 3535629,\n",
       "   'cache_misses': 15790556},\n",
       "  {'clock': 7036.238358,\n",
       "   'icp': 0.52,\n",
       "   'branch_misses': 3831753,\n",
       "   'cache_misses': 16651853}],\n",
       " 'dep_rasp': [{'clock': 1.601926,\n",
       "   'icp': 0.34,\n",
       "   'branch_misses': 11388,\n",
       "   'cache_misses': 6382},\n",
       "  {'clock': 1.542812,\n",
       "   'icp': 0.35,\n",
       "   'branch_misses': 10944,\n",
       "   'cache_misses': 6290},\n",
       "  {'clock': 1.588125,\n",
       "   'icp': 0.39,\n",
       "   'branch_misses': 11400,\n",
       "   'cache_misses': 6438},\n",
       "  {'clock': 1.538438,\n",
       "   'icp': 0.35,\n",
       "   'branch_misses': 10931,\n",
       "   'cache_misses': 6128},\n",
       "  {'clock': 1.524011,\n",
       "   'icp': 0.35,\n",
       "   'branch_misses': 10899,\n",
       "   'cache_misses': 6189},\n",
       "  {'clock': 1.511458,\n",
       "   'icp': 0.35,\n",
       "   'branch_misses': 11018,\n",
       "   'cache_misses': 6034},\n",
       "  {'clock': 1.552812,\n",
       "   'icp': 0.36,\n",
       "   'branch_misses': 11152,\n",
       "   'cache_misses': 6452},\n",
       "  {'clock': 1.483906,\n",
       "   'icp': 0.35,\n",
       "   'branch_misses': 11119,\n",
       "   'cache_misses': 6131},\n",
       "  {'clock': 1.707813,\n",
       "   'icp': 0.45,\n",
       "   'branch_misses': 12035,\n",
       "   'cache_misses': 6841},\n",
       "  {'clock': 1.70151,\n",
       "   'icp': 0.57,\n",
       "   'branch_misses': 11790,\n",
       "   'cache_misses': 6664}],\n",
       " 'branch_rasp': [{'clock': 9.712344,\n",
       "   'icp': 1.29,\n",
       "   'branch_misses': 26576,\n",
       "   'cache_misses': 6823},\n",
       "  {'clock': 9.991823,\n",
       "   'icp': 3.6,\n",
       "   'branch_misses': 26237,\n",
       "   'cache_misses': 6325},\n",
       "  {'clock': 4.880573,\n",
       "   'icp': 0.71,\n",
       "   'branch_misses': 25958,\n",
       "   'cache_misses': 6056},\n",
       "  {'clock': 4.966771,\n",
       "   'icp': 6.26,\n",
       "   'branch_misses': 26433,\n",
       "   'cache_misses': 6226},\n",
       "  {'clock': 4.856823,\n",
       "   'icp': 0.71,\n",
       "   'branch_misses': 26062,\n",
       "   'cache_misses': 6039},\n",
       "  {'clock': 4.829532,\n",
       "   'icp': 0.71,\n",
       "   'branch_misses': 25877,\n",
       "   'cache_misses': 5880},\n",
       "  {'clock': 4.94875,\n",
       "   'icp': 1.48,\n",
       "   'branch_misses': 26156,\n",
       "   'cache_misses': 6482},\n",
       "  {'clock': 4.87625,\n",
       "   'icp': 0.71,\n",
       "   'branch_misses': 26303,\n",
       "   'cache_misses': 6232},\n",
       "  {'clock': 4.971875,\n",
       "   'icp': 1.7,\n",
       "   'branch_misses': 26322,\n",
       "   'cache_misses': 6526},\n",
       "  {'clock': 4.893125,\n",
       "   'icp': 0.71,\n",
       "   'branch_misses': 26239,\n",
       "   'cache_misses': 6261}],\n",
       " 'branch_sort_rasp': [{'clock': 109.841823,\n",
       "   'icp': 0.74,\n",
       "   'branch_misses': 212354,\n",
       "   'cache_misses': 10929},\n",
       "  {'clock': 77.480208,\n",
       "   'icp': 0.74,\n",
       "   'branch_misses': 201754,\n",
       "   'cache_misses': 12588},\n",
       "  {'clock': 77.209948,\n",
       "   'icp': 0.75,\n",
       "   'branch_misses': 217330,\n",
       "   'cache_misses': 10999},\n",
       "  {'clock': 77.657085,\n",
       "   'icp': 0.74,\n",
       "   'branch_misses': 205077,\n",
       "   'cache_misses': 12820},\n",
       "  {'clock': 77.822292,\n",
       "   'icp': 0.74,\n",
       "   'branch_misses': 205787,\n",
       "   'cache_misses': 14628},\n",
       "  {'clock': 90.047969,\n",
       "   'icp': 0.78,\n",
       "   'branch_misses': 198791,\n",
       "   'cache_misses': 11358},\n",
       "  {'clock': 77.616718,\n",
       "   'icp': 0.74,\n",
       "   'branch_misses': 201749,\n",
       "   'cache_misses': 12263},\n",
       "  {'clock': 79.297968,\n",
       "   'icp': 0.73,\n",
       "   'branch_misses': 203065,\n",
       "   'cache_misses': 13682},\n",
       "  {'clock': 77.817291,\n",
       "   'icp': 0.74,\n",
       "   'branch_misses': 216751,\n",
       "   'cache_misses': 13577},\n",
       "  {'clock': 77.232032,\n",
       "   'icp': 0.75,\n",
       "   'branch_misses': 204369,\n",
       "   'cache_misses': 11007}]}"
      ]
     },
     "execution_count": 1,
     "metadata": {},
     "output_type": "execute_result"
    }
   ],
   "source": [
    "import sys\n",
    "import numpy as np\n",
    "import scipy.stats as stats\n",
    "import plotly.graph_objs as go\n",
    "from plotly.offline import download_plotlyjs, init_notebook_mode, plot, iplot\n",
    "import plotly.io as pio\n",
    "import math\n",
    "\n",
    "init_notebook_mode(connected=True)\n",
    "\n",
    "\n",
    "def process_clock(line):\n",
    "\ttime = float(line.split()[0].replace(',','.'))\n",
    "\t#print('time ',time)\n",
    "\treturn time\n",
    "\n",
    "def process_icp(line):\n",
    "\ticp = float(line.split('#')[1].split()[0].replace(',','.'))\n",
    "\t#print('icp',icp)\n",
    "\treturn icp\n",
    "\n",
    "def process_branch(line):\n",
    "\tbranch_misses =  int(line.split('#')[0].split()[0].replace('.',''))\n",
    "\t#print(branch_misses)\n",
    "\treturn branch_misses\n",
    "\n",
    "def process_cache(line):\n",
    "\tcache_misses = int(line.split('#')[0].split()[0].replace('.','') )\n",
    "\t#print('cache_misses', cache_misses)\n",
    "\treturn cache_misses\n",
    "\n",
    "def collect_data():\n",
    "\tfile_name = sys.argv[1]\n",
    "\tplats = ['i5', 'rasp']\n",
    "\ttests = ['int_mat','float_mat','float_gauss','dep','branch','branch_sort']\n",
    "\t\n",
    "\n",
    "\tresults = dict()\n",
    "\tfor plat in plats:\n",
    "\t\tfor test in tests:\n",
    "\t\t\ttest_name = '{}_{}'.format(test,plat)\n",
    "\t\t\tfile_name = 'result_{}.txt'.format(test_name)\n",
    "\n",
    "\t\t\tcontent = []\n",
    "\t\t\twith open(file_name,'r') as f:\n",
    "\t\t\t\tcontent = f.readlines()\n",
    "\t\t\t\t#print(content)\n",
    "\n",
    "\t\t\tcontent = [x.strip() for x in content]\n",
    "\t\t\t#print(content)\n",
    "\n",
    "\t\t\ttest_num = -1\n",
    "\t\t\tresults[test_name] = []\n",
    "\t\t\tfor line in content:\n",
    "\t\t\t\tif('task-clock' in line):\n",
    "\t\t\t\t\ttest_num += 1\n",
    "\t\t\t\t\tresults[test_name].append(dict())\n",
    "\t\t\t\t\tresults[test_name][test_num]['clock'] = process_clock(line)\n",
    "\t\t\t\tif('instructions' in line):\n",
    "\t\t\t\t\tresults[test_name][test_num]['icp'] = process_icp(line)\n",
    "                    \n",
    "\t\t\t\tif('branch-misses' in line):\n",
    "\t\t\t\t\tresults[test_name][test_num]['branch_misses'] = process_branch(line)\n",
    "                    \n",
    "\t\t\t\tif('L1-dcache-load-misses' in line):\n",
    "\t\t\t\t\tresults[test_name][test_num]['cache_misses'] = process_cache(line)\n",
    "\t\t\t#print('resultado do teste {}'.format(test_name))\n",
    "\t\t\t#print(results[test_name])\n",
    "\treturn results\n",
    "\n",
    "\n",
    "test_results = collect_data()\n",
    "test_results"
   ]
  },
  {
   "cell_type": "code",
   "execution_count": 2,
   "metadata": {},
   "outputs": [
    {
     "name": "stdout",
     "output_type": "stream",
     "text": [
      "branch conf do teste int_mat_i5: 370.042\n"
     ]
    },
    {
     "data": {
      "application/vnd.plotly.v1+json": {
       "data": [
        {
         "cells": {
          "height": 40,
          "values": [
           [
            1,
            2,
            3,
            4,
            5,
            6,
            7,
            8,
            9,
            10,
            "Media",
            "Desvio padrao",
            "Intervalo de conf.(95%)+-"
           ],
           [
            5541.534155,
            5558.865999,
            5587.592536,
            5568.836711,
            5483.359369,
            5556.287346,
            5476.921236,
            5515.66087,
            5504.107633,
            5514.882283,
            5530.805,
            35.459,
            21.978
           ],
           [
            2.61,
            2.6,
            2.58,
            2.61,
            2.63,
            2.61,
            2.62,
            2.62,
            2.62,
            2.63,
            2.613,
            0.014,
            0.009
           ],
           [
            1040593,
            1042062,
            1039881,
            1041086,
            1041551,
            1040512,
            1040962,
            1041032,
            1040538,
            1041511,
            1040972.8,
            597.028,
            370.042
           ],
           [
            1202622113,
            1203039621,
            1204618275,
            1209492142,
            1197951203,
            1209664055,
            1202598640,
            1204586470,
            1207184566,
            1204253637,
            1204601072.2,
            3330719.497,
            2064401.332
           ]
          ]
         },
         "columnwidth": [
          40
         ],
         "header": {
          "values": [
           "Amostra",
           "Tempo(s)",
           "IPC",
           "Branch misses",
           "Cache misses"
          ]
         },
         "type": "table",
         "uid": "abf0ad89-3236-41aa-b1f0-40eb472b2d3f"
        }
       ],
       "layout": {
        "font": {
         "color": "#7f7f7f",
         "family": "Courier New, monospace",
         "size": 15
        },
        "height": 800,
        "title": "int_mat_i5",
        "width": 1000
       }
      },
      "text/html": [
       "<div id=\"192ddf1b-8e49-4d63-aaad-f4b998b6bc32\" style=\"height: 800px; width: 1000px;\" class=\"plotly-graph-div\"></div><script type=\"text/javascript\">require([\"plotly\"], function(Plotly) { window.PLOTLYENV=window.PLOTLYENV || {};window.PLOTLYENV.BASE_URL=\"https://plot.ly\";Plotly.newPlot(\"192ddf1b-8e49-4d63-aaad-f4b998b6bc32\", [{\"cells\": {\"height\": 40, \"values\": [[1, 2, 3, 4, 5, 6, 7, 8, 9, 10, \"Media\", \"Desvio padrao\", \"Intervalo de conf.(95%)+-\"], [5541.534155, 5558.865999, 5587.592536, 5568.836711, 5483.359369, 5556.287346, 5476.921236, 5515.66087, 5504.107633, 5514.882283, 5530.805, 35.459, 21.978], [2.61, 2.6, 2.58, 2.61, 2.63, 2.61, 2.62, 2.62, 2.62, 2.63, 2.613, 0.014, 0.009], [1040593.0, 1042062.0, 1039881.0, 1041086.0, 1041551.0, 1040512.0, 1040962.0, 1041032.0, 1040538.0, 1041511.0, 1040972.8, 597.028, 370.042], [1202622113.0, 1203039621.0, 1204618275.0, 1209492142.0, 1197951203.0, 1209664055.0, 1202598640.0, 1204586470.0, 1207184566.0, 1204253637.0, 1204601072.2, 3330719.497, 2064401.332]]}, \"columnwidth\": [40], \"header\": {\"values\": [\"Amostra\", \"Tempo(s)\", \"IPC\", \"Branch misses\", \"Cache misses\"]}, \"type\": \"table\", \"uid\": \"abf0ad89-3236-41aa-b1f0-40eb472b2d3f\"}], {\"font\": {\"color\": \"#7f7f7f\", \"family\": \"Courier New, monospace\", \"size\": 15}, \"height\": 800, \"title\": \"int_mat_i5\", \"width\": 1000}, {\"showLink\": true, \"linkText\": \"Export to plot.ly\"})});</script>"
      ],
      "text/vnd.plotly.v1+html": [
       "<div id=\"192ddf1b-8e49-4d63-aaad-f4b998b6bc32\" style=\"height: 800px; width: 1000px;\" class=\"plotly-graph-div\"></div><script type=\"text/javascript\">require([\"plotly\"], function(Plotly) { window.PLOTLYENV=window.PLOTLYENV || {};window.PLOTLYENV.BASE_URL=\"https://plot.ly\";Plotly.newPlot(\"192ddf1b-8e49-4d63-aaad-f4b998b6bc32\", [{\"cells\": {\"height\": 40, \"values\": [[1, 2, 3, 4, 5, 6, 7, 8, 9, 10, \"Media\", \"Desvio padrao\", \"Intervalo de conf.(95%)+-\"], [5541.534155, 5558.865999, 5587.592536, 5568.836711, 5483.359369, 5556.287346, 5476.921236, 5515.66087, 5504.107633, 5514.882283, 5530.805, 35.459, 21.978], [2.61, 2.6, 2.58, 2.61, 2.63, 2.61, 2.62, 2.62, 2.62, 2.63, 2.613, 0.014, 0.009], [1040593.0, 1042062.0, 1039881.0, 1041086.0, 1041551.0, 1040512.0, 1040962.0, 1041032.0, 1040538.0, 1041511.0, 1040972.8, 597.028, 370.042], [1202622113.0, 1203039621.0, 1204618275.0, 1209492142.0, 1197951203.0, 1209664055.0, 1202598640.0, 1204586470.0, 1207184566.0, 1204253637.0, 1204601072.2, 3330719.497, 2064401.332]]}, \"columnwidth\": [40], \"header\": {\"values\": [\"Amostra\", \"Tempo(s)\", \"IPC\", \"Branch misses\", \"Cache misses\"]}, \"type\": \"table\", \"uid\": \"abf0ad89-3236-41aa-b1f0-40eb472b2d3f\"}], {\"font\": {\"color\": \"#7f7f7f\", \"family\": \"Courier New, monospace\", \"size\": 15}, \"height\": 800, \"title\": \"int_mat_i5\", \"width\": 1000}, {\"showLink\": true, \"linkText\": \"Export to plot.ly\"})});</script>"
      ]
     },
     "metadata": {},
     "output_type": "display_data"
    },
    {
     "name": "stdout",
     "output_type": "stream",
     "text": [
      "branch conf do teste float_mat_i5: 1129.298\n"
     ]
    },
    {
     "data": {
      "application/vnd.plotly.v1+json": {
       "data": [
        {
         "cells": {
          "height": 40,
          "values": [
           [
            1,
            2,
            3,
            4,
            5,
            6,
            7,
            8,
            9,
            10,
            "Media",
            "Desvio padrao",
            "Intervalo de conf.(95%)+-"
           ],
           [
            7483.38266,
            7307.771412,
            7689.63352,
            7891.34118,
            7296.996403,
            7467.017829,
            7338.00536,
            7359.729452,
            7521.46944,
            7497.884108,
            7485.323,
            176.88,
            109.631
           ],
           [
            1.92,
            1.97,
            1.87,
            1.82,
            1.98,
            1.93,
            1.96,
            1.95,
            1.92,
            1.92,
            1.924,
            0.046,
            0.029
           ],
           [
            1057160,
            1056237,
            1058036,
            1057506,
            1054513,
            1059675,
            1058184,
            1054016,
            1059816,
            1056774,
            1057191.7,
            1822.017,
            1129.298
           ],
           [
            1410245961,
            1356824725,
            1395422479,
            1409162292,
            1366532951,
            1407099277,
            1370747229,
            1380115758,
            1378519749,
            1414154049,
            1388882447,
            19802208.498,
            12273535.985
           ]
          ]
         },
         "columnwidth": [
          40
         ],
         "header": {
          "values": [
           "Amostra",
           "Tempo(s)",
           "IPC",
           "Branch misses",
           "Cache misses"
          ]
         },
         "type": "table",
         "uid": "3f914535-1330-4ee9-b5c0-b7df59246e4e"
        }
       ],
       "layout": {
        "font": {
         "color": "#7f7f7f",
         "family": "Courier New, monospace",
         "size": 15
        },
        "height": 800,
        "title": "float_mat_i5",
        "width": 1000
       }
      },
      "text/html": [
       "<div id=\"8bca7661-0982-4044-acc4-e5c52566771a\" style=\"height: 800px; width: 1000px;\" class=\"plotly-graph-div\"></div><script type=\"text/javascript\">require([\"plotly\"], function(Plotly) { window.PLOTLYENV=window.PLOTLYENV || {};window.PLOTLYENV.BASE_URL=\"https://plot.ly\";Plotly.newPlot(\"8bca7661-0982-4044-acc4-e5c52566771a\", [{\"cells\": {\"height\": 40, \"values\": [[1, 2, 3, 4, 5, 6, 7, 8, 9, 10, \"Media\", \"Desvio padrao\", \"Intervalo de conf.(95%)+-\"], [7483.38266, 7307.771412, 7689.63352, 7891.34118, 7296.996403, 7467.017829, 7338.00536, 7359.729452, 7521.46944, 7497.884108, 7485.323, 176.88, 109.631], [1.92, 1.97, 1.87, 1.82, 1.98, 1.93, 1.96, 1.95, 1.92, 1.92, 1.924, 0.046, 0.029], [1057160.0, 1056237.0, 1058036.0, 1057506.0, 1054513.0, 1059675.0, 1058184.0, 1054016.0, 1059816.0, 1056774.0, 1057191.7, 1822.017, 1129.298], [1410245961.0, 1356824725.0, 1395422479.0, 1409162292.0, 1366532951.0, 1407099277.0, 1370747229.0, 1380115758.0, 1378519749.0, 1414154049.0, 1388882447.0, 19802208.498, 12273535.985]]}, \"columnwidth\": [40], \"header\": {\"values\": [\"Amostra\", \"Tempo(s)\", \"IPC\", \"Branch misses\", \"Cache misses\"]}, \"type\": \"table\", \"uid\": \"3f914535-1330-4ee9-b5c0-b7df59246e4e\"}], {\"font\": {\"color\": \"#7f7f7f\", \"family\": \"Courier New, monospace\", \"size\": 15}, \"height\": 800, \"title\": \"float_mat_i5\", \"width\": 1000}, {\"showLink\": true, \"linkText\": \"Export to plot.ly\"})});</script>"
      ],
      "text/vnd.plotly.v1+html": [
       "<div id=\"8bca7661-0982-4044-acc4-e5c52566771a\" style=\"height: 800px; width: 1000px;\" class=\"plotly-graph-div\"></div><script type=\"text/javascript\">require([\"plotly\"], function(Plotly) { window.PLOTLYENV=window.PLOTLYENV || {};window.PLOTLYENV.BASE_URL=\"https://plot.ly\";Plotly.newPlot(\"8bca7661-0982-4044-acc4-e5c52566771a\", [{\"cells\": {\"height\": 40, \"values\": [[1, 2, 3, 4, 5, 6, 7, 8, 9, 10, \"Media\", \"Desvio padrao\", \"Intervalo de conf.(95%)+-\"], [7483.38266, 7307.771412, 7689.63352, 7891.34118, 7296.996403, 7467.017829, 7338.00536, 7359.729452, 7521.46944, 7497.884108, 7485.323, 176.88, 109.631], [1.92, 1.97, 1.87, 1.82, 1.98, 1.93, 1.96, 1.95, 1.92, 1.92, 1.924, 0.046, 0.029], [1057160.0, 1056237.0, 1058036.0, 1057506.0, 1054513.0, 1059675.0, 1058184.0, 1054016.0, 1059816.0, 1056774.0, 1057191.7, 1822.017, 1129.298], [1410245961.0, 1356824725.0, 1395422479.0, 1409162292.0, 1366532951.0, 1407099277.0, 1370747229.0, 1380115758.0, 1378519749.0, 1414154049.0, 1388882447.0, 19802208.498, 12273535.985]]}, \"columnwidth\": [40], \"header\": {\"values\": [\"Amostra\", \"Tempo(s)\", \"IPC\", \"Branch misses\", \"Cache misses\"]}, \"type\": \"table\", \"uid\": \"3f914535-1330-4ee9-b5c0-b7df59246e4e\"}], {\"font\": {\"color\": \"#7f7f7f\", \"family\": \"Courier New, monospace\", \"size\": 15}, \"height\": 800, \"title\": \"float_mat_i5\", \"width\": 1000}, {\"showLink\": true, \"linkText\": \"Export to plot.ly\"})});</script>"
      ]
     },
     "metadata": {},
     "output_type": "display_data"
    },
    {
     "name": "stdout",
     "output_type": "stream",
     "text": [
      "branch conf do teste float_gauss_i5: 52862.389\n"
     ]
    },
    {
     "data": {
      "application/vnd.plotly.v1+json": {
       "data": [
        {
         "cells": {
          "height": 40,
          "values": [
           [
            1,
            2,
            3,
            4,
            5,
            6,
            7,
            8,
            9,
            10,
            "Media",
            "Desvio padrao",
            "Intervalo de conf.(95%)+-"
           ],
           [
            3729.604716,
            3753.329224,
            3705.665019,
            3731.720099,
            3695.2727,
            3706.823048,
            3724.0161,
            3699.334794,
            3697.852156,
            3704.60794,
            3714.823,
            17.982,
            11.145
           ],
           [
            1.74,
            1.75,
            1.75,
            1.75,
            1.75,
            1.75,
            1.74,
            1.75,
            1.75,
            1.75,
            1.748,
            0.004,
            0.002
           ],
           [
            4090845,
            4057578,
            4053583,
            4054977,
            4080254,
            4071726,
            4352022,
            4071079,
            4097460,
            4066374,
            4099589.8,
            85288.547,
            52862.389
           ],
           [
            229867574,
            228265984,
            232129083,
            231741394,
            228977484,
            230970756,
            228088635,
            229982258,
            231414072,
            227724854,
            229916209.4,
            1527645.673,
            946844.598
           ]
          ]
         },
         "columnwidth": [
          40
         ],
         "header": {
          "values": [
           "Amostra",
           "Tempo(s)",
           "IPC",
           "Branch misses",
           "Cache misses"
          ]
         },
         "type": "table",
         "uid": "aea4dcb7-5a4c-453d-beab-1ef1370d1c4f"
        }
       ],
       "layout": {
        "font": {
         "color": "#7f7f7f",
         "family": "Courier New, monospace",
         "size": 15
        },
        "height": 800,
        "title": "float_gauss_i5",
        "width": 1000
       }
      },
      "text/html": [
       "<div id=\"6e68a262-d553-4c43-ba15-844cb19347a2\" style=\"height: 800px; width: 1000px;\" class=\"plotly-graph-div\"></div><script type=\"text/javascript\">require([\"plotly\"], function(Plotly) { window.PLOTLYENV=window.PLOTLYENV || {};window.PLOTLYENV.BASE_URL=\"https://plot.ly\";Plotly.newPlot(\"6e68a262-d553-4c43-ba15-844cb19347a2\", [{\"cells\": {\"height\": 40, \"values\": [[1, 2, 3, 4, 5, 6, 7, 8, 9, 10, \"Media\", \"Desvio padrao\", \"Intervalo de conf.(95%)+-\"], [3729.604716, 3753.329224, 3705.665019, 3731.720099, 3695.2727, 3706.823048, 3724.0161, 3699.334794, 3697.852156, 3704.60794, 3714.823, 17.982, 11.145], [1.74, 1.75, 1.75, 1.75, 1.75, 1.75, 1.74, 1.75, 1.75, 1.75, 1.748, 0.004, 0.002], [4090845.0, 4057578.0, 4053583.0, 4054977.0, 4080254.0, 4071726.0, 4352022.0, 4071079.0, 4097460.0, 4066374.0, 4099589.8, 85288.547, 52862.389], [229867574.0, 228265984.0, 232129083.0, 231741394.0, 228977484.0, 230970756.0, 228088635.0, 229982258.0, 231414072.0, 227724854.0, 229916209.4, 1527645.673, 946844.598]]}, \"columnwidth\": [40], \"header\": {\"values\": [\"Amostra\", \"Tempo(s)\", \"IPC\", \"Branch misses\", \"Cache misses\"]}, \"type\": \"table\", \"uid\": \"aea4dcb7-5a4c-453d-beab-1ef1370d1c4f\"}], {\"font\": {\"color\": \"#7f7f7f\", \"family\": \"Courier New, monospace\", \"size\": 15}, \"height\": 800, \"title\": \"float_gauss_i5\", \"width\": 1000}, {\"showLink\": true, \"linkText\": \"Export to plot.ly\"})});</script>"
      ],
      "text/vnd.plotly.v1+html": [
       "<div id=\"6e68a262-d553-4c43-ba15-844cb19347a2\" style=\"height: 800px; width: 1000px;\" class=\"plotly-graph-div\"></div><script type=\"text/javascript\">require([\"plotly\"], function(Plotly) { window.PLOTLYENV=window.PLOTLYENV || {};window.PLOTLYENV.BASE_URL=\"https://plot.ly\";Plotly.newPlot(\"6e68a262-d553-4c43-ba15-844cb19347a2\", [{\"cells\": {\"height\": 40, \"values\": [[1, 2, 3, 4, 5, 6, 7, 8, 9, 10, \"Media\", \"Desvio padrao\", \"Intervalo de conf.(95%)+-\"], [3729.604716, 3753.329224, 3705.665019, 3731.720099, 3695.2727, 3706.823048, 3724.0161, 3699.334794, 3697.852156, 3704.60794, 3714.823, 17.982, 11.145], [1.74, 1.75, 1.75, 1.75, 1.75, 1.75, 1.74, 1.75, 1.75, 1.75, 1.748, 0.004, 0.002], [4090845.0, 4057578.0, 4053583.0, 4054977.0, 4080254.0, 4071726.0, 4352022.0, 4071079.0, 4097460.0, 4066374.0, 4099589.8, 85288.547, 52862.389], [229867574.0, 228265984.0, 232129083.0, 231741394.0, 228977484.0, 230970756.0, 228088635.0, 229982258.0, 231414072.0, 227724854.0, 229916209.4, 1527645.673, 946844.598]]}, \"columnwidth\": [40], \"header\": {\"values\": [\"Amostra\", \"Tempo(s)\", \"IPC\", \"Branch misses\", \"Cache misses\"]}, \"type\": \"table\", \"uid\": \"aea4dcb7-5a4c-453d-beab-1ef1370d1c4f\"}], {\"font\": {\"color\": \"#7f7f7f\", \"family\": \"Courier New, monospace\", \"size\": 15}, \"height\": 800, \"title\": \"float_gauss_i5\", \"width\": 1000}, {\"showLink\": true, \"linkText\": \"Export to plot.ly\"})});</script>"
      ]
     },
     "metadata": {},
     "output_type": "display_data"
    },
    {
     "name": "stdout",
     "output_type": "stream",
     "text": [
      "branch conf do teste dep_i5: 221.713\n"
     ]
    },
    {
     "data": {
      "application/vnd.plotly.v1+json": {
       "data": [
        {
         "cells": {
          "height": 40,
          "values": [
           [
            1,
            2,
            3,
            4,
            5,
            6,
            7,
            8,
            9,
            10,
            "Media",
            "Desvio padrao",
            "Intervalo de conf.(95%)+-"
           ],
           [
            0.330377,
            0.261466,
            0.25245,
            0.264997,
            0.252617,
            0.250324,
            0.25461,
            0.260604,
            0.290677,
            0.253971,
            0.267,
            0.024,
            0.015
           ],
           [
            0.63,
            0.79,
            0.8,
            0.78,
            0.79,
            0.79,
            0.79,
            0.79,
            0.74,
            0.8,
            0.77,
            0.049,
            0.03
           ],
           [
            7867,
            6762,
            6635,
            6651,
            6703,
            6601,
            6668,
            6695,
            6800,
            6685,
            6806.7,
            357.714,
            221.713
           ],
           [
            13921,
            13162,
            12802,
            13007,
            12796,
            12636,
            12652,
            12979,
            13107,
            12848,
            12991,
            352.582,
            218.533
           ]
          ]
         },
         "columnwidth": [
          40
         ],
         "header": {
          "values": [
           "Amostra",
           "Tempo(s)",
           "IPC",
           "Branch misses",
           "Cache misses"
          ]
         },
         "type": "table",
         "uid": "00de93c0-eadd-4f6e-8c78-e87562e7d8d4"
        }
       ],
       "layout": {
        "font": {
         "color": "#7f7f7f",
         "family": "Courier New, monospace",
         "size": 15
        },
        "height": 800,
        "title": "dep_i5",
        "width": 1000
       }
      },
      "text/html": [
       "<div id=\"35489877-7b25-44d2-8b63-13a1258d8902\" style=\"height: 800px; width: 1000px;\" class=\"plotly-graph-div\"></div><script type=\"text/javascript\">require([\"plotly\"], function(Plotly) { window.PLOTLYENV=window.PLOTLYENV || {};window.PLOTLYENV.BASE_URL=\"https://plot.ly\";Plotly.newPlot(\"35489877-7b25-44d2-8b63-13a1258d8902\", [{\"cells\": {\"height\": 40, \"values\": [[1, 2, 3, 4, 5, 6, 7, 8, 9, 10, \"Media\", \"Desvio padrao\", \"Intervalo de conf.(95%)+-\"], [0.330377, 0.261466, 0.25245, 0.264997, 0.252617, 0.250324, 0.25461, 0.260604, 0.290677, 0.253971, 0.267, 0.024, 0.015], [0.63, 0.79, 0.8, 0.78, 0.79, 0.79, 0.79, 0.79, 0.74, 0.8, 0.77, 0.049, 0.03], [7867.0, 6762.0, 6635.0, 6651.0, 6703.0, 6601.0, 6668.0, 6695.0, 6800.0, 6685.0, 6806.7, 357.714, 221.713], [13921.0, 13162.0, 12802.0, 13007.0, 12796.0, 12636.0, 12652.0, 12979.0, 13107.0, 12848.0, 12991.0, 352.582, 218.533]]}, \"columnwidth\": [40], \"header\": {\"values\": [\"Amostra\", \"Tempo(s)\", \"IPC\", \"Branch misses\", \"Cache misses\"]}, \"type\": \"table\", \"uid\": \"00de93c0-eadd-4f6e-8c78-e87562e7d8d4\"}], {\"font\": {\"color\": \"#7f7f7f\", \"family\": \"Courier New, monospace\", \"size\": 15}, \"height\": 800, \"title\": \"dep_i5\", \"width\": 1000}, {\"showLink\": true, \"linkText\": \"Export to plot.ly\"})});</script>"
      ],
      "text/vnd.plotly.v1+html": [
       "<div id=\"35489877-7b25-44d2-8b63-13a1258d8902\" style=\"height: 800px; width: 1000px;\" class=\"plotly-graph-div\"></div><script type=\"text/javascript\">require([\"plotly\"], function(Plotly) { window.PLOTLYENV=window.PLOTLYENV || {};window.PLOTLYENV.BASE_URL=\"https://plot.ly\";Plotly.newPlot(\"35489877-7b25-44d2-8b63-13a1258d8902\", [{\"cells\": {\"height\": 40, \"values\": [[1, 2, 3, 4, 5, 6, 7, 8, 9, 10, \"Media\", \"Desvio padrao\", \"Intervalo de conf.(95%)+-\"], [0.330377, 0.261466, 0.25245, 0.264997, 0.252617, 0.250324, 0.25461, 0.260604, 0.290677, 0.253971, 0.267, 0.024, 0.015], [0.63, 0.79, 0.8, 0.78, 0.79, 0.79, 0.79, 0.79, 0.74, 0.8, 0.77, 0.049, 0.03], [7867.0, 6762.0, 6635.0, 6651.0, 6703.0, 6601.0, 6668.0, 6695.0, 6800.0, 6685.0, 6806.7, 357.714, 221.713], [13921.0, 13162.0, 12802.0, 13007.0, 12796.0, 12636.0, 12652.0, 12979.0, 13107.0, 12848.0, 12991.0, 352.582, 218.533]]}, \"columnwidth\": [40], \"header\": {\"values\": [\"Amostra\", \"Tempo(s)\", \"IPC\", \"Branch misses\", \"Cache misses\"]}, \"type\": \"table\", \"uid\": \"00de93c0-eadd-4f6e-8c78-e87562e7d8d4\"}], {\"font\": {\"color\": \"#7f7f7f\", \"family\": \"Courier New, monospace\", \"size\": 15}, \"height\": 800, \"title\": \"dep_i5\", \"width\": 1000}, {\"showLink\": true, \"linkText\": \"Export to plot.ly\"})});</script>"
      ]
     },
     "metadata": {},
     "output_type": "display_data"
    },
    {
     "name": "stdout",
     "output_type": "stream",
     "text": [
      "branch conf do teste branch_i5: 244.026\n"
     ]
    },
    {
     "data": {
      "application/vnd.plotly.v1+json": {
       "data": [
        {
         "cells": {
          "height": 40,
          "values": [
           [
            1,
            2,
            3,
            4,
            5,
            6,
            7,
            8,
            9,
            10,
            "Media",
            "Desvio padrao",
            "Intervalo de conf.(95%)+-"
           ],
           [
            0.87386,
            0.741079,
            0.740902,
            0.734185,
            0.777629,
            0.744889,
            0.749557,
            0.738433,
            0.76154,
            0.735831,
            0.76,
            0.04,
            0.025
           ],
           [
            1.21,
            1.34,
            1.34,
            1.35,
            1.31,
            1.32,
            1.32,
            1.34,
            1.34,
            1.34,
            1.321,
            0.039,
            0.024
           ],
           [
            23180,
            21897,
            21760,
            21926,
            21963,
            21818,
            21890,
            21895,
            21830,
            22036,
            22019.5,
            393.713,
            244.026
           ],
           [
            16011,
            14991,
            15128,
            15030,
            15603,
            14863,
            14885,
            15101,
            14841,
            14785,
            15123.8,
            369.26,
            228.87
           ]
          ]
         },
         "columnwidth": [
          40
         ],
         "header": {
          "values": [
           "Amostra",
           "Tempo(s)",
           "IPC",
           "Branch misses",
           "Cache misses"
          ]
         },
         "type": "table",
         "uid": "f8254b22-e57f-473f-a6c7-945b15d7ae1f"
        }
       ],
       "layout": {
        "font": {
         "color": "#7f7f7f",
         "family": "Courier New, monospace",
         "size": 15
        },
        "height": 800,
        "title": "branch_i5",
        "width": 1000
       }
      },
      "text/html": [
       "<div id=\"9668bf52-867f-4706-ac67-6be6585e14d3\" style=\"height: 800px; width: 1000px;\" class=\"plotly-graph-div\"></div><script type=\"text/javascript\">require([\"plotly\"], function(Plotly) { window.PLOTLYENV=window.PLOTLYENV || {};window.PLOTLYENV.BASE_URL=\"https://plot.ly\";Plotly.newPlot(\"9668bf52-867f-4706-ac67-6be6585e14d3\", [{\"cells\": {\"height\": 40, \"values\": [[1, 2, 3, 4, 5, 6, 7, 8, 9, 10, \"Media\", \"Desvio padrao\", \"Intervalo de conf.(95%)+-\"], [0.87386, 0.741079, 0.740902, 0.734185, 0.777629, 0.744889, 0.749557, 0.738433, 0.76154, 0.735831, 0.76, 0.04, 0.025], [1.21, 1.34, 1.34, 1.35, 1.31, 1.32, 1.32, 1.34, 1.34, 1.34, 1.321, 0.039, 0.024], [23180.0, 21897.0, 21760.0, 21926.0, 21963.0, 21818.0, 21890.0, 21895.0, 21830.0, 22036.0, 22019.5, 393.713, 244.026], [16011.0, 14991.0, 15128.0, 15030.0, 15603.0, 14863.0, 14885.0, 15101.0, 14841.0, 14785.0, 15123.8, 369.26, 228.87]]}, \"columnwidth\": [40], \"header\": {\"values\": [\"Amostra\", \"Tempo(s)\", \"IPC\", \"Branch misses\", \"Cache misses\"]}, \"type\": \"table\", \"uid\": \"f8254b22-e57f-473f-a6c7-945b15d7ae1f\"}], {\"font\": {\"color\": \"#7f7f7f\", \"family\": \"Courier New, monospace\", \"size\": 15}, \"height\": 800, \"title\": \"branch_i5\", \"width\": 1000}, {\"showLink\": true, \"linkText\": \"Export to plot.ly\"})});</script>"
      ],
      "text/vnd.plotly.v1+html": [
       "<div id=\"9668bf52-867f-4706-ac67-6be6585e14d3\" style=\"height: 800px; width: 1000px;\" class=\"plotly-graph-div\"></div><script type=\"text/javascript\">require([\"plotly\"], function(Plotly) { window.PLOTLYENV=window.PLOTLYENV || {};window.PLOTLYENV.BASE_URL=\"https://plot.ly\";Plotly.newPlot(\"9668bf52-867f-4706-ac67-6be6585e14d3\", [{\"cells\": {\"height\": 40, \"values\": [[1, 2, 3, 4, 5, 6, 7, 8, 9, 10, \"Media\", \"Desvio padrao\", \"Intervalo de conf.(95%)+-\"], [0.87386, 0.741079, 0.740902, 0.734185, 0.777629, 0.744889, 0.749557, 0.738433, 0.76154, 0.735831, 0.76, 0.04, 0.025], [1.21, 1.34, 1.34, 1.35, 1.31, 1.32, 1.32, 1.34, 1.34, 1.34, 1.321, 0.039, 0.024], [23180.0, 21897.0, 21760.0, 21926.0, 21963.0, 21818.0, 21890.0, 21895.0, 21830.0, 22036.0, 22019.5, 393.713, 244.026], [16011.0, 14991.0, 15128.0, 15030.0, 15603.0, 14863.0, 14885.0, 15101.0, 14841.0, 14785.0, 15123.8, 369.26, 228.87]]}, \"columnwidth\": [40], \"header\": {\"values\": [\"Amostra\", \"Tempo(s)\", \"IPC\", \"Branch misses\", \"Cache misses\"]}, \"type\": \"table\", \"uid\": \"f8254b22-e57f-473f-a6c7-945b15d7ae1f\"}], {\"font\": {\"color\": \"#7f7f7f\", \"family\": \"Courier New, monospace\", \"size\": 15}, \"height\": 800, \"title\": \"branch_i5\", \"width\": 1000}, {\"showLink\": true, \"linkText\": \"Export to plot.ly\"})});</script>"
      ]
     },
     "metadata": {},
     "output_type": "display_data"
    },
    {
     "name": "stdout",
     "output_type": "stream",
     "text": [
      "branch conf do teste branch_sort_i5: 286.026\n"
     ]
    },
    {
     "data": {
      "application/vnd.plotly.v1+json": {
       "data": [
        {
         "cells": {
          "height": 40,
          "values": [
           [
            1,
            2,
            3,
            4,
            5,
            6,
            7,
            8,
            9,
            10,
            "Media",
            "Desvio padrao",
            "Intervalo de conf.(95%)+-"
           ],
           [
            9.897961,
            9.899823,
            9.877013,
            9.945115,
            9.90574,
            9.887222,
            10.149869,
            9.932349,
            9.961555,
            9.788695,
            9.925,
            0.087,
            0.054
           ],
           [
            1.98,
            2,
            2,
            1.99,
            2,
            2,
            2,
            2,
            1.99,
            2,
            1.996,
            0.007,
            0.004
           ],
           [
            161183,
            159395,
            159950,
            159620,
            160256,
            159907,
            160241,
            159822,
            160257,
            160257,
            160088.8,
            461.477,
            286.026
           ],
           [
            25759,
            24794,
            24340,
            25048,
            24872,
            24552,
            24930,
            25143,
            24690,
            25040,
            24916.8,
            364.326,
            225.812
           ]
          ]
         },
         "columnwidth": [
          40
         ],
         "header": {
          "values": [
           "Amostra",
           "Tempo(s)",
           "IPC",
           "Branch misses",
           "Cache misses"
          ]
         },
         "type": "table",
         "uid": "bab424d8-5f1b-4d9c-a8e3-2028d1555bd0"
        }
       ],
       "layout": {
        "font": {
         "color": "#7f7f7f",
         "family": "Courier New, monospace",
         "size": 15
        },
        "height": 800,
        "title": "branch_sort_i5",
        "width": 1000
       }
      },
      "text/html": [
       "<div id=\"083c1e0f-6eba-48c1-94ef-71f14bcd521d\" style=\"height: 800px; width: 1000px;\" class=\"plotly-graph-div\"></div><script type=\"text/javascript\">require([\"plotly\"], function(Plotly) { window.PLOTLYENV=window.PLOTLYENV || {};window.PLOTLYENV.BASE_URL=\"https://plot.ly\";Plotly.newPlot(\"083c1e0f-6eba-48c1-94ef-71f14bcd521d\", [{\"cells\": {\"height\": 40, \"values\": [[1, 2, 3, 4, 5, 6, 7, 8, 9, 10, \"Media\", \"Desvio padrao\", \"Intervalo de conf.(95%)+-\"], [9.897961, 9.899823, 9.877013, 9.945115, 9.90574, 9.887222, 10.149869, 9.932349, 9.961555, 9.788695, 9.925, 0.087, 0.054], [1.98, 2.0, 2.0, 1.99, 2.0, 2.0, 2.0, 2.0, 1.99, 2.0, 1.996, 0.007, 0.004], [161183.0, 159395.0, 159950.0, 159620.0, 160256.0, 159907.0, 160241.0, 159822.0, 160257.0, 160257.0, 160088.8, 461.477, 286.026], [25759.0, 24794.0, 24340.0, 25048.0, 24872.0, 24552.0, 24930.0, 25143.0, 24690.0, 25040.0, 24916.8, 364.326, 225.812]]}, \"columnwidth\": [40], \"header\": {\"values\": [\"Amostra\", \"Tempo(s)\", \"IPC\", \"Branch misses\", \"Cache misses\"]}, \"type\": \"table\", \"uid\": \"bab424d8-5f1b-4d9c-a8e3-2028d1555bd0\"}], {\"font\": {\"color\": \"#7f7f7f\", \"family\": \"Courier New, monospace\", \"size\": 15}, \"height\": 800, \"title\": \"branch_sort_i5\", \"width\": 1000}, {\"showLink\": true, \"linkText\": \"Export to plot.ly\"})});</script>"
      ],
      "text/vnd.plotly.v1+html": [
       "<div id=\"083c1e0f-6eba-48c1-94ef-71f14bcd521d\" style=\"height: 800px; width: 1000px;\" class=\"plotly-graph-div\"></div><script type=\"text/javascript\">require([\"plotly\"], function(Plotly) { window.PLOTLYENV=window.PLOTLYENV || {};window.PLOTLYENV.BASE_URL=\"https://plot.ly\";Plotly.newPlot(\"083c1e0f-6eba-48c1-94ef-71f14bcd521d\", [{\"cells\": {\"height\": 40, \"values\": [[1, 2, 3, 4, 5, 6, 7, 8, 9, 10, \"Media\", \"Desvio padrao\", \"Intervalo de conf.(95%)+-\"], [9.897961, 9.899823, 9.877013, 9.945115, 9.90574, 9.887222, 10.149869, 9.932349, 9.961555, 9.788695, 9.925, 0.087, 0.054], [1.98, 2.0, 2.0, 1.99, 2.0, 2.0, 2.0, 2.0, 1.99, 2.0, 1.996, 0.007, 0.004], [161183.0, 159395.0, 159950.0, 159620.0, 160256.0, 159907.0, 160241.0, 159822.0, 160257.0, 160257.0, 160088.8, 461.477, 286.026], [25759.0, 24794.0, 24340.0, 25048.0, 24872.0, 24552.0, 24930.0, 25143.0, 24690.0, 25040.0, 24916.8, 364.326, 225.812]]}, \"columnwidth\": [40], \"header\": {\"values\": [\"Amostra\", \"Tempo(s)\", \"IPC\", \"Branch misses\", \"Cache misses\"]}, \"type\": \"table\", \"uid\": \"bab424d8-5f1b-4d9c-a8e3-2028d1555bd0\"}], {\"font\": {\"color\": \"#7f7f7f\", \"family\": \"Courier New, monospace\", \"size\": 15}, \"height\": 800, \"title\": \"branch_sort_i5\", \"width\": 1000}, {\"showLink\": true, \"linkText\": \"Export to plot.ly\"})});</script>"
      ]
     },
     "metadata": {},
     "output_type": "display_data"
    },
    {
     "name": "stdout",
     "output_type": "stream",
     "text": [
      "branch conf do teste int_mat_rasp: 417997.755\n"
     ]
    },
    {
     "data": {
      "application/vnd.plotly.v1+json": {
       "data": [
        {
         "cells": {
          "height": 40,
          "values": [
           [
            1,
            2,
            3,
            4,
            5,
            6,
            7,
            8,
            9,
            10,
            "Media",
            "Desvio padrao",
            "Intervalo de conf.(95%)+-"
           ],
           [
            94111.032533,
            93762.223844,
            93962.1391,
            96047.345699,
            96138.737535,
            96161.178352,
            96010.15175,
            95614.985329,
            96109.826443,
            96154.544565,
            95407.217,
            971.934,
            602.411
           ],
           [
            0.4,
            0.4,
            0.4,
            0.39,
            0.39,
            0.39,
            0.39,
            0.4,
            0.39,
            0.39,
            0.394,
            0.005,
            0.003
           ],
           [
            4116409,
            2845114,
            3552881,
            4729520,
            4508192,
            4537433,
            4129295,
            2855913,
            4554716,
            4550173,
            4037964.6,
            674400.491,
            417997.755
           ],
           [
            1232037271,
            1226432082,
            1229957253,
            1237041130,
            1235967561,
            1234259516,
            1233355388,
            1221014168,
            1233677931,
            1235616078,
            1231935837.8,
            4688408.534,
            2905905.715
           ]
          ]
         },
         "columnwidth": [
          40
         ],
         "header": {
          "values": [
           "Amostra",
           "Tempo(s)",
           "IPC",
           "Branch misses",
           "Cache misses"
          ]
         },
         "type": "table",
         "uid": "a64768ea-4ff6-4fc4-b930-c60066e1f66a"
        }
       ],
       "layout": {
        "font": {
         "color": "#7f7f7f",
         "family": "Courier New, monospace",
         "size": 15
        },
        "height": 800,
        "title": "int_mat_rasp",
        "width": 1000
       }
      },
      "text/html": [
       "<div id=\"1b3b9ac9-f89f-48a1-a300-9ce5b7de23c2\" style=\"height: 800px; width: 1000px;\" class=\"plotly-graph-div\"></div><script type=\"text/javascript\">require([\"plotly\"], function(Plotly) { window.PLOTLYENV=window.PLOTLYENV || {};window.PLOTLYENV.BASE_URL=\"https://plot.ly\";Plotly.newPlot(\"1b3b9ac9-f89f-48a1-a300-9ce5b7de23c2\", [{\"cells\": {\"height\": 40, \"values\": [[1, 2, 3, 4, 5, 6, 7, 8, 9, 10, \"Media\", \"Desvio padrao\", \"Intervalo de conf.(95%)+-\"], [94111.032533, 93762.223844, 93962.1391, 96047.345699, 96138.737535, 96161.178352, 96010.15175, 95614.985329, 96109.826443, 96154.544565, 95407.217, 971.934, 602.411], [0.4, 0.4, 0.4, 0.39, 0.39, 0.39, 0.39, 0.4, 0.39, 0.39, 0.394, 0.005, 0.003], [4116409.0, 2845114.0, 3552881.0, 4729520.0, 4508192.0, 4537433.0, 4129295.0, 2855913.0, 4554716.0, 4550173.0, 4037964.6, 674400.491, 417997.755], [1232037271.0, 1226432082.0, 1229957253.0, 1237041130.0, 1235967561.0, 1234259516.0, 1233355388.0, 1221014168.0, 1233677931.0, 1235616078.0, 1231935837.8, 4688408.534, 2905905.715]]}, \"columnwidth\": [40], \"header\": {\"values\": [\"Amostra\", \"Tempo(s)\", \"IPC\", \"Branch misses\", \"Cache misses\"]}, \"type\": \"table\", \"uid\": \"a64768ea-4ff6-4fc4-b930-c60066e1f66a\"}], {\"font\": {\"color\": \"#7f7f7f\", \"family\": \"Courier New, monospace\", \"size\": 15}, \"height\": 800, \"title\": \"int_mat_rasp\", \"width\": 1000}, {\"showLink\": true, \"linkText\": \"Export to plot.ly\"})});</script>"
      ],
      "text/vnd.plotly.v1+html": [
       "<div id=\"1b3b9ac9-f89f-48a1-a300-9ce5b7de23c2\" style=\"height: 800px; width: 1000px;\" class=\"plotly-graph-div\"></div><script type=\"text/javascript\">require([\"plotly\"], function(Plotly) { window.PLOTLYENV=window.PLOTLYENV || {};window.PLOTLYENV.BASE_URL=\"https://plot.ly\";Plotly.newPlot(\"1b3b9ac9-f89f-48a1-a300-9ce5b7de23c2\", [{\"cells\": {\"height\": 40, \"values\": [[1, 2, 3, 4, 5, 6, 7, 8, 9, 10, \"Media\", \"Desvio padrao\", \"Intervalo de conf.(95%)+-\"], [94111.032533, 93762.223844, 93962.1391, 96047.345699, 96138.737535, 96161.178352, 96010.15175, 95614.985329, 96109.826443, 96154.544565, 95407.217, 971.934, 602.411], [0.4, 0.4, 0.4, 0.39, 0.39, 0.39, 0.39, 0.4, 0.39, 0.39, 0.394, 0.005, 0.003], [4116409.0, 2845114.0, 3552881.0, 4729520.0, 4508192.0, 4537433.0, 4129295.0, 2855913.0, 4554716.0, 4550173.0, 4037964.6, 674400.491, 417997.755], [1232037271.0, 1226432082.0, 1229957253.0, 1237041130.0, 1235967561.0, 1234259516.0, 1233355388.0, 1221014168.0, 1233677931.0, 1235616078.0, 1231935837.8, 4688408.534, 2905905.715]]}, \"columnwidth\": [40], \"header\": {\"values\": [\"Amostra\", \"Tempo(s)\", \"IPC\", \"Branch misses\", \"Cache misses\"]}, \"type\": \"table\", \"uid\": \"a64768ea-4ff6-4fc4-b930-c60066e1f66a\"}], {\"font\": {\"color\": \"#7f7f7f\", \"family\": \"Courier New, monospace\", \"size\": 15}, \"height\": 800, \"title\": \"int_mat_rasp\", \"width\": 1000}, {\"showLink\": true, \"linkText\": \"Export to plot.ly\"})});</script>"
      ]
     },
     "metadata": {},
     "output_type": "display_data"
    },
    {
     "name": "stdout",
     "output_type": "stream",
     "text": [
      "branch conf do teste float_mat_rasp: 831247.14\n"
     ]
    },
    {
     "data": {
      "application/vnd.plotly.v1+json": {
       "data": [
        {
         "cells": {
          "height": 40,
          "values": [
           [
            1,
            2,
            3,
            4,
            5,
            6,
            7,
            8,
            9,
            10,
            "Media",
            "Desvio padrao",
            "Intervalo de conf.(95%)+-"
           ],
           [
            113173.107728,
            112063.731129,
            113034.061121,
            112680.872164,
            110987.721008,
            108319.134333,
            108285.407728,
            108299.222885,
            108283.678136,
            108340.623609,
            110346.756,
            2117.793,
            1312.622
           ],
           [
            0.34,
            0.34,
            0.34,
            0.34,
            0.34,
            0.35,
            0.35,
            0.35,
            0.35,
            0.35,
            0.345,
            0.005,
            0.003
           ],
           [
            5028912,
            1834209,
            5144674,
            3980138,
            2110130,
            1890324,
            1814128,
            1812657,
            1784086,
            1812382,
            2721164,
            1341139.929,
            831247.14
           ],
           [
            1490094941,
            1475729107,
            1492907675,
            1485285345,
            1475405810,
            1477264919,
            1475814502,
            1476802053,
            1476515423,
            1475959816,
            1480177959.1,
            6318009.845,
            3915943.072
           ]
          ]
         },
         "columnwidth": [
          40
         ],
         "header": {
          "values": [
           "Amostra",
           "Tempo(s)",
           "IPC",
           "Branch misses",
           "Cache misses"
          ]
         },
         "type": "table",
         "uid": "4d2d3836-5147-4854-aa77-f5e1065eb557"
        }
       ],
       "layout": {
        "font": {
         "color": "#7f7f7f",
         "family": "Courier New, monospace",
         "size": 15
        },
        "height": 800,
        "title": "float_mat_rasp",
        "width": 1000
       }
      },
      "text/html": [
       "<div id=\"cf1e4b99-37f9-46af-ad65-d26ea566880c\" style=\"height: 800px; width: 1000px;\" class=\"plotly-graph-div\"></div><script type=\"text/javascript\">require([\"plotly\"], function(Plotly) { window.PLOTLYENV=window.PLOTLYENV || {};window.PLOTLYENV.BASE_URL=\"https://plot.ly\";Plotly.newPlot(\"cf1e4b99-37f9-46af-ad65-d26ea566880c\", [{\"cells\": {\"height\": 40, \"values\": [[1, 2, 3, 4, 5, 6, 7, 8, 9, 10, \"Media\", \"Desvio padrao\", \"Intervalo de conf.(95%)+-\"], [113173.107728, 112063.731129, 113034.061121, 112680.872164, 110987.721008, 108319.134333, 108285.407728, 108299.222885, 108283.678136, 108340.623609, 110346.756, 2117.793, 1312.622], [0.34, 0.34, 0.34, 0.34, 0.34, 0.35, 0.35, 0.35, 0.35, 0.35, 0.345, 0.005, 0.003], [5028912.0, 1834209.0, 5144674.0, 3980138.0, 2110130.0, 1890324.0, 1814128.0, 1812657.0, 1784086.0, 1812382.0, 2721164.0, 1341139.929, 831247.14], [1490094941.0, 1475729107.0, 1492907675.0, 1485285345.0, 1475405810.0, 1477264919.0, 1475814502.0, 1476802053.0, 1476515423.0, 1475959816.0, 1480177959.1, 6318009.845, 3915943.072]]}, \"columnwidth\": [40], \"header\": {\"values\": [\"Amostra\", \"Tempo(s)\", \"IPC\", \"Branch misses\", \"Cache misses\"]}, \"type\": \"table\", \"uid\": \"4d2d3836-5147-4854-aa77-f5e1065eb557\"}], {\"font\": {\"color\": \"#7f7f7f\", \"family\": \"Courier New, monospace\", \"size\": 15}, \"height\": 800, \"title\": \"float_mat_rasp\", \"width\": 1000}, {\"showLink\": true, \"linkText\": \"Export to plot.ly\"})});</script>"
      ],
      "text/vnd.plotly.v1+html": [
       "<div id=\"cf1e4b99-37f9-46af-ad65-d26ea566880c\" style=\"height: 800px; width: 1000px;\" class=\"plotly-graph-div\"></div><script type=\"text/javascript\">require([\"plotly\"], function(Plotly) { window.PLOTLYENV=window.PLOTLYENV || {};window.PLOTLYENV.BASE_URL=\"https://plot.ly\";Plotly.newPlot(\"cf1e4b99-37f9-46af-ad65-d26ea566880c\", [{\"cells\": {\"height\": 40, \"values\": [[1, 2, 3, 4, 5, 6, 7, 8, 9, 10, \"Media\", \"Desvio padrao\", \"Intervalo de conf.(95%)+-\"], [113173.107728, 112063.731129, 113034.061121, 112680.872164, 110987.721008, 108319.134333, 108285.407728, 108299.222885, 108283.678136, 108340.623609, 110346.756, 2117.793, 1312.622], [0.34, 0.34, 0.34, 0.34, 0.34, 0.35, 0.35, 0.35, 0.35, 0.35, 0.345, 0.005, 0.003], [5028912.0, 1834209.0, 5144674.0, 3980138.0, 2110130.0, 1890324.0, 1814128.0, 1812657.0, 1784086.0, 1812382.0, 2721164.0, 1341139.929, 831247.14], [1490094941.0, 1475729107.0, 1492907675.0, 1485285345.0, 1475405810.0, 1477264919.0, 1475814502.0, 1476802053.0, 1476515423.0, 1475959816.0, 1480177959.1, 6318009.845, 3915943.072]]}, \"columnwidth\": [40], \"header\": {\"values\": [\"Amostra\", \"Tempo(s)\", \"IPC\", \"Branch misses\", \"Cache misses\"]}, \"type\": \"table\", \"uid\": \"4d2d3836-5147-4854-aa77-f5e1065eb557\"}], {\"font\": {\"color\": \"#7f7f7f\", \"family\": \"Courier New, monospace\", \"size\": 15}, \"height\": 800, \"title\": \"float_mat_rasp\", \"width\": 1000}, {\"showLink\": true, \"linkText\": \"Export to plot.ly\"})});</script>"
      ]
     },
     "metadata": {},
     "output_type": "display_data"
    },
    {
     "name": "stdout",
     "output_type": "stream",
     "text": [
      "branch conf do teste float_gauss_rasp: 122986.831\n"
     ]
    },
    {
     "data": {
      "application/vnd.plotly.v1+json": {
       "data": [
        {
         "cells": {
          "height": 40,
          "values": [
           [
            1,
            2,
            3,
            4,
            5,
            6,
            7,
            8,
            9,
            10,
            "Media",
            "Desvio padrao",
            "Intervalo de conf.(95%)+-"
           ],
           [
            6935.103514,
            7021.913972,
            6935.919291,
            6995.937933,
            7166.834433,
            7062.628154,
            7004.499338,
            6989.987002,
            6970.370491,
            7036.238358,
            7011.943,
            64.386,
            39.907
           ],
           [
            0.52,
            0.52,
            0.52,
            0.52,
            0.52,
            0.52,
            0.52,
            0.52,
            0.52,
            0.52,
            0.52,
            0,
            0
           ],
           [
            3858775,
            3578760,
            3625451,
            3587755,
            4189253,
            3899905,
            3648534,
            3560909,
            3535629,
            3831753,
            3731672.4,
            198427.811,
            122986.831
           ],
           [
            15912074,
            15811288,
            16028043,
            15801746,
            17025632,
            16381076,
            16217053,
            15745734,
            15790556,
            16651853,
            16136505.5,
            409240.637,
            253649.975
           ]
          ]
         },
         "columnwidth": [
          40
         ],
         "header": {
          "values": [
           "Amostra",
           "Tempo(s)",
           "IPC",
           "Branch misses",
           "Cache misses"
          ]
         },
         "type": "table",
         "uid": "9a37ae48-598d-4801-aa2b-60a41aa5d8e4"
        }
       ],
       "layout": {
        "font": {
         "color": "#7f7f7f",
         "family": "Courier New, monospace",
         "size": 15
        },
        "height": 800,
        "title": "float_gauss_rasp",
        "width": 1000
       }
      },
      "text/html": [
       "<div id=\"1ca43880-326f-4c81-889b-b685450d14bd\" style=\"height: 800px; width: 1000px;\" class=\"plotly-graph-div\"></div><script type=\"text/javascript\">require([\"plotly\"], function(Plotly) { window.PLOTLYENV=window.PLOTLYENV || {};window.PLOTLYENV.BASE_URL=\"https://plot.ly\";Plotly.newPlot(\"1ca43880-326f-4c81-889b-b685450d14bd\", [{\"cells\": {\"height\": 40, \"values\": [[1, 2, 3, 4, 5, 6, 7, 8, 9, 10, \"Media\", \"Desvio padrao\", \"Intervalo de conf.(95%)+-\"], [6935.103514, 7021.913972, 6935.919291, 6995.937933, 7166.834433, 7062.628154, 7004.499338, 6989.987002, 6970.370491, 7036.238358, 7011.943, 64.386, 39.907], [0.52, 0.52, 0.52, 0.52, 0.52, 0.52, 0.52, 0.52, 0.52, 0.52, 0.52, 0.0, 0.0], [3858775.0, 3578760.0, 3625451.0, 3587755.0, 4189253.0, 3899905.0, 3648534.0, 3560909.0, 3535629.0, 3831753.0, 3731672.4, 198427.811, 122986.831], [15912074.0, 15811288.0, 16028043.0, 15801746.0, 17025632.0, 16381076.0, 16217053.0, 15745734.0, 15790556.0, 16651853.0, 16136505.5, 409240.637, 253649.975]]}, \"columnwidth\": [40], \"header\": {\"values\": [\"Amostra\", \"Tempo(s)\", \"IPC\", \"Branch misses\", \"Cache misses\"]}, \"type\": \"table\", \"uid\": \"9a37ae48-598d-4801-aa2b-60a41aa5d8e4\"}], {\"font\": {\"color\": \"#7f7f7f\", \"family\": \"Courier New, monospace\", \"size\": 15}, \"height\": 800, \"title\": \"float_gauss_rasp\", \"width\": 1000}, {\"showLink\": true, \"linkText\": \"Export to plot.ly\"})});</script>"
      ],
      "text/vnd.plotly.v1+html": [
       "<div id=\"1ca43880-326f-4c81-889b-b685450d14bd\" style=\"height: 800px; width: 1000px;\" class=\"plotly-graph-div\"></div><script type=\"text/javascript\">require([\"plotly\"], function(Plotly) { window.PLOTLYENV=window.PLOTLYENV || {};window.PLOTLYENV.BASE_URL=\"https://plot.ly\";Plotly.newPlot(\"1ca43880-326f-4c81-889b-b685450d14bd\", [{\"cells\": {\"height\": 40, \"values\": [[1, 2, 3, 4, 5, 6, 7, 8, 9, 10, \"Media\", \"Desvio padrao\", \"Intervalo de conf.(95%)+-\"], [6935.103514, 7021.913972, 6935.919291, 6995.937933, 7166.834433, 7062.628154, 7004.499338, 6989.987002, 6970.370491, 7036.238358, 7011.943, 64.386, 39.907], [0.52, 0.52, 0.52, 0.52, 0.52, 0.52, 0.52, 0.52, 0.52, 0.52, 0.52, 0.0, 0.0], [3858775.0, 3578760.0, 3625451.0, 3587755.0, 4189253.0, 3899905.0, 3648534.0, 3560909.0, 3535629.0, 3831753.0, 3731672.4, 198427.811, 122986.831], [15912074.0, 15811288.0, 16028043.0, 15801746.0, 17025632.0, 16381076.0, 16217053.0, 15745734.0, 15790556.0, 16651853.0, 16136505.5, 409240.637, 253649.975]]}, \"columnwidth\": [40], \"header\": {\"values\": [\"Amostra\", \"Tempo(s)\", \"IPC\", \"Branch misses\", \"Cache misses\"]}, \"type\": \"table\", \"uid\": \"9a37ae48-598d-4801-aa2b-60a41aa5d8e4\"}], {\"font\": {\"color\": \"#7f7f7f\", \"family\": \"Courier New, monospace\", \"size\": 15}, \"height\": 800, \"title\": \"float_gauss_rasp\", \"width\": 1000}, {\"showLink\": true, \"linkText\": \"Export to plot.ly\"})});</script>"
      ]
     },
     "metadata": {},
     "output_type": "display_data"
    },
    {
     "name": "stdout",
     "output_type": "stream",
     "text": [
      "branch conf do teste dep_rasp: 227.348\n"
     ]
    },
    {
     "data": {
      "application/vnd.plotly.v1+json": {
       "data": [
        {
         "cells": {
          "height": 40,
          "values": [
           [
            1,
            2,
            3,
            4,
            5,
            6,
            7,
            8,
            9,
            10,
            "Media",
            "Desvio padrao",
            "Intervalo de conf.(95%)+-"
           ],
           [
            1.601926,
            1.542812,
            1.588125,
            1.538438,
            1.524011,
            1.511458,
            1.552812,
            1.483906,
            1.707813,
            1.70151,
            1.575,
            0.072,
            0.045
           ],
           [
            0.34,
            0.35,
            0.39,
            0.35,
            0.35,
            0.35,
            0.36,
            0.35,
            0.45,
            0.57,
            0.386,
            0.069,
            0.043
           ],
           [
            11388,
            10944,
            11400,
            10931,
            10899,
            11018,
            11152,
            11119,
            12035,
            11790,
            11267.6,
            366.805,
            227.348
           ],
           [
            6382,
            6290,
            6438,
            6128,
            6189,
            6034,
            6452,
            6131,
            6841,
            6664,
            6354.9,
            241.915,
            149.94
           ]
          ]
         },
         "columnwidth": [
          40
         ],
         "header": {
          "values": [
           "Amostra",
           "Tempo(s)",
           "IPC",
           "Branch misses",
           "Cache misses"
          ]
         },
         "type": "table",
         "uid": "c33d6ebd-f229-4795-8ef2-9512c5e49138"
        }
       ],
       "layout": {
        "font": {
         "color": "#7f7f7f",
         "family": "Courier New, monospace",
         "size": 15
        },
        "height": 800,
        "title": "dep_rasp",
        "width": 1000
       }
      },
      "text/html": [
       "<div id=\"47af9279-d3d4-4d40-a2e3-3a5b62d0fb09\" style=\"height: 800px; width: 1000px;\" class=\"plotly-graph-div\"></div><script type=\"text/javascript\">require([\"plotly\"], function(Plotly) { window.PLOTLYENV=window.PLOTLYENV || {};window.PLOTLYENV.BASE_URL=\"https://plot.ly\";Plotly.newPlot(\"47af9279-d3d4-4d40-a2e3-3a5b62d0fb09\", [{\"cells\": {\"height\": 40, \"values\": [[1, 2, 3, 4, 5, 6, 7, 8, 9, 10, \"Media\", \"Desvio padrao\", \"Intervalo de conf.(95%)+-\"], [1.601926, 1.542812, 1.588125, 1.538438, 1.524011, 1.511458, 1.552812, 1.483906, 1.707813, 1.70151, 1.575, 0.072, 0.045], [0.34, 0.35, 0.39, 0.35, 0.35, 0.35, 0.36, 0.35, 0.45, 0.57, 0.386, 0.069, 0.043], [11388.0, 10944.0, 11400.0, 10931.0, 10899.0, 11018.0, 11152.0, 11119.0, 12035.0, 11790.0, 11267.6, 366.805, 227.348], [6382.0, 6290.0, 6438.0, 6128.0, 6189.0, 6034.0, 6452.0, 6131.0, 6841.0, 6664.0, 6354.9, 241.915, 149.94]]}, \"columnwidth\": [40], \"header\": {\"values\": [\"Amostra\", \"Tempo(s)\", \"IPC\", \"Branch misses\", \"Cache misses\"]}, \"type\": \"table\", \"uid\": \"c33d6ebd-f229-4795-8ef2-9512c5e49138\"}], {\"font\": {\"color\": \"#7f7f7f\", \"family\": \"Courier New, monospace\", \"size\": 15}, \"height\": 800, \"title\": \"dep_rasp\", \"width\": 1000}, {\"showLink\": true, \"linkText\": \"Export to plot.ly\"})});</script>"
      ],
      "text/vnd.plotly.v1+html": [
       "<div id=\"47af9279-d3d4-4d40-a2e3-3a5b62d0fb09\" style=\"height: 800px; width: 1000px;\" class=\"plotly-graph-div\"></div><script type=\"text/javascript\">require([\"plotly\"], function(Plotly) { window.PLOTLYENV=window.PLOTLYENV || {};window.PLOTLYENV.BASE_URL=\"https://plot.ly\";Plotly.newPlot(\"47af9279-d3d4-4d40-a2e3-3a5b62d0fb09\", [{\"cells\": {\"height\": 40, \"values\": [[1, 2, 3, 4, 5, 6, 7, 8, 9, 10, \"Media\", \"Desvio padrao\", \"Intervalo de conf.(95%)+-\"], [1.601926, 1.542812, 1.588125, 1.538438, 1.524011, 1.511458, 1.552812, 1.483906, 1.707813, 1.70151, 1.575, 0.072, 0.045], [0.34, 0.35, 0.39, 0.35, 0.35, 0.35, 0.36, 0.35, 0.45, 0.57, 0.386, 0.069, 0.043], [11388.0, 10944.0, 11400.0, 10931.0, 10899.0, 11018.0, 11152.0, 11119.0, 12035.0, 11790.0, 11267.6, 366.805, 227.348], [6382.0, 6290.0, 6438.0, 6128.0, 6189.0, 6034.0, 6452.0, 6131.0, 6841.0, 6664.0, 6354.9, 241.915, 149.94]]}, \"columnwidth\": [40], \"header\": {\"values\": [\"Amostra\", \"Tempo(s)\", \"IPC\", \"Branch misses\", \"Cache misses\"]}, \"type\": \"table\", \"uid\": \"c33d6ebd-f229-4795-8ef2-9512c5e49138\"}], {\"font\": {\"color\": \"#7f7f7f\", \"family\": \"Courier New, monospace\", \"size\": 15}, \"height\": 800, \"title\": \"dep_rasp\", \"width\": 1000}, {\"showLink\": true, \"linkText\": \"Export to plot.ly\"})});</script>"
      ]
     },
     "metadata": {},
     "output_type": "display_data"
    },
    {
     "name": "stdout",
     "output_type": "stream",
     "text": [
      "branch conf do teste branch_rasp: 124.774\n"
     ]
    },
    {
     "data": {
      "application/vnd.plotly.v1+json": {
       "data": [
        {
         "cells": {
          "height": 40,
          "values": [
           [
            1,
            2,
            3,
            4,
            5,
            6,
            7,
            8,
            9,
            10,
            "Media",
            "Desvio padrao",
            "Intervalo de conf.(95%)+-"
           ],
           [
            9.712344,
            9.991823,
            4.880573,
            4.966771,
            4.856823,
            4.829532,
            4.94875,
            4.87625,
            4.971875,
            4.893125,
            5.893,
            1.981,
            1.228
           ],
           [
            1.29,
            3.6,
            0.71,
            6.26,
            0.71,
            0.71,
            1.48,
            0.71,
            1.7,
            0.71,
            1.788,
            1.716,
            1.064
           ],
           [
            26576,
            26237,
            25958,
            26433,
            26062,
            25877,
            26156,
            26303,
            26322,
            26239,
            26216.3,
            201.312,
            124.774
           ],
           [
            6823,
            6325,
            6056,
            6226,
            6039,
            5880,
            6482,
            6232,
            6526,
            6261,
            6285,
            259.188,
            160.646
           ]
          ]
         },
         "columnwidth": [
          40
         ],
         "header": {
          "values": [
           "Amostra",
           "Tempo(s)",
           "IPC",
           "Branch misses",
           "Cache misses"
          ]
         },
         "type": "table",
         "uid": "66081112-e9fc-42f0-8606-3e165afea289"
        }
       ],
       "layout": {
        "font": {
         "color": "#7f7f7f",
         "family": "Courier New, monospace",
         "size": 15
        },
        "height": 800,
        "title": "branch_rasp",
        "width": 1000
       }
      },
      "text/html": [
       "<div id=\"aaa50602-b334-4056-a889-1bf4eaad0854\" style=\"height: 800px; width: 1000px;\" class=\"plotly-graph-div\"></div><script type=\"text/javascript\">require([\"plotly\"], function(Plotly) { window.PLOTLYENV=window.PLOTLYENV || {};window.PLOTLYENV.BASE_URL=\"https://plot.ly\";Plotly.newPlot(\"aaa50602-b334-4056-a889-1bf4eaad0854\", [{\"cells\": {\"height\": 40, \"values\": [[1, 2, 3, 4, 5, 6, 7, 8, 9, 10, \"Media\", \"Desvio padrao\", \"Intervalo de conf.(95%)+-\"], [9.712344, 9.991823, 4.880573, 4.966771, 4.856823, 4.829532, 4.94875, 4.87625, 4.971875, 4.893125, 5.893, 1.981, 1.228], [1.29, 3.6, 0.71, 6.26, 0.71, 0.71, 1.48, 0.71, 1.7, 0.71, 1.788, 1.716, 1.064], [26576.0, 26237.0, 25958.0, 26433.0, 26062.0, 25877.0, 26156.0, 26303.0, 26322.0, 26239.0, 26216.3, 201.312, 124.774], [6823.0, 6325.0, 6056.0, 6226.0, 6039.0, 5880.0, 6482.0, 6232.0, 6526.0, 6261.0, 6285.0, 259.188, 160.646]]}, \"columnwidth\": [40], \"header\": {\"values\": [\"Amostra\", \"Tempo(s)\", \"IPC\", \"Branch misses\", \"Cache misses\"]}, \"type\": \"table\", \"uid\": \"66081112-e9fc-42f0-8606-3e165afea289\"}], {\"font\": {\"color\": \"#7f7f7f\", \"family\": \"Courier New, monospace\", \"size\": 15}, \"height\": 800, \"title\": \"branch_rasp\", \"width\": 1000}, {\"showLink\": true, \"linkText\": \"Export to plot.ly\"})});</script>"
      ],
      "text/vnd.plotly.v1+html": [
       "<div id=\"aaa50602-b334-4056-a889-1bf4eaad0854\" style=\"height: 800px; width: 1000px;\" class=\"plotly-graph-div\"></div><script type=\"text/javascript\">require([\"plotly\"], function(Plotly) { window.PLOTLYENV=window.PLOTLYENV || {};window.PLOTLYENV.BASE_URL=\"https://plot.ly\";Plotly.newPlot(\"aaa50602-b334-4056-a889-1bf4eaad0854\", [{\"cells\": {\"height\": 40, \"values\": [[1, 2, 3, 4, 5, 6, 7, 8, 9, 10, \"Media\", \"Desvio padrao\", \"Intervalo de conf.(95%)+-\"], [9.712344, 9.991823, 4.880573, 4.966771, 4.856823, 4.829532, 4.94875, 4.87625, 4.971875, 4.893125, 5.893, 1.981, 1.228], [1.29, 3.6, 0.71, 6.26, 0.71, 0.71, 1.48, 0.71, 1.7, 0.71, 1.788, 1.716, 1.064], [26576.0, 26237.0, 25958.0, 26433.0, 26062.0, 25877.0, 26156.0, 26303.0, 26322.0, 26239.0, 26216.3, 201.312, 124.774], [6823.0, 6325.0, 6056.0, 6226.0, 6039.0, 5880.0, 6482.0, 6232.0, 6526.0, 6261.0, 6285.0, 259.188, 160.646]]}, \"columnwidth\": [40], \"header\": {\"values\": [\"Amostra\", \"Tempo(s)\", \"IPC\", \"Branch misses\", \"Cache misses\"]}, \"type\": \"table\", \"uid\": \"66081112-e9fc-42f0-8606-3e165afea289\"}], {\"font\": {\"color\": \"#7f7f7f\", \"family\": \"Courier New, monospace\", \"size\": 15}, \"height\": 800, \"title\": \"branch_rasp\", \"width\": 1000}, {\"showLink\": true, \"linkText\": \"Export to plot.ly\"})});</script>"
      ]
     },
     "metadata": {},
     "output_type": "display_data"
    },
    {
     "name": "stdout",
     "output_type": "stream",
     "text": [
      "branch conf do teste branch_sort_rasp: 3818.879\n"
     ]
    },
    {
     "data": {
      "application/vnd.plotly.v1+json": {
       "data": [
        {
         "cells": {
          "height": 40,
          "values": [
           [
            1,
            2,
            3,
            4,
            5,
            6,
            7,
            8,
            9,
            10,
            "Media",
            "Desvio padrao",
            "Intervalo de conf.(95%)+-"
           ],
           [
            109.841823,
            77.480208,
            77.209948,
            77.657085,
            77.822292,
            90.047969,
            77.616718,
            79.297968,
            77.817291,
            77.232032,
            82.202,
            9.93,
            6.155
           ],
           [
            0.74,
            0.74,
            0.75,
            0.74,
            0.74,
            0.78,
            0.74,
            0.73,
            0.74,
            0.75,
            0.745,
            0.013,
            0.008
           ],
           [
            212354,
            201754,
            217330,
            205077,
            205787,
            198791,
            201749,
            203065,
            216751,
            204369,
            206702.7,
            6161.406,
            3818.879
           ],
           [
            10929,
            12588,
            10999,
            12820,
            14628,
            11358,
            12263,
            13682,
            13577,
            11007,
            12385.1,
            1239.919,
            768.51
           ]
          ]
         },
         "columnwidth": [
          40
         ],
         "header": {
          "values": [
           "Amostra",
           "Tempo(s)",
           "IPC",
           "Branch misses",
           "Cache misses"
          ]
         },
         "type": "table",
         "uid": "de40a06a-143f-4e06-a300-1ccfbec01901"
        }
       ],
       "layout": {
        "font": {
         "color": "#7f7f7f",
         "family": "Courier New, monospace",
         "size": 15
        },
        "height": 800,
        "title": "branch_sort_rasp",
        "width": 1000
       }
      },
      "text/html": [
       "<div id=\"3e77f9a2-d4a7-4a12-b2e3-3a0ec919b5dc\" style=\"height: 800px; width: 1000px;\" class=\"plotly-graph-div\"></div><script type=\"text/javascript\">require([\"plotly\"], function(Plotly) { window.PLOTLYENV=window.PLOTLYENV || {};window.PLOTLYENV.BASE_URL=\"https://plot.ly\";Plotly.newPlot(\"3e77f9a2-d4a7-4a12-b2e3-3a0ec919b5dc\", [{\"cells\": {\"height\": 40, \"values\": [[1, 2, 3, 4, 5, 6, 7, 8, 9, 10, \"Media\", \"Desvio padrao\", \"Intervalo de conf.(95%)+-\"], [109.841823, 77.480208, 77.209948, 77.657085, 77.822292, 90.047969, 77.616718, 79.297968, 77.817291, 77.232032, 82.202, 9.93, 6.155], [0.74, 0.74, 0.75, 0.74, 0.74, 0.78, 0.74, 0.73, 0.74, 0.75, 0.745, 0.013, 0.008], [212354.0, 201754.0, 217330.0, 205077.0, 205787.0, 198791.0, 201749.0, 203065.0, 216751.0, 204369.0, 206702.7, 6161.406, 3818.879], [10929.0, 12588.0, 10999.0, 12820.0, 14628.0, 11358.0, 12263.0, 13682.0, 13577.0, 11007.0, 12385.1, 1239.919, 768.51]]}, \"columnwidth\": [40], \"header\": {\"values\": [\"Amostra\", \"Tempo(s)\", \"IPC\", \"Branch misses\", \"Cache misses\"]}, \"type\": \"table\", \"uid\": \"de40a06a-143f-4e06-a300-1ccfbec01901\"}], {\"font\": {\"color\": \"#7f7f7f\", \"family\": \"Courier New, monospace\", \"size\": 15}, \"height\": 800, \"title\": \"branch_sort_rasp\", \"width\": 1000}, {\"showLink\": true, \"linkText\": \"Export to plot.ly\"})});</script>"
      ],
      "text/vnd.plotly.v1+html": [
       "<div id=\"3e77f9a2-d4a7-4a12-b2e3-3a0ec919b5dc\" style=\"height: 800px; width: 1000px;\" class=\"plotly-graph-div\"></div><script type=\"text/javascript\">require([\"plotly\"], function(Plotly) { window.PLOTLYENV=window.PLOTLYENV || {};window.PLOTLYENV.BASE_URL=\"https://plot.ly\";Plotly.newPlot(\"3e77f9a2-d4a7-4a12-b2e3-3a0ec919b5dc\", [{\"cells\": {\"height\": 40, \"values\": [[1, 2, 3, 4, 5, 6, 7, 8, 9, 10, \"Media\", \"Desvio padrao\", \"Intervalo de conf.(95%)+-\"], [109.841823, 77.480208, 77.209948, 77.657085, 77.822292, 90.047969, 77.616718, 79.297968, 77.817291, 77.232032, 82.202, 9.93, 6.155], [0.74, 0.74, 0.75, 0.74, 0.74, 0.78, 0.74, 0.73, 0.74, 0.75, 0.745, 0.013, 0.008], [212354.0, 201754.0, 217330.0, 205077.0, 205787.0, 198791.0, 201749.0, 203065.0, 216751.0, 204369.0, 206702.7, 6161.406, 3818.879], [10929.0, 12588.0, 10999.0, 12820.0, 14628.0, 11358.0, 12263.0, 13682.0, 13577.0, 11007.0, 12385.1, 1239.919, 768.51]]}, \"columnwidth\": [40], \"header\": {\"values\": [\"Amostra\", \"Tempo(s)\", \"IPC\", \"Branch misses\", \"Cache misses\"]}, \"type\": \"table\", \"uid\": \"de40a06a-143f-4e06-a300-1ccfbec01901\"}], {\"font\": {\"color\": \"#7f7f7f\", \"family\": \"Courier New, monospace\", \"size\": 15}, \"height\": 800, \"title\": \"branch_sort_rasp\", \"width\": 1000}, {\"showLink\": true, \"linkText\": \"Export to plot.ly\"})});</script>"
      ]
     },
     "metadata": {},
     "output_type": "display_data"
    }
   ],
   "source": [
    "def confidence(avg, std, size):\n",
    "    return 1.96*std/math.sqrt(size)\n",
    "\n",
    "def plot_tables():\n",
    "    avgs = dict()\n",
    "    stds = dict()\n",
    "    confs = dict()\n",
    "\n",
    "    for test, data in test_results.items():\n",
    "        clock_data = np.array([])\n",
    "        icp_data = np.array([])\n",
    "        branch_data = np.array([])\n",
    "        cache_data = np.array([])\n",
    "\n",
    "        #print('teste: {}'.format(test))\n",
    "        for results in test_results[test]:\n",
    "            clock_data = np.append(clock_data, results['clock'])\n",
    "            icp_data = np.append(icp_data, results['icp'])\n",
    "            branch_data = np.append(branch_data, results['branch_misses'])\n",
    "            cache_data = np.append(cache_data, results['cache_misses'])\n",
    "            #print(results)\n",
    "        #print('clock data', clock_data)\n",
    "        clock_avg = round(np.average(clock_data),3)\n",
    "        clock_std = round(np.std(clock_data),3)\n",
    "        clock_conf = round(confidence(clock_avg, clock_std, 10),3)\n",
    "        #print('clock avg {} clock std {} confidence {}\\n'.format(clock_avg, clock_std, clock_conf))\n",
    "        clock_data = np.append(clock_data, clock_avg)\n",
    "        clock_data = np.append(clock_data, clock_std)\n",
    "        clock_data = np.append(clock_data, clock_conf)\n",
    "\n",
    "\n",
    "        #print('icp data ', icp_data)\n",
    "        icp_avg = round(np.average(icp_data),3)\n",
    "        icp_std = round(np.std(icp_data),3)\n",
    "        icp_conf = round(confidence(icp_avg, icp_std, 10),3)\n",
    "        #print('icp avg {} icp std {} icp conf {} \\n'.format(icp_avg, icp_std, icp_conf))\n",
    "        icp_data = np.append(icp_data, icp_avg)\n",
    "        icp_data = np.append(icp_data, icp_std)\n",
    "        icp_data = np.append(icp_data, icp_conf)\n",
    "\n",
    "        #print('branch data', branch_data)\n",
    "        branch_avg = round(np.average(branch_data),3)\n",
    "        branch_std = round(np.std(branch_data),3)\n",
    "        branch_conf = round(confidence(branch_avg, branch_std, 10),3)\n",
    "        print('branch conf do teste {}: {}'.format(test, branch_conf))\n",
    "        #print('branch avg {} branch std {} branch conf {}\\n'.format(branch_avg, branch_std, branch_conf))\n",
    "        branch_data = np.append(branch_data, branch_avg)\n",
    "        branch_data = np.append(branch_data, branch_std)\n",
    "        branch_data = np.append(branch_data, branch_conf)\n",
    "\n",
    "        #print('cache data', cache_data)\n",
    "        cache_avg = round(np.average(cache_data), 3)\n",
    "        cache_std = round(np.std(cache_data), 3)\n",
    "        cache_conf = round(confidence(cache_avg, cache_std, 10), 3)\n",
    "        #print('cache avg {} cache std {} cache conf {}\\n'.format(cache_avg, cache_std, cache_conf))\n",
    "        cache_data = np.append(cache_data, cache_avg)\n",
    "        cache_data = np.append(cache_data, cache_std)\n",
    "        cache_data = np.append(cache_data, cache_conf)\n",
    "\n",
    "        index_cells = [i for i in range(1,11)]\n",
    "        index_cells.append('Media')\n",
    "        index_cells.append('Desvio padrao')\n",
    "        index_cells.append('Intervalo de conf.(95%)+-')\n",
    "        cells = [index_cells,clock_data, icp_data, branch_data, cache_data]\n",
    "        columns = ['Amostra','Tempo(s)','IPC', 'Branch misses', 'Cache misses']\n",
    "\n",
    "        layout = go.Layout(\n",
    "            title=test,\n",
    "            font=dict(family='Courier New, monospace', size=15, color='#7f7f7f'),\n",
    "            width=1000,\n",
    "            height=800\n",
    "        )\n",
    "        trace = go.Table(\n",
    "            columnwidth = [40],\n",
    "            header=dict(values=columns),\n",
    "            cells=dict(values=cells, height=40)\n",
    "        )\n",
    "        data = [trace]\n",
    "        figure = go.Figure(layout=layout, data=data)\n",
    "        iplot(figure)\n",
    "\n",
    "        avgs[test] = dict()\n",
    "        avgs[test]['clock'] = clock_avg\n",
    "        avgs[test]['ipc'] = icp_avg\n",
    "        avgs[test]['branch'] = branch_avg\n",
    "        avgs[test]['cache'] = cache_avg\n",
    "\n",
    "        confs[test] = dict()\n",
    "        confs[test]['clock'] = clock_conf\n",
    "        confs[test]['ipc'] = icp_conf\n",
    "        confs[test]['branch'] = branch_conf\n",
    "        confs[test]['cache'] = cache_conf\n",
    "        #print('------------------')\n",
    "        pio.write_image(figure, 'images/{}.jpeg'.format(test))\n",
    "        #print(avgs)\n",
    "    return avgs, confs\n",
    "\n",
    "\n",
    "\n",
    "avgs, confs = plot_tables()"
   ]
  },
  {
   "cell_type": "code",
   "execution_count": 3,
   "metadata": {},
   "outputs": [
    {
     "name": "stdout",
     "output_type": "stream",
     "text": [
      "[21.978, 602.411]\n",
      "[0.009, 0.003]\n",
      "[2064401.332, 2905905.715]\n",
      "[370.042, 417997.755]\n"
     ]
    },
    {
     "data": {
      "application/vnd.plotly.v1+json": {
       "data": [
        {
         "error_y": {
          "array": [
           21.978,
           602.411
          ],
          "type": "data",
          "visible": true
         },
         "mode": "markers",
         "type": "scatter",
         "uid": "487791e8-14e2-46bd-a001-b005954b60e4",
         "x": [
          "Core i5",
          "ARM"
         ],
         "y": [
          5530.805,
          95407.217
         ]
        }
       ],
       "layout": {
        "title": "Intel Core i5 vs ARM Cortex A7 - Tempo (Multiplicação de inteiros)"
       }
      },
      "text/html": [
       "<div id=\"abd63cca-4cac-443f-9fb4-0ceef3bcb062\" style=\"height: 525px; width: 100%;\" class=\"plotly-graph-div\"></div><script type=\"text/javascript\">require([\"plotly\"], function(Plotly) { window.PLOTLYENV=window.PLOTLYENV || {};window.PLOTLYENV.BASE_URL=\"https://plot.ly\";Plotly.newPlot(\"abd63cca-4cac-443f-9fb4-0ceef3bcb062\", [{\"error_y\": {\"array\": [21.978, 602.411], \"type\": \"data\", \"visible\": true}, \"mode\": \"markers\", \"x\": [\"Core i5\", \"ARM\"], \"y\": [5530.805, 95407.217], \"type\": \"scatter\", \"uid\": \"487791e8-14e2-46bd-a001-b005954b60e4\"}], {\"title\": \"Intel Core i5 vs ARM Cortex A7 - Tempo (Multiplica\\u00e7\\u00e3o de inteiros)\"}, {\"showLink\": true, \"linkText\": \"Export to plot.ly\"})});</script><script type=\"text/javascript\">window.addEventListener(\"resize\", function(){window._Plotly.Plots.resize(document.getElementById(\"abd63cca-4cac-443f-9fb4-0ceef3bcb062\"));});</script>"
      ],
      "text/vnd.plotly.v1+html": [
       "<div id=\"abd63cca-4cac-443f-9fb4-0ceef3bcb062\" style=\"height: 525px; width: 100%;\" class=\"plotly-graph-div\"></div><script type=\"text/javascript\">require([\"plotly\"], function(Plotly) { window.PLOTLYENV=window.PLOTLYENV || {};window.PLOTLYENV.BASE_URL=\"https://plot.ly\";Plotly.newPlot(\"abd63cca-4cac-443f-9fb4-0ceef3bcb062\", [{\"error_y\": {\"array\": [21.978, 602.411], \"type\": \"data\", \"visible\": true}, \"mode\": \"markers\", \"x\": [\"Core i5\", \"ARM\"], \"y\": [5530.805, 95407.217], \"type\": \"scatter\", \"uid\": \"487791e8-14e2-46bd-a001-b005954b60e4\"}], {\"title\": \"Intel Core i5 vs ARM Cortex A7 - Tempo (Multiplica\\u00e7\\u00e3o de inteiros)\"}, {\"showLink\": true, \"linkText\": \"Export to plot.ly\"})});</script><script type=\"text/javascript\">window.addEventListener(\"resize\", function(){window._Plotly.Plots.resize(document.getElementById(\"abd63cca-4cac-443f-9fb4-0ceef3bcb062\"));});</script>"
      ]
     },
     "metadata": {},
     "output_type": "display_data"
    },
    {
     "data": {
      "application/vnd.plotly.v1+json": {
       "data": [
        {
         "error_y": {
          "array": [
           0.009,
           0.003
          ],
          "type": "data",
          "visible": true
         },
         "mode": "markers",
         "type": "scatter",
         "uid": "09d9e6dc-4ca8-4d2e-8f2d-096d8dffdfb0",
         "x": [
          "Core i5",
          "ARM"
         ],
         "y": [
          2.613,
          0.394
         ]
        }
       ],
       "layout": {
        "title": "Intel Core i5 vs ARM Cortex A7 - IPC (Multiplicação de inteiros)"
       }
      },
      "text/html": [
       "<div id=\"ea166374-1f57-4d40-81c0-f6127d02f772\" style=\"height: 525px; width: 100%;\" class=\"plotly-graph-div\"></div><script type=\"text/javascript\">require([\"plotly\"], function(Plotly) { window.PLOTLYENV=window.PLOTLYENV || {};window.PLOTLYENV.BASE_URL=\"https://plot.ly\";Plotly.newPlot(\"ea166374-1f57-4d40-81c0-f6127d02f772\", [{\"error_y\": {\"array\": [0.009, 0.003], \"type\": \"data\", \"visible\": true}, \"mode\": \"markers\", \"x\": [\"Core i5\", \"ARM\"], \"y\": [2.613, 0.394], \"type\": \"scatter\", \"uid\": \"09d9e6dc-4ca8-4d2e-8f2d-096d8dffdfb0\"}], {\"title\": \"Intel Core i5 vs ARM Cortex A7 - IPC (Multiplica\\u00e7\\u00e3o de inteiros)\"}, {\"showLink\": true, \"linkText\": \"Export to plot.ly\"})});</script><script type=\"text/javascript\">window.addEventListener(\"resize\", function(){window._Plotly.Plots.resize(document.getElementById(\"ea166374-1f57-4d40-81c0-f6127d02f772\"));});</script>"
      ],
      "text/vnd.plotly.v1+html": [
       "<div id=\"ea166374-1f57-4d40-81c0-f6127d02f772\" style=\"height: 525px; width: 100%;\" class=\"plotly-graph-div\"></div><script type=\"text/javascript\">require([\"plotly\"], function(Plotly) { window.PLOTLYENV=window.PLOTLYENV || {};window.PLOTLYENV.BASE_URL=\"https://plot.ly\";Plotly.newPlot(\"ea166374-1f57-4d40-81c0-f6127d02f772\", [{\"error_y\": {\"array\": [0.009, 0.003], \"type\": \"data\", \"visible\": true}, \"mode\": \"markers\", \"x\": [\"Core i5\", \"ARM\"], \"y\": [2.613, 0.394], \"type\": \"scatter\", \"uid\": \"09d9e6dc-4ca8-4d2e-8f2d-096d8dffdfb0\"}], {\"title\": \"Intel Core i5 vs ARM Cortex A7 - IPC (Multiplica\\u00e7\\u00e3o de inteiros)\"}, {\"showLink\": true, \"linkText\": \"Export to plot.ly\"})});</script><script type=\"text/javascript\">window.addEventListener(\"resize\", function(){window._Plotly.Plots.resize(document.getElementById(\"ea166374-1f57-4d40-81c0-f6127d02f772\"));});</script>"
      ]
     },
     "metadata": {},
     "output_type": "display_data"
    },
    {
     "data": {
      "application/vnd.plotly.v1+json": {
       "data": [
        {
         "error_y": {
          "array": [
           370.042,
           417997.755
          ],
          "type": "data",
          "visible": true
         },
         "mode": "markers",
         "type": "scatter",
         "uid": "98dbe706-a8eb-4370-9423-8b6fcd4321e7",
         "x": [
          "Core i5",
          "ARM"
         ],
         "y": [
          1040972.8,
          4037964.6
         ]
        }
       ],
       "layout": {
        "title": "Intel Core i5 vs ARM Cortex A7 - Branch misses (Multiplicação de inteiros)"
       }
      },
      "text/html": [
       "<div id=\"22c843a8-5793-4501-b9c9-e54ccc1323d5\" style=\"height: 525px; width: 100%;\" class=\"plotly-graph-div\"></div><script type=\"text/javascript\">require([\"plotly\"], function(Plotly) { window.PLOTLYENV=window.PLOTLYENV || {};window.PLOTLYENV.BASE_URL=\"https://plot.ly\";Plotly.newPlot(\"22c843a8-5793-4501-b9c9-e54ccc1323d5\", [{\"error_y\": {\"array\": [370.042, 417997.755], \"type\": \"data\", \"visible\": true}, \"mode\": \"markers\", \"x\": [\"Core i5\", \"ARM\"], \"y\": [1040972.8, 4037964.6], \"type\": \"scatter\", \"uid\": \"98dbe706-a8eb-4370-9423-8b6fcd4321e7\"}], {\"title\": \"Intel Core i5 vs ARM Cortex A7 - Branch misses (Multiplica\\u00e7\\u00e3o de inteiros)\"}, {\"showLink\": true, \"linkText\": \"Export to plot.ly\"})});</script><script type=\"text/javascript\">window.addEventListener(\"resize\", function(){window._Plotly.Plots.resize(document.getElementById(\"22c843a8-5793-4501-b9c9-e54ccc1323d5\"));});</script>"
      ],
      "text/vnd.plotly.v1+html": [
       "<div id=\"22c843a8-5793-4501-b9c9-e54ccc1323d5\" style=\"height: 525px; width: 100%;\" class=\"plotly-graph-div\"></div><script type=\"text/javascript\">require([\"plotly\"], function(Plotly) { window.PLOTLYENV=window.PLOTLYENV || {};window.PLOTLYENV.BASE_URL=\"https://plot.ly\";Plotly.newPlot(\"22c843a8-5793-4501-b9c9-e54ccc1323d5\", [{\"error_y\": {\"array\": [370.042, 417997.755], \"type\": \"data\", \"visible\": true}, \"mode\": \"markers\", \"x\": [\"Core i5\", \"ARM\"], \"y\": [1040972.8, 4037964.6], \"type\": \"scatter\", \"uid\": \"98dbe706-a8eb-4370-9423-8b6fcd4321e7\"}], {\"title\": \"Intel Core i5 vs ARM Cortex A7 - Branch misses (Multiplica\\u00e7\\u00e3o de inteiros)\"}, {\"showLink\": true, \"linkText\": \"Export to plot.ly\"})});</script><script type=\"text/javascript\">window.addEventListener(\"resize\", function(){window._Plotly.Plots.resize(document.getElementById(\"22c843a8-5793-4501-b9c9-e54ccc1323d5\"));});</script>"
      ]
     },
     "metadata": {},
     "output_type": "display_data"
    },
    {
     "data": {
      "application/vnd.plotly.v1+json": {
       "data": [
        {
         "error_y": {
          "array": [
           2064401.332,
           2905905.715
          ],
          "type": "data",
          "visible": true
         },
         "mode": "markers",
         "type": "scatter",
         "uid": "10762aa4-26f9-40f0-9cb0-981d6edd599d",
         "x": [
          "Core i5",
          "ARM"
         ],
         "y": [
          1204601072.2,
          1231935837.8
         ]
        }
       ],
       "layout": {
        "title": "Intel Core i5 vs ARM Cortex A7 - Cache misses (Multiplicação de inteiros)"
       }
      },
      "text/html": [
       "<div id=\"22c06a65-f3f6-4e1d-b5ff-d392b8729ce0\" style=\"height: 525px; width: 100%;\" class=\"plotly-graph-div\"></div><script type=\"text/javascript\">require([\"plotly\"], function(Plotly) { window.PLOTLYENV=window.PLOTLYENV || {};window.PLOTLYENV.BASE_URL=\"https://plot.ly\";Plotly.newPlot(\"22c06a65-f3f6-4e1d-b5ff-d392b8729ce0\", [{\"error_y\": {\"array\": [2064401.332, 2905905.715], \"type\": \"data\", \"visible\": true}, \"mode\": \"markers\", \"x\": [\"Core i5\", \"ARM\"], \"y\": [1204601072.2, 1231935837.8], \"type\": \"scatter\", \"uid\": \"10762aa4-26f9-40f0-9cb0-981d6edd599d\"}], {\"title\": \"Intel Core i5 vs ARM Cortex A7 - Cache misses (Multiplica\\u00e7\\u00e3o de inteiros)\"}, {\"showLink\": true, \"linkText\": \"Export to plot.ly\"})});</script><script type=\"text/javascript\">window.addEventListener(\"resize\", function(){window._Plotly.Plots.resize(document.getElementById(\"22c06a65-f3f6-4e1d-b5ff-d392b8729ce0\"));});</script>"
      ],
      "text/vnd.plotly.v1+html": [
       "<div id=\"22c06a65-f3f6-4e1d-b5ff-d392b8729ce0\" style=\"height: 525px; width: 100%;\" class=\"plotly-graph-div\"></div><script type=\"text/javascript\">require([\"plotly\"], function(Plotly) { window.PLOTLYENV=window.PLOTLYENV || {};window.PLOTLYENV.BASE_URL=\"https://plot.ly\";Plotly.newPlot(\"22c06a65-f3f6-4e1d-b5ff-d392b8729ce0\", [{\"error_y\": {\"array\": [2064401.332, 2905905.715], \"type\": \"data\", \"visible\": true}, \"mode\": \"markers\", \"x\": [\"Core i5\", \"ARM\"], \"y\": [1204601072.2, 1231935837.8], \"type\": \"scatter\", \"uid\": \"10762aa4-26f9-40f0-9cb0-981d6edd599d\"}], {\"title\": \"Intel Core i5 vs ARM Cortex A7 - Cache misses (Multiplica\\u00e7\\u00e3o de inteiros)\"}, {\"showLink\": true, \"linkText\": \"Export to plot.ly\"})});</script><script type=\"text/javascript\">window.addEventListener(\"resize\", function(){window._Plotly.Plots.resize(document.getElementById(\"22c06a65-f3f6-4e1d-b5ff-d392b8729ce0\"));});</script>"
      ]
     },
     "metadata": {},
     "output_type": "display_data"
    },
    {
     "data": {
      "text/plain": [
       "0"
      ]
     },
     "execution_count": 3,
     "metadata": {},
     "output_type": "execute_result"
    }
   ],
   "source": [
    "plot_procs = 'Intel Core i5 vs ARM Cortex A7'\n",
    "labels = []\n",
    "labels = ['Core i5', 'ARM']\n",
    "\n",
    "clock = [avgs['int_mat_i5']['clock'], avgs['int_mat_rasp']['clock']]\n",
    "icp = [avgs['int_mat_i5']['ipc'], avgs['int_mat_rasp']['ipc']]\n",
    "branch = [avgs['int_mat_i5']['branch'], avgs['int_mat_rasp']['branch']]\n",
    "cache = [avgs['int_mat_i5']['cache'], avgs['int_mat_rasp']['cache']]\n",
    "\n",
    "clock_confs = [confs['int_mat_i5']['clock'], confs['int_mat_rasp']['clock']]\n",
    "print(clock_confs)\n",
    "\n",
    "icp_confs = [confs['int_mat_i5']['ipc'], confs['int_mat_rasp']['ipc']]\n",
    "print(icp_confs)\n",
    "\n",
    "cache_confs = [confs['int_mat_i5']['cache'], confs['int_mat_rasp']['cache']]\n",
    "print(cache_confs)\n",
    "\n",
    "branch_confs = [confs['int_mat_i5']['branch'], confs['int_mat_rasp']['branch']]\n",
    "print(branch_confs)\n",
    "\n",
    "def plot_bar_data(data, confs, labels, title):\n",
    "    trace = go.Scatter(\n",
    "        x = labels,\n",
    "        y = data,\n",
    "        mode='markers',\n",
    "        error_y = dict(\n",
    "            type='data',\n",
    "            array=confs,\n",
    "            visible=True\n",
    "        )\n",
    "        #marker=dict(color=['#1F77B4', '#30c95e'])\n",
    "    )\n",
    "    layout = go.Layout(\n",
    "        title=title\n",
    "    )\n",
    "    data = [trace]\n",
    "    fig = go.Figure(data=data, layout=layout)\n",
    "    iplot(fig)\n",
    "    pio.write_image(fig, 'images/{}.jpeg'.format(title))\n",
    "\n",
    "    return 0\n",
    "\n",
    "plot_bar_data(clock, clock_confs,labels, '{} - Tempo (Multiplicação de matriz de inteiros)'.format(plot_procs))\n",
    "plot_bar_data(icp, icp_confs, labels, '{} - IPC (Multiplicação de matriz de inteiros)'.format(plot_procs))\n",
    "plot_bar_data(branch, branch_confs, labels, '{} - Branch misses (Multiplicação de matriz de inteiros)'.format(plot_procs))\n",
    "plot_bar_data(cache, cache_confs, labels, '{} - Cache misses (Multiplicação de matriz de inteiros)'.format(plot_procs))\n"
   ]
  },
  {
   "cell_type": "code",
   "execution_count": 4,
   "metadata": {},
   "outputs": [
    {
     "name": "stdout",
     "output_type": "stream",
     "text": [
      "{'clock': 7485.323, 'ipc': 1.924, 'branch': 1057191.7, 'cache': 1388882447.0}\n",
      "{'clock': 110346.756, 'ipc': 0.345, 'branch': 2721164.0, 'cache': 1480177959.1}\n",
      "[109.631, 1312.622]\n",
      "[0.029, 0.003]\n",
      "[12273535.985, 3915943.072]\n",
      "[1129.298, 831247.14]\n"
     ]
    },
    {
     "data": {
      "application/vnd.plotly.v1+json": {
       "data": [
        {
         "error_y": {
          "array": [
           109.631,
           1312.622
          ],
          "type": "data",
          "visible": true
         },
         "mode": "markers",
         "type": "scatter",
         "uid": "7547938c-2f39-4848-bdd7-83898df0b248",
         "x": [
          "Core i5",
          "ARM"
         ],
         "y": [
          7485.323,
          110346.756
         ]
        }
       ],
       "layout": {
        "title": "Intel Core i5 vs ARM Cortex A7 - Tempo (Multiplicação de matriz de floats)"
       }
      },
      "text/html": [
       "<div id=\"805d252e-ce93-4543-ad93-4989c957161b\" style=\"height: 525px; width: 100%;\" class=\"plotly-graph-div\"></div><script type=\"text/javascript\">require([\"plotly\"], function(Plotly) { window.PLOTLYENV=window.PLOTLYENV || {};window.PLOTLYENV.BASE_URL=\"https://plot.ly\";Plotly.newPlot(\"805d252e-ce93-4543-ad93-4989c957161b\", [{\"error_y\": {\"array\": [109.631, 1312.622], \"type\": \"data\", \"visible\": true}, \"mode\": \"markers\", \"x\": [\"Core i5\", \"ARM\"], \"y\": [7485.323, 110346.756], \"type\": \"scatter\", \"uid\": \"7547938c-2f39-4848-bdd7-83898df0b248\"}], {\"title\": \"Intel Core i5 vs ARM Cortex A7 - Tempo (Multiplica\\u00e7\\u00e3o de matriz de floats)\"}, {\"showLink\": true, \"linkText\": \"Export to plot.ly\"})});</script><script type=\"text/javascript\">window.addEventListener(\"resize\", function(){window._Plotly.Plots.resize(document.getElementById(\"805d252e-ce93-4543-ad93-4989c957161b\"));});</script>"
      ],
      "text/vnd.plotly.v1+html": [
       "<div id=\"805d252e-ce93-4543-ad93-4989c957161b\" style=\"height: 525px; width: 100%;\" class=\"plotly-graph-div\"></div><script type=\"text/javascript\">require([\"plotly\"], function(Plotly) { window.PLOTLYENV=window.PLOTLYENV || {};window.PLOTLYENV.BASE_URL=\"https://plot.ly\";Plotly.newPlot(\"805d252e-ce93-4543-ad93-4989c957161b\", [{\"error_y\": {\"array\": [109.631, 1312.622], \"type\": \"data\", \"visible\": true}, \"mode\": \"markers\", \"x\": [\"Core i5\", \"ARM\"], \"y\": [7485.323, 110346.756], \"type\": \"scatter\", \"uid\": \"7547938c-2f39-4848-bdd7-83898df0b248\"}], {\"title\": \"Intel Core i5 vs ARM Cortex A7 - Tempo (Multiplica\\u00e7\\u00e3o de matriz de floats)\"}, {\"showLink\": true, \"linkText\": \"Export to plot.ly\"})});</script><script type=\"text/javascript\">window.addEventListener(\"resize\", function(){window._Plotly.Plots.resize(document.getElementById(\"805d252e-ce93-4543-ad93-4989c957161b\"));});</script>"
      ]
     },
     "metadata": {},
     "output_type": "display_data"
    },
    {
     "data": {
      "application/vnd.plotly.v1+json": {
       "data": [
        {
         "error_y": {
          "array": [
           0.029,
           0.003
          ],
          "type": "data",
          "visible": true
         },
         "mode": "markers",
         "type": "scatter",
         "uid": "1754ea42-938c-4ec0-893a-b8040a4f4ddd",
         "x": [
          "Core i5",
          "ARM"
         ],
         "y": [
          1.924,
          0.345
         ]
        }
       ],
       "layout": {
        "title": "Intel Core i5 vs ARM Cortex A7 - IPC (Multiplicação de matriz de floats)"
       }
      },
      "text/html": [
       "<div id=\"1e010a26-a5c3-48d8-9a44-defd5ea0320d\" style=\"height: 525px; width: 100%;\" class=\"plotly-graph-div\"></div><script type=\"text/javascript\">require([\"plotly\"], function(Plotly) { window.PLOTLYENV=window.PLOTLYENV || {};window.PLOTLYENV.BASE_URL=\"https://plot.ly\";Plotly.newPlot(\"1e010a26-a5c3-48d8-9a44-defd5ea0320d\", [{\"error_y\": {\"array\": [0.029, 0.003], \"type\": \"data\", \"visible\": true}, \"mode\": \"markers\", \"x\": [\"Core i5\", \"ARM\"], \"y\": [1.924, 0.345], \"type\": \"scatter\", \"uid\": \"1754ea42-938c-4ec0-893a-b8040a4f4ddd\"}], {\"title\": \"Intel Core i5 vs ARM Cortex A7 - IPC (Multiplica\\u00e7\\u00e3o de matriz de floats)\"}, {\"showLink\": true, \"linkText\": \"Export to plot.ly\"})});</script><script type=\"text/javascript\">window.addEventListener(\"resize\", function(){window._Plotly.Plots.resize(document.getElementById(\"1e010a26-a5c3-48d8-9a44-defd5ea0320d\"));});</script>"
      ],
      "text/vnd.plotly.v1+html": [
       "<div id=\"1e010a26-a5c3-48d8-9a44-defd5ea0320d\" style=\"height: 525px; width: 100%;\" class=\"plotly-graph-div\"></div><script type=\"text/javascript\">require([\"plotly\"], function(Plotly) { window.PLOTLYENV=window.PLOTLYENV || {};window.PLOTLYENV.BASE_URL=\"https://plot.ly\";Plotly.newPlot(\"1e010a26-a5c3-48d8-9a44-defd5ea0320d\", [{\"error_y\": {\"array\": [0.029, 0.003], \"type\": \"data\", \"visible\": true}, \"mode\": \"markers\", \"x\": [\"Core i5\", \"ARM\"], \"y\": [1.924, 0.345], \"type\": \"scatter\", \"uid\": \"1754ea42-938c-4ec0-893a-b8040a4f4ddd\"}], {\"title\": \"Intel Core i5 vs ARM Cortex A7 - IPC (Multiplica\\u00e7\\u00e3o de matriz de floats)\"}, {\"showLink\": true, \"linkText\": \"Export to plot.ly\"})});</script><script type=\"text/javascript\">window.addEventListener(\"resize\", function(){window._Plotly.Plots.resize(document.getElementById(\"1e010a26-a5c3-48d8-9a44-defd5ea0320d\"));});</script>"
      ]
     },
     "metadata": {},
     "output_type": "display_data"
    },
    {
     "data": {
      "application/vnd.plotly.v1+json": {
       "data": [
        {
         "error_y": {
          "array": [
           1129.298,
           831247.14
          ],
          "type": "data",
          "visible": true
         },
         "mode": "markers",
         "type": "scatter",
         "uid": "cdbcef3d-c7b5-4304-bf54-938f66ccac68",
         "x": [
          "Core i5",
          "ARM"
         ],
         "y": [
          1057191.7,
          2721164
         ]
        }
       ],
       "layout": {
        "title": "Intel Core i5 vs ARM Cortex A7 - Branch misses (Multiplicação de matriz de floats)"
       }
      },
      "text/html": [
       "<div id=\"415cdeb3-f07a-404b-a519-e62b35cfbe88\" style=\"height: 525px; width: 100%;\" class=\"plotly-graph-div\"></div><script type=\"text/javascript\">require([\"plotly\"], function(Plotly) { window.PLOTLYENV=window.PLOTLYENV || {};window.PLOTLYENV.BASE_URL=\"https://plot.ly\";Plotly.newPlot(\"415cdeb3-f07a-404b-a519-e62b35cfbe88\", [{\"error_y\": {\"array\": [1129.298, 831247.14], \"type\": \"data\", \"visible\": true}, \"mode\": \"markers\", \"x\": [\"Core i5\", \"ARM\"], \"y\": [1057191.7, 2721164.0], \"type\": \"scatter\", \"uid\": \"cdbcef3d-c7b5-4304-bf54-938f66ccac68\"}], {\"title\": \"Intel Core i5 vs ARM Cortex A7 - Branch misses (Multiplica\\u00e7\\u00e3o de matriz de floats)\"}, {\"showLink\": true, \"linkText\": \"Export to plot.ly\"})});</script><script type=\"text/javascript\">window.addEventListener(\"resize\", function(){window._Plotly.Plots.resize(document.getElementById(\"415cdeb3-f07a-404b-a519-e62b35cfbe88\"));});</script>"
      ],
      "text/vnd.plotly.v1+html": [
       "<div id=\"415cdeb3-f07a-404b-a519-e62b35cfbe88\" style=\"height: 525px; width: 100%;\" class=\"plotly-graph-div\"></div><script type=\"text/javascript\">require([\"plotly\"], function(Plotly) { window.PLOTLYENV=window.PLOTLYENV || {};window.PLOTLYENV.BASE_URL=\"https://plot.ly\";Plotly.newPlot(\"415cdeb3-f07a-404b-a519-e62b35cfbe88\", [{\"error_y\": {\"array\": [1129.298, 831247.14], \"type\": \"data\", \"visible\": true}, \"mode\": \"markers\", \"x\": [\"Core i5\", \"ARM\"], \"y\": [1057191.7, 2721164.0], \"type\": \"scatter\", \"uid\": \"cdbcef3d-c7b5-4304-bf54-938f66ccac68\"}], {\"title\": \"Intel Core i5 vs ARM Cortex A7 - Branch misses (Multiplica\\u00e7\\u00e3o de matriz de floats)\"}, {\"showLink\": true, \"linkText\": \"Export to plot.ly\"})});</script><script type=\"text/javascript\">window.addEventListener(\"resize\", function(){window._Plotly.Plots.resize(document.getElementById(\"415cdeb3-f07a-404b-a519-e62b35cfbe88\"));});</script>"
      ]
     },
     "metadata": {},
     "output_type": "display_data"
    },
    {
     "data": {
      "application/vnd.plotly.v1+json": {
       "data": [
        {
         "error_y": {
          "array": [
           12273535.985,
           3915943.072
          ],
          "type": "data",
          "visible": true
         },
         "mode": "markers",
         "type": "scatter",
         "uid": "26480b0b-7131-4a55-8c73-0b7211605348",
         "x": [
          "Core i5",
          "ARM"
         ],
         "y": [
          1388882447,
          1480177959.1
         ]
        }
       ],
       "layout": {
        "title": "Intel Core i5 vs ARM Cortex A7 - Cache misses (Multiplicação de matriz de floats)"
       }
      },
      "text/html": [
       "<div id=\"9b50042d-480e-45da-b196-798686c3b887\" style=\"height: 525px; width: 100%;\" class=\"plotly-graph-div\"></div><script type=\"text/javascript\">require([\"plotly\"], function(Plotly) { window.PLOTLYENV=window.PLOTLYENV || {};window.PLOTLYENV.BASE_URL=\"https://plot.ly\";Plotly.newPlot(\"9b50042d-480e-45da-b196-798686c3b887\", [{\"error_y\": {\"array\": [12273535.985, 3915943.072], \"type\": \"data\", \"visible\": true}, \"mode\": \"markers\", \"x\": [\"Core i5\", \"ARM\"], \"y\": [1388882447.0, 1480177959.1], \"type\": \"scatter\", \"uid\": \"26480b0b-7131-4a55-8c73-0b7211605348\"}], {\"title\": \"Intel Core i5 vs ARM Cortex A7 - Cache misses (Multiplica\\u00e7\\u00e3o de matriz de floats)\"}, {\"showLink\": true, \"linkText\": \"Export to plot.ly\"})});</script><script type=\"text/javascript\">window.addEventListener(\"resize\", function(){window._Plotly.Plots.resize(document.getElementById(\"9b50042d-480e-45da-b196-798686c3b887\"));});</script>"
      ],
      "text/vnd.plotly.v1+html": [
       "<div id=\"9b50042d-480e-45da-b196-798686c3b887\" style=\"height: 525px; width: 100%;\" class=\"plotly-graph-div\"></div><script type=\"text/javascript\">require([\"plotly\"], function(Plotly) { window.PLOTLYENV=window.PLOTLYENV || {};window.PLOTLYENV.BASE_URL=\"https://plot.ly\";Plotly.newPlot(\"9b50042d-480e-45da-b196-798686c3b887\", [{\"error_y\": {\"array\": [12273535.985, 3915943.072], \"type\": \"data\", \"visible\": true}, \"mode\": \"markers\", \"x\": [\"Core i5\", \"ARM\"], \"y\": [1388882447.0, 1480177959.1], \"type\": \"scatter\", \"uid\": \"26480b0b-7131-4a55-8c73-0b7211605348\"}], {\"title\": \"Intel Core i5 vs ARM Cortex A7 - Cache misses (Multiplica\\u00e7\\u00e3o de matriz de floats)\"}, {\"showLink\": true, \"linkText\": \"Export to plot.ly\"})});</script><script type=\"text/javascript\">window.addEventListener(\"resize\", function(){window._Plotly.Plots.resize(document.getElementById(\"9b50042d-480e-45da-b196-798686c3b887\"));});</script>"
      ]
     },
     "metadata": {},
     "output_type": "display_data"
    },
    {
     "data": {
      "text/plain": [
       "0"
      ]
     },
     "execution_count": 4,
     "metadata": {},
     "output_type": "execute_result"
    }
   ],
   "source": [
    "print(avgs['float_mat_i5'])\n",
    "print(avgs['float_mat_rasp'])\n",
    "\n",
    "clock = [avgs['float_mat_i5']['clock'], avgs['float_mat_rasp']['clock']]\n",
    "icp = [avgs['float_mat_i5']['ipc'], avgs['float_mat_rasp']['ipc']]\n",
    "branch = [avgs['float_mat_i5']['branch'], avgs['float_mat_rasp']['branch']]\n",
    "cache = [avgs['float_mat_i5']['cache'], avgs['float_mat_rasp']['cache']]\n",
    "\n",
    "clock_confs = [confs['float_mat_i5']['clock'], confs['float_mat_rasp']['clock']]\n",
    "print(clock_confs)\n",
    "\n",
    "icp_confs = [confs['float_mat_i5']['ipc'], confs['float_mat_rasp']['ipc']]\n",
    "print(icp_confs)\n",
    "\n",
    "cache_confs = [confs['float_mat_i5']['cache'], confs['float_mat_rasp']['cache']]\n",
    "print(cache_confs)\n",
    "\n",
    "branch_confs = [confs['float_mat_i5']['branch'], confs['float_mat_rasp']['branch']]\n",
    "print(branch_confs)\n",
    "\n",
    "plot_bar_data(clock, clock_confs, labels, '{} - Tempo (Multiplicação de matriz de floats)'.format(plot_procs))\n",
    "plot_bar_data(icp, icp_confs, labels, '{} - IPC (Multiplicação de matriz de floats)'.format(plot_procs))\n",
    "plot_bar_data(branch, branch_confs, labels, '{} - Branch misses (Multiplicação de matriz de floats)'.format(plot_procs))\n",
    "plot_bar_data(cache, cache_confs, labels, '{} - Cache misses (Multiplicação de matriz de floats)'.format(plot_procs))"
   ]
  },
  {
   "cell_type": "code",
   "execution_count": 5,
   "metadata": {},
   "outputs": [
    {
     "name": "stdout",
     "output_type": "stream",
     "text": [
      "{'int_mat_i5': {'clock': 5530.805, 'ipc': 2.613, 'branch': 1040972.8, 'cache': 1204601072.2}, 'float_mat_i5': {'clock': 7485.323, 'ipc': 1.924, 'branch': 1057191.7, 'cache': 1388882447.0}, 'float_gauss_i5': {'clock': 3714.823, 'ipc': 1.748, 'branch': 4099589.8, 'cache': 229916209.4}, 'dep_i5': {'clock': 0.267, 'ipc': 0.77, 'branch': 6806.7, 'cache': 12991.0}, 'branch_i5': {'clock': 0.76, 'ipc': 1.321, 'branch': 22019.5, 'cache': 15123.8}, 'branch_sort_i5': {'clock': 9.925, 'ipc': 1.996, 'branch': 160088.8, 'cache': 24916.8}, 'int_mat_rasp': {'clock': 95407.217, 'ipc': 0.394, 'branch': 4037964.6, 'cache': 1231935837.8}, 'float_mat_rasp': {'clock': 110346.756, 'ipc': 0.345, 'branch': 2721164.0, 'cache': 1480177959.1}, 'float_gauss_rasp': {'clock': 7011.943, 'ipc': 0.52, 'branch': 3731672.4, 'cache': 16136505.5}, 'dep_rasp': {'clock': 1.575, 'ipc': 0.386, 'branch': 11267.6, 'cache': 6354.9}, 'branch_rasp': {'clock': 5.893, 'ipc': 1.788, 'branch': 26216.3, 'cache': 6285.0}, 'branch_sort_rasp': {'clock': 82.202, 'ipc': 0.745, 'branch': 206702.7, 'cache': 12385.1}}\n",
      "[11.145, 39.907]\n",
      "[0.002, 0.0]\n",
      "[946844.598, 253649.975]\n",
      "[52862.389, 122986.831]\n"
     ]
    },
    {
     "data": {
      "application/vnd.plotly.v1+json": {
       "data": [
        {
         "error_y": {
          "array": [
           11.145,
           39.907
          ],
          "type": "data",
          "visible": true
         },
         "mode": "markers",
         "type": "scatter",
         "uid": "e200507b-3ac3-42e5-a757-c4cb871b0604",
         "x": [
          "Core i5",
          "ARM"
         ],
         "y": [
          3714.823,
          7011.943
         ]
        }
       ],
       "layout": {
        "title": "Intel Core i5 vs ARM Cortex A7 - Tempo (Escalonamento de Gauss)"
       }
      },
      "text/html": [
       "<div id=\"cb2be6f2-f728-443c-b227-1e45717e03a0\" style=\"height: 525px; width: 100%;\" class=\"plotly-graph-div\"></div><script type=\"text/javascript\">require([\"plotly\"], function(Plotly) { window.PLOTLYENV=window.PLOTLYENV || {};window.PLOTLYENV.BASE_URL=\"https://plot.ly\";Plotly.newPlot(\"cb2be6f2-f728-443c-b227-1e45717e03a0\", [{\"error_y\": {\"array\": [11.145, 39.907], \"type\": \"data\", \"visible\": true}, \"mode\": \"markers\", \"x\": [\"Core i5\", \"ARM\"], \"y\": [3714.823, 7011.943], \"type\": \"scatter\", \"uid\": \"e200507b-3ac3-42e5-a757-c4cb871b0604\"}], {\"title\": \"Intel Core i5 vs ARM Cortex A7 - Tempo (Escalonamento de Gauss)\"}, {\"showLink\": true, \"linkText\": \"Export to plot.ly\"})});</script><script type=\"text/javascript\">window.addEventListener(\"resize\", function(){window._Plotly.Plots.resize(document.getElementById(\"cb2be6f2-f728-443c-b227-1e45717e03a0\"));});</script>"
      ],
      "text/vnd.plotly.v1+html": [
       "<div id=\"cb2be6f2-f728-443c-b227-1e45717e03a0\" style=\"height: 525px; width: 100%;\" class=\"plotly-graph-div\"></div><script type=\"text/javascript\">require([\"plotly\"], function(Plotly) { window.PLOTLYENV=window.PLOTLYENV || {};window.PLOTLYENV.BASE_URL=\"https://plot.ly\";Plotly.newPlot(\"cb2be6f2-f728-443c-b227-1e45717e03a0\", [{\"error_y\": {\"array\": [11.145, 39.907], \"type\": \"data\", \"visible\": true}, \"mode\": \"markers\", \"x\": [\"Core i5\", \"ARM\"], \"y\": [3714.823, 7011.943], \"type\": \"scatter\", \"uid\": \"e200507b-3ac3-42e5-a757-c4cb871b0604\"}], {\"title\": \"Intel Core i5 vs ARM Cortex A7 - Tempo (Escalonamento de Gauss)\"}, {\"showLink\": true, \"linkText\": \"Export to plot.ly\"})});</script><script type=\"text/javascript\">window.addEventListener(\"resize\", function(){window._Plotly.Plots.resize(document.getElementById(\"cb2be6f2-f728-443c-b227-1e45717e03a0\"));});</script>"
      ]
     },
     "metadata": {},
     "output_type": "display_data"
    },
    {
     "data": {
      "application/vnd.plotly.v1+json": {
       "data": [
        {
         "error_y": {
          "array": [
           0.002,
           0
          ],
          "type": "data",
          "visible": true
         },
         "mode": "markers",
         "type": "scatter",
         "uid": "ba6d91db-1588-46d5-9867-a98415fbcb6e",
         "x": [
          "Core i5",
          "ARM"
         ],
         "y": [
          1.748,
          0.52
         ]
        }
       ],
       "layout": {
        "title": "Intel Core i5 vs ARM Cortex A7 - IPC (Escalonamento de Gauss)"
       }
      },
      "text/html": [
       "<div id=\"159edde9-d8ac-4127-9aba-1703aed51668\" style=\"height: 525px; width: 100%;\" class=\"plotly-graph-div\"></div><script type=\"text/javascript\">require([\"plotly\"], function(Plotly) { window.PLOTLYENV=window.PLOTLYENV || {};window.PLOTLYENV.BASE_URL=\"https://plot.ly\";Plotly.newPlot(\"159edde9-d8ac-4127-9aba-1703aed51668\", [{\"error_y\": {\"array\": [0.002, 0.0], \"type\": \"data\", \"visible\": true}, \"mode\": \"markers\", \"x\": [\"Core i5\", \"ARM\"], \"y\": [1.748, 0.52], \"type\": \"scatter\", \"uid\": \"ba6d91db-1588-46d5-9867-a98415fbcb6e\"}], {\"title\": \"Intel Core i5 vs ARM Cortex A7 - IPC (Escalonamento de Gauss)\"}, {\"showLink\": true, \"linkText\": \"Export to plot.ly\"})});</script><script type=\"text/javascript\">window.addEventListener(\"resize\", function(){window._Plotly.Plots.resize(document.getElementById(\"159edde9-d8ac-4127-9aba-1703aed51668\"));});</script>"
      ],
      "text/vnd.plotly.v1+html": [
       "<div id=\"159edde9-d8ac-4127-9aba-1703aed51668\" style=\"height: 525px; width: 100%;\" class=\"plotly-graph-div\"></div><script type=\"text/javascript\">require([\"plotly\"], function(Plotly) { window.PLOTLYENV=window.PLOTLYENV || {};window.PLOTLYENV.BASE_URL=\"https://plot.ly\";Plotly.newPlot(\"159edde9-d8ac-4127-9aba-1703aed51668\", [{\"error_y\": {\"array\": [0.002, 0.0], \"type\": \"data\", \"visible\": true}, \"mode\": \"markers\", \"x\": [\"Core i5\", \"ARM\"], \"y\": [1.748, 0.52], \"type\": \"scatter\", \"uid\": \"ba6d91db-1588-46d5-9867-a98415fbcb6e\"}], {\"title\": \"Intel Core i5 vs ARM Cortex A7 - IPC (Escalonamento de Gauss)\"}, {\"showLink\": true, \"linkText\": \"Export to plot.ly\"})});</script><script type=\"text/javascript\">window.addEventListener(\"resize\", function(){window._Plotly.Plots.resize(document.getElementById(\"159edde9-d8ac-4127-9aba-1703aed51668\"));});</script>"
      ]
     },
     "metadata": {},
     "output_type": "display_data"
    },
    {
     "data": {
      "application/vnd.plotly.v1+json": {
       "data": [
        {
         "error_y": {
          "array": [
           52862.389,
           122986.831
          ],
          "type": "data",
          "visible": true
         },
         "mode": "markers",
         "type": "scatter",
         "uid": "b1d666ab-60ab-477a-83cf-3c21bcf6c95d",
         "x": [
          "Core i5",
          "ARM"
         ],
         "y": [
          4099589.8,
          3731672.4
         ]
        }
       ],
       "layout": {
        "title": "Intel Core i5 vs ARM Cortex A7 - Branch misses (Escalonamento de Gauss)"
       }
      },
      "text/html": [
       "<div id=\"b805924e-2147-4d78-b0ad-83f202a9afc3\" style=\"height: 525px; width: 100%;\" class=\"plotly-graph-div\"></div><script type=\"text/javascript\">require([\"plotly\"], function(Plotly) { window.PLOTLYENV=window.PLOTLYENV || {};window.PLOTLYENV.BASE_URL=\"https://plot.ly\";Plotly.newPlot(\"b805924e-2147-4d78-b0ad-83f202a9afc3\", [{\"error_y\": {\"array\": [52862.389, 122986.831], \"type\": \"data\", \"visible\": true}, \"mode\": \"markers\", \"x\": [\"Core i5\", \"ARM\"], \"y\": [4099589.8, 3731672.4], \"type\": \"scatter\", \"uid\": \"b1d666ab-60ab-477a-83cf-3c21bcf6c95d\"}], {\"title\": \"Intel Core i5 vs ARM Cortex A7 - Branch misses (Escalonamento de Gauss)\"}, {\"showLink\": true, \"linkText\": \"Export to plot.ly\"})});</script><script type=\"text/javascript\">window.addEventListener(\"resize\", function(){window._Plotly.Plots.resize(document.getElementById(\"b805924e-2147-4d78-b0ad-83f202a9afc3\"));});</script>"
      ],
      "text/vnd.plotly.v1+html": [
       "<div id=\"b805924e-2147-4d78-b0ad-83f202a9afc3\" style=\"height: 525px; width: 100%;\" class=\"plotly-graph-div\"></div><script type=\"text/javascript\">require([\"plotly\"], function(Plotly) { window.PLOTLYENV=window.PLOTLYENV || {};window.PLOTLYENV.BASE_URL=\"https://plot.ly\";Plotly.newPlot(\"b805924e-2147-4d78-b0ad-83f202a9afc3\", [{\"error_y\": {\"array\": [52862.389, 122986.831], \"type\": \"data\", \"visible\": true}, \"mode\": \"markers\", \"x\": [\"Core i5\", \"ARM\"], \"y\": [4099589.8, 3731672.4], \"type\": \"scatter\", \"uid\": \"b1d666ab-60ab-477a-83cf-3c21bcf6c95d\"}], {\"title\": \"Intel Core i5 vs ARM Cortex A7 - Branch misses (Escalonamento de Gauss)\"}, {\"showLink\": true, \"linkText\": \"Export to plot.ly\"})});</script><script type=\"text/javascript\">window.addEventListener(\"resize\", function(){window._Plotly.Plots.resize(document.getElementById(\"b805924e-2147-4d78-b0ad-83f202a9afc3\"));});</script>"
      ]
     },
     "metadata": {},
     "output_type": "display_data"
    },
    {
     "data": {
      "application/vnd.plotly.v1+json": {
       "data": [
        {
         "error_y": {
          "array": [
           946844.598,
           253649.975
          ],
          "type": "data",
          "visible": true
         },
         "mode": "markers",
         "type": "scatter",
         "uid": "a3431252-56bc-4ffd-8b3f-05d0616d9f65",
         "x": [
          "Core i5",
          "ARM"
         ],
         "y": [
          229916209.4,
          16136505.5
         ]
        }
       ],
       "layout": {
        "title": "Intel Core i5 vs ARM Cortex A7 - Cache misses (Escalonamento de Gauss)"
       }
      },
      "text/html": [
       "<div id=\"0bcf3265-5b8c-4f79-b9e0-889aa60e48ea\" style=\"height: 525px; width: 100%;\" class=\"plotly-graph-div\"></div><script type=\"text/javascript\">require([\"plotly\"], function(Plotly) { window.PLOTLYENV=window.PLOTLYENV || {};window.PLOTLYENV.BASE_URL=\"https://plot.ly\";Plotly.newPlot(\"0bcf3265-5b8c-4f79-b9e0-889aa60e48ea\", [{\"error_y\": {\"array\": [946844.598, 253649.975], \"type\": \"data\", \"visible\": true}, \"mode\": \"markers\", \"x\": [\"Core i5\", \"ARM\"], \"y\": [229916209.4, 16136505.5], \"type\": \"scatter\", \"uid\": \"a3431252-56bc-4ffd-8b3f-05d0616d9f65\"}], {\"title\": \"Intel Core i5 vs ARM Cortex A7 - Cache misses (Escalonamento de Gauss)\"}, {\"showLink\": true, \"linkText\": \"Export to plot.ly\"})});</script><script type=\"text/javascript\">window.addEventListener(\"resize\", function(){window._Plotly.Plots.resize(document.getElementById(\"0bcf3265-5b8c-4f79-b9e0-889aa60e48ea\"));});</script>"
      ],
      "text/vnd.plotly.v1+html": [
       "<div id=\"0bcf3265-5b8c-4f79-b9e0-889aa60e48ea\" style=\"height: 525px; width: 100%;\" class=\"plotly-graph-div\"></div><script type=\"text/javascript\">require([\"plotly\"], function(Plotly) { window.PLOTLYENV=window.PLOTLYENV || {};window.PLOTLYENV.BASE_URL=\"https://plot.ly\";Plotly.newPlot(\"0bcf3265-5b8c-4f79-b9e0-889aa60e48ea\", [{\"error_y\": {\"array\": [946844.598, 253649.975], \"type\": \"data\", \"visible\": true}, \"mode\": \"markers\", \"x\": [\"Core i5\", \"ARM\"], \"y\": [229916209.4, 16136505.5], \"type\": \"scatter\", \"uid\": \"a3431252-56bc-4ffd-8b3f-05d0616d9f65\"}], {\"title\": \"Intel Core i5 vs ARM Cortex A7 - Cache misses (Escalonamento de Gauss)\"}, {\"showLink\": true, \"linkText\": \"Export to plot.ly\"})});</script><script type=\"text/javascript\">window.addEventListener(\"resize\", function(){window._Plotly.Plots.resize(document.getElementById(\"0bcf3265-5b8c-4f79-b9e0-889aa60e48ea\"));});</script>"
      ]
     },
     "metadata": {},
     "output_type": "display_data"
    },
    {
     "data": {
      "text/plain": [
       "0"
      ]
     },
     "execution_count": 5,
     "metadata": {},
     "output_type": "execute_result"
    }
   ],
   "source": [
    "print(avgs)\n",
    "\n",
    "clock = [avgs['float_gauss_i5']['clock'], avgs['float_gauss_rasp']['clock']]\n",
    "icp = [avgs['float_gauss_i5']['ipc'], avgs['float_gauss_rasp']['ipc']]\n",
    "branch = [avgs['float_gauss_i5']['branch'], avgs['float_gauss_rasp']['branch']]\n",
    "cache = [avgs['float_gauss_i5']['cache'], avgs['float_gauss_rasp']['cache']]\n",
    "\n",
    "clock_confs = [confs['float_gauss_i5']['clock'], confs['float_gauss_rasp']['clock']]\n",
    "print(clock_confs)\n",
    "\n",
    "icp_confs = [confs['float_gauss_i5']['ipc'], confs['float_gauss_rasp']['ipc']]\n",
    "print(icp_confs)\n",
    "\n",
    "cache_confs = [confs['float_gauss_i5']['cache'], confs['float_gauss_rasp']['cache']]\n",
    "print(cache_confs)\n",
    "\n",
    "branch_confs = [confs['float_gauss_i5']['branch'], confs['float_gauss_rasp']['branch']]\n",
    "print(branch_confs)\n",
    "\n",
    "plot_bar_data(clock, clock_confs, labels, '{} - Tempo (Escalonamento de Gauss)'.format(plot_procs))\n",
    "plot_bar_data(icp, icp_confs, labels, '{} - IPC (Escalonamento de Gauss)'.format(plot_procs))\n",
    "plot_bar_data(branch, branch_confs, labels, '{} - Branch misses (Escalonamento de Gauss)'.format(plot_procs))\n",
    "plot_bar_data(cache, cache_confs, labels, '{} - Cache misses (Escalonamento de Gauss)'.format(plot_procs))"
   ]
  },
  {
   "cell_type": "code",
   "execution_count": 6,
   "metadata": {},
   "outputs": [
    {
     "name": "stdout",
     "output_type": "stream",
     "text": [
      "{'int_mat_i5': {'clock': 5530.805, 'ipc': 2.613, 'branch': 1040972.8, 'cache': 1204601072.2}, 'float_mat_i5': {'clock': 7485.323, 'ipc': 1.924, 'branch': 1057191.7, 'cache': 1388882447.0}, 'float_gauss_i5': {'clock': 3714.823, 'ipc': 1.748, 'branch': 4099589.8, 'cache': 229916209.4}, 'dep_i5': {'clock': 0.267, 'ipc': 0.77, 'branch': 6806.7, 'cache': 12991.0}, 'branch_i5': {'clock': 0.76, 'ipc': 1.321, 'branch': 22019.5, 'cache': 15123.8}, 'branch_sort_i5': {'clock': 9.925, 'ipc': 1.996, 'branch': 160088.8, 'cache': 24916.8}, 'int_mat_rasp': {'clock': 95407.217, 'ipc': 0.394, 'branch': 4037964.6, 'cache': 1231935837.8}, 'float_mat_rasp': {'clock': 110346.756, 'ipc': 0.345, 'branch': 2721164.0, 'cache': 1480177959.1}, 'float_gauss_rasp': {'clock': 7011.943, 'ipc': 0.52, 'branch': 3731672.4, 'cache': 16136505.5}, 'dep_rasp': {'clock': 1.575, 'ipc': 0.386, 'branch': 11267.6, 'cache': 6354.9}, 'branch_rasp': {'clock': 5.893, 'ipc': 1.788, 'branch': 26216.3, 'cache': 6285.0}, 'branch_sort_rasp': {'clock': 82.202, 'ipc': 0.745, 'branch': 206702.7, 'cache': 12385.1}}\n"
     ]
    }
   ],
   "source": [
    "print(avgs)\n",
    "clock = [avgs['branch_i5']['clock'], avgs['branch_rasp']['clock']]\n",
    "icp = [avgs['branch_i5']['ipc'], avgs['branch_rasp']['ipc']]\n",
    "branch = [avgs['branch_i5']['branch'], avgs['branch_rasp']['branch']]\n",
    "cache = [avgs['branch_i5']['cache'], avgs['branch_rasp']['cache']]\n",
    "\n",
    "clock_sorted = [avgs['branch_sort_i5']['clock'], avgs['branch_sort_i5']['clock']]\n",
    "icp_sorted = [avgs['branch_sort_i5']['ipc'], avgs['branch_sort_i5']['ipc']]\n",
    "branch_sorted = [avgs['branch_sort_i5']['branch'], avgs['branch_sort_i5']['branch']]\n",
    "cache_sorted = [avgs['branch_sort_i5']['cache'], avgs['branch_sort_i5']['cache']]"
   ]
  },
  {
   "cell_type": "code",
   "execution_count": 7,
   "metadata": {},
   "outputs": [
    {
     "name": "stdout",
     "output_type": "stream",
     "text": [
      "[0.015, 0.045]\n",
      "[0.03, 0.043]\n",
      "[218.533, 149.94]\n",
      "[221.713, 227.348]\n"
     ]
    },
    {
     "data": {
      "application/vnd.plotly.v1+json": {
       "data": [
        {
         "error_y": {
          "array": [
           0.015,
           0.045
          ],
          "type": "data",
          "visible": true
         },
         "mode": "markers",
         "type": "scatter",
         "uid": "7d616af4-6857-4dcd-81b3-27dcf99315d2",
         "x": [
          "Core i5",
          "ARM"
         ],
         "y": [
          0.267,
          1.575
         ]
        }
       ],
       "layout": {
        "title": "Intel Core i5 vs ARM Cortex A7 - Tempo (Dependência de dados)"
       }
      },
      "text/html": [
       "<div id=\"7bd8923b-8458-4e86-98fb-04b6cb5970ce\" style=\"height: 525px; width: 100%;\" class=\"plotly-graph-div\"></div><script type=\"text/javascript\">require([\"plotly\"], function(Plotly) { window.PLOTLYENV=window.PLOTLYENV || {};window.PLOTLYENV.BASE_URL=\"https://plot.ly\";Plotly.newPlot(\"7bd8923b-8458-4e86-98fb-04b6cb5970ce\", [{\"error_y\": {\"array\": [0.015, 0.045], \"type\": \"data\", \"visible\": true}, \"mode\": \"markers\", \"x\": [\"Core i5\", \"ARM\"], \"y\": [0.267, 1.575], \"type\": \"scatter\", \"uid\": \"7d616af4-6857-4dcd-81b3-27dcf99315d2\"}], {\"title\": \"Intel Core i5 vs ARM Cortex A7 - Tempo (Depend\\u00eancia de dados)\"}, {\"showLink\": true, \"linkText\": \"Export to plot.ly\"})});</script><script type=\"text/javascript\">window.addEventListener(\"resize\", function(){window._Plotly.Plots.resize(document.getElementById(\"7bd8923b-8458-4e86-98fb-04b6cb5970ce\"));});</script>"
      ],
      "text/vnd.plotly.v1+html": [
       "<div id=\"7bd8923b-8458-4e86-98fb-04b6cb5970ce\" style=\"height: 525px; width: 100%;\" class=\"plotly-graph-div\"></div><script type=\"text/javascript\">require([\"plotly\"], function(Plotly) { window.PLOTLYENV=window.PLOTLYENV || {};window.PLOTLYENV.BASE_URL=\"https://plot.ly\";Plotly.newPlot(\"7bd8923b-8458-4e86-98fb-04b6cb5970ce\", [{\"error_y\": {\"array\": [0.015, 0.045], \"type\": \"data\", \"visible\": true}, \"mode\": \"markers\", \"x\": [\"Core i5\", \"ARM\"], \"y\": [0.267, 1.575], \"type\": \"scatter\", \"uid\": \"7d616af4-6857-4dcd-81b3-27dcf99315d2\"}], {\"title\": \"Intel Core i5 vs ARM Cortex A7 - Tempo (Depend\\u00eancia de dados)\"}, {\"showLink\": true, \"linkText\": \"Export to plot.ly\"})});</script><script type=\"text/javascript\">window.addEventListener(\"resize\", function(){window._Plotly.Plots.resize(document.getElementById(\"7bd8923b-8458-4e86-98fb-04b6cb5970ce\"));});</script>"
      ]
     },
     "metadata": {},
     "output_type": "display_data"
    },
    {
     "data": {
      "application/vnd.plotly.v1+json": {
       "data": [
        {
         "error_y": {
          "array": [
           0.03,
           0.043
          ],
          "type": "data",
          "visible": true
         },
         "mode": "markers",
         "type": "scatter",
         "uid": "6e900c4c-ea2b-4adc-9594-4457a4c01a5b",
         "x": [
          "Core i5",
          "ARM"
         ],
         "y": [
          0.77,
          0.386
         ]
        }
       ],
       "layout": {
        "title": "Intel Core i5 vs ARM Cortex A7 - IPC (Dependência de dados)"
       }
      },
      "text/html": [
       "<div id=\"148cbdb4-b847-4e5f-a0eb-de2429abdceb\" style=\"height: 525px; width: 100%;\" class=\"plotly-graph-div\"></div><script type=\"text/javascript\">require([\"plotly\"], function(Plotly) { window.PLOTLYENV=window.PLOTLYENV || {};window.PLOTLYENV.BASE_URL=\"https://plot.ly\";Plotly.newPlot(\"148cbdb4-b847-4e5f-a0eb-de2429abdceb\", [{\"error_y\": {\"array\": [0.03, 0.043], \"type\": \"data\", \"visible\": true}, \"mode\": \"markers\", \"x\": [\"Core i5\", \"ARM\"], \"y\": [0.77, 0.386], \"type\": \"scatter\", \"uid\": \"6e900c4c-ea2b-4adc-9594-4457a4c01a5b\"}], {\"title\": \"Intel Core i5 vs ARM Cortex A7 - IPC (Depend\\u00eancia de dados)\"}, {\"showLink\": true, \"linkText\": \"Export to plot.ly\"})});</script><script type=\"text/javascript\">window.addEventListener(\"resize\", function(){window._Plotly.Plots.resize(document.getElementById(\"148cbdb4-b847-4e5f-a0eb-de2429abdceb\"));});</script>"
      ],
      "text/vnd.plotly.v1+html": [
       "<div id=\"148cbdb4-b847-4e5f-a0eb-de2429abdceb\" style=\"height: 525px; width: 100%;\" class=\"plotly-graph-div\"></div><script type=\"text/javascript\">require([\"plotly\"], function(Plotly) { window.PLOTLYENV=window.PLOTLYENV || {};window.PLOTLYENV.BASE_URL=\"https://plot.ly\";Plotly.newPlot(\"148cbdb4-b847-4e5f-a0eb-de2429abdceb\", [{\"error_y\": {\"array\": [0.03, 0.043], \"type\": \"data\", \"visible\": true}, \"mode\": \"markers\", \"x\": [\"Core i5\", \"ARM\"], \"y\": [0.77, 0.386], \"type\": \"scatter\", \"uid\": \"6e900c4c-ea2b-4adc-9594-4457a4c01a5b\"}], {\"title\": \"Intel Core i5 vs ARM Cortex A7 - IPC (Depend\\u00eancia de dados)\"}, {\"showLink\": true, \"linkText\": \"Export to plot.ly\"})});</script><script type=\"text/javascript\">window.addEventListener(\"resize\", function(){window._Plotly.Plots.resize(document.getElementById(\"148cbdb4-b847-4e5f-a0eb-de2429abdceb\"));});</script>"
      ]
     },
     "metadata": {},
     "output_type": "display_data"
    },
    {
     "data": {
      "application/vnd.plotly.v1+json": {
       "data": [
        {
         "error_y": {
          "array": [
           221.713,
           227.348
          ],
          "type": "data",
          "visible": true
         },
         "mode": "markers",
         "type": "scatter",
         "uid": "e1d37f5c-7c4f-45c0-8b7a-d0aa78a33f7a",
         "x": [
          "Core i5",
          "ARM"
         ],
         "y": [
          6806.7,
          11267.6
         ]
        }
       ],
       "layout": {
        "title": "Intel Core i5 vs ARM Cortex A7 - Branch misses (Dependência de dados)"
       }
      },
      "text/html": [
       "<div id=\"1c934b80-3e82-43d9-9cc1-9f5ce68c8646\" style=\"height: 525px; width: 100%;\" class=\"plotly-graph-div\"></div><script type=\"text/javascript\">require([\"plotly\"], function(Plotly) { window.PLOTLYENV=window.PLOTLYENV || {};window.PLOTLYENV.BASE_URL=\"https://plot.ly\";Plotly.newPlot(\"1c934b80-3e82-43d9-9cc1-9f5ce68c8646\", [{\"error_y\": {\"array\": [221.713, 227.348], \"type\": \"data\", \"visible\": true}, \"mode\": \"markers\", \"x\": [\"Core i5\", \"ARM\"], \"y\": [6806.7, 11267.6], \"type\": \"scatter\", \"uid\": \"e1d37f5c-7c4f-45c0-8b7a-d0aa78a33f7a\"}], {\"title\": \"Intel Core i5 vs ARM Cortex A7 - Branch misses (Depend\\u00eancia de dados)\"}, {\"showLink\": true, \"linkText\": \"Export to plot.ly\"})});</script><script type=\"text/javascript\">window.addEventListener(\"resize\", function(){window._Plotly.Plots.resize(document.getElementById(\"1c934b80-3e82-43d9-9cc1-9f5ce68c8646\"));});</script>"
      ],
      "text/vnd.plotly.v1+html": [
       "<div id=\"1c934b80-3e82-43d9-9cc1-9f5ce68c8646\" style=\"height: 525px; width: 100%;\" class=\"plotly-graph-div\"></div><script type=\"text/javascript\">require([\"plotly\"], function(Plotly) { window.PLOTLYENV=window.PLOTLYENV || {};window.PLOTLYENV.BASE_URL=\"https://plot.ly\";Plotly.newPlot(\"1c934b80-3e82-43d9-9cc1-9f5ce68c8646\", [{\"error_y\": {\"array\": [221.713, 227.348], \"type\": \"data\", \"visible\": true}, \"mode\": \"markers\", \"x\": [\"Core i5\", \"ARM\"], \"y\": [6806.7, 11267.6], \"type\": \"scatter\", \"uid\": \"e1d37f5c-7c4f-45c0-8b7a-d0aa78a33f7a\"}], {\"title\": \"Intel Core i5 vs ARM Cortex A7 - Branch misses (Depend\\u00eancia de dados)\"}, {\"showLink\": true, \"linkText\": \"Export to plot.ly\"})});</script><script type=\"text/javascript\">window.addEventListener(\"resize\", function(){window._Plotly.Plots.resize(document.getElementById(\"1c934b80-3e82-43d9-9cc1-9f5ce68c8646\"));});</script>"
      ]
     },
     "metadata": {},
     "output_type": "display_data"
    },
    {
     "data": {
      "application/vnd.plotly.v1+json": {
       "data": [
        {
         "error_y": {
          "array": [
           218.533,
           149.94
          ],
          "type": "data",
          "visible": true
         },
         "mode": "markers",
         "type": "scatter",
         "uid": "bc48a29f-a176-4b36-9ddc-3d70be90e75d",
         "x": [
          "Core i5",
          "ARM"
         ],
         "y": [
          12991,
          6354.9
         ]
        }
       ],
       "layout": {
        "title": "Intel Core i5 vs ARM Cortex A7 - Cache misses (Dependência de dados)"
       }
      },
      "text/html": [
       "<div id=\"90a1df77-f78f-4976-9a50-d8a5ee79adfa\" style=\"height: 525px; width: 100%;\" class=\"plotly-graph-div\"></div><script type=\"text/javascript\">require([\"plotly\"], function(Plotly) { window.PLOTLYENV=window.PLOTLYENV || {};window.PLOTLYENV.BASE_URL=\"https://plot.ly\";Plotly.newPlot(\"90a1df77-f78f-4976-9a50-d8a5ee79adfa\", [{\"error_y\": {\"array\": [218.533, 149.94], \"type\": \"data\", \"visible\": true}, \"mode\": \"markers\", \"x\": [\"Core i5\", \"ARM\"], \"y\": [12991.0, 6354.9], \"type\": \"scatter\", \"uid\": \"bc48a29f-a176-4b36-9ddc-3d70be90e75d\"}], {\"title\": \"Intel Core i5 vs ARM Cortex A7 - Cache misses (Depend\\u00eancia de dados)\"}, {\"showLink\": true, \"linkText\": \"Export to plot.ly\"})});</script><script type=\"text/javascript\">window.addEventListener(\"resize\", function(){window._Plotly.Plots.resize(document.getElementById(\"90a1df77-f78f-4976-9a50-d8a5ee79adfa\"));});</script>"
      ],
      "text/vnd.plotly.v1+html": [
       "<div id=\"90a1df77-f78f-4976-9a50-d8a5ee79adfa\" style=\"height: 525px; width: 100%;\" class=\"plotly-graph-div\"></div><script type=\"text/javascript\">require([\"plotly\"], function(Plotly) { window.PLOTLYENV=window.PLOTLYENV || {};window.PLOTLYENV.BASE_URL=\"https://plot.ly\";Plotly.newPlot(\"90a1df77-f78f-4976-9a50-d8a5ee79adfa\", [{\"error_y\": {\"array\": [218.533, 149.94], \"type\": \"data\", \"visible\": true}, \"mode\": \"markers\", \"x\": [\"Core i5\", \"ARM\"], \"y\": [12991.0, 6354.9], \"type\": \"scatter\", \"uid\": \"bc48a29f-a176-4b36-9ddc-3d70be90e75d\"}], {\"title\": \"Intel Core i5 vs ARM Cortex A7 - Cache misses (Depend\\u00eancia de dados)\"}, {\"showLink\": true, \"linkText\": \"Export to plot.ly\"})});</script><script type=\"text/javascript\">window.addEventListener(\"resize\", function(){window._Plotly.Plots.resize(document.getElementById(\"90a1df77-f78f-4976-9a50-d8a5ee79adfa\"));});</script>"
      ]
     },
     "metadata": {},
     "output_type": "display_data"
    },
    {
     "data": {
      "text/plain": [
       "0"
      ]
     },
     "execution_count": 7,
     "metadata": {},
     "output_type": "execute_result"
    }
   ],
   "source": [
    "clock = [avgs['dep_i5']['clock'], avgs['dep_rasp']['clock']]\n",
    "icp = [avgs['dep_i5']['ipc'], avgs['dep_rasp']['ipc']]\n",
    "branch = [avgs['dep_i5']['branch'], avgs['dep_rasp']['branch']]\n",
    "cache = [avgs['dep_i5']['cache'], avgs['dep_rasp']['cache']]\n",
    "\n",
    "clock_confs = [confs['dep_i5']['clock'], confs['dep_rasp']['clock']]\n",
    "print(clock_confs)\n",
    "\n",
    "icp_confs = [confs['dep_i5']['ipc'], confs['dep_rasp']['ipc']]\n",
    "print(icp_confs)\n",
    "\n",
    "cache_confs = [confs['dep_i5']['cache'], confs['dep_rasp']['cache']]\n",
    "print(cache_confs)\n",
    "\n",
    "branch_confs = [confs['dep_i5']['branch'], confs['dep_rasp']['branch']]\n",
    "print(branch_confs)\n",
    "\n",
    "\n",
    "plot_bar_data(clock, clock_confs, labels, '{} - Tempo (Dependência de dados)'.format(plot_procs))\n",
    "plot_bar_data(icp, icp_confs, labels, '{} - IPC (Dependência de dados)'.format(plot_procs))\n",
    "plot_bar_data(branch, branch_confs, labels, '{} - Branch misses (Dependência de dados)'.format(plot_procs))\n",
    "plot_bar_data(cache, cache_confs, labels, '{} - Cache misses (Dependência de dados)'.format(plot_procs))"
   ]
  },
  {
   "cell_type": "code",
   "execution_count": null,
   "metadata": {},
   "outputs": [],
   "source": []
  }
 ],
 "metadata": {
  "kernelspec": {
   "display_name": "Python 3",
   "language": "python",
   "name": "python3"
  },
  "language_info": {
   "codemirror_mode": {
    "name": "ipython",
    "version": 3
   },
   "file_extension": ".py",
   "mimetype": "text/x-python",
   "name": "python",
   "nbconvert_exporter": "python",
   "pygments_lexer": "ipython3",
   "version": "3.6.5"
  }
 },
 "nbformat": 4,
 "nbformat_minor": 2
}
