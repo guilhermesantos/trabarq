{
 "cells": [
  {
   "cell_type": "code",
   "execution_count": 1,
   "metadata": {},
   "outputs": [
    {
     "data": {
      "text/html": [
       "<script type=\"text/javascript\">window.PlotlyConfig = {MathJaxConfig: 'local'};</script><script type=\"text/javascript\">if (window.MathJax) {MathJax.Hub.Config({SVG: {font: \"STIX-Web\"}});}</script><script>requirejs.config({paths: { 'plotly': ['https://cdn.plot.ly/plotly-latest.min']},});if(!window._Plotly) {require(['plotly'],function(plotly) {window._Plotly=plotly;});}</script>"
      ],
      "text/vnd.plotly.v1+html": [
       "<script type=\"text/javascript\">window.PlotlyConfig = {MathJaxConfig: 'local'};</script><script type=\"text/javascript\">if (window.MathJax) {MathJax.Hub.Config({SVG: {font: \"STIX-Web\"}});}</script><script>requirejs.config({paths: { 'plotly': ['https://cdn.plot.ly/plotly-latest.min']},});if(!window._Plotly) {require(['plotly'],function(plotly) {window._Plotly=plotly;});}</script>"
      ]
     },
     "metadata": {},
     "output_type": "display_data"
    },
    {
     "data": {
      "text/plain": [
       "{'int_mat_i5': [{'clock': 5541.534155,\n",
       "   'icp': 2.61,\n",
       "   'branch_misses': 1040593,\n",
       "   'cache_misses': 1202622113},\n",
       "  {'clock': 5558.865999,\n",
       "   'icp': 2.6,\n",
       "   'branch_misses': 1042062,\n",
       "   'cache_misses': 1203039621},\n",
       "  {'clock': 5587.592536,\n",
       "   'icp': 2.58,\n",
       "   'branch_misses': 1039881,\n",
       "   'cache_misses': 1204618275},\n",
       "  {'clock': 5568.836711,\n",
       "   'icp': 2.61,\n",
       "   'branch_misses': 1041086,\n",
       "   'cache_misses': 1209492142},\n",
       "  {'clock': 5483.359369,\n",
       "   'icp': 2.63,\n",
       "   'branch_misses': 1041551,\n",
       "   'cache_misses': 1197951203},\n",
       "  {'clock': 5556.287346,\n",
       "   'icp': 2.61,\n",
       "   'branch_misses': 1040512,\n",
       "   'cache_misses': 1209664055},\n",
       "  {'clock': 5476.921236,\n",
       "   'icp': 2.62,\n",
       "   'branch_misses': 1040962,\n",
       "   'cache_misses': 1202598640},\n",
       "  {'clock': 5515.66087,\n",
       "   'icp': 2.62,\n",
       "   'branch_misses': 1041032,\n",
       "   'cache_misses': 1204586470},\n",
       "  {'clock': 5504.107633,\n",
       "   'icp': 2.62,\n",
       "   'branch_misses': 1040538,\n",
       "   'cache_misses': 1207184566},\n",
       "  {'clock': 5514.882283,\n",
       "   'icp': 2.63,\n",
       "   'branch_misses': 1041511,\n",
       "   'cache_misses': 1204253637}],\n",
       " 'float_mat_i5': [{'clock': 7483.38266,\n",
       "   'icp': 1.92,\n",
       "   'branch_misses': 1057160,\n",
       "   'cache_misses': 1410245961},\n",
       "  {'clock': 7307.771412,\n",
       "   'icp': 1.97,\n",
       "   'branch_misses': 1056237,\n",
       "   'cache_misses': 1356824725},\n",
       "  {'clock': 7689.63352,\n",
       "   'icp': 1.87,\n",
       "   'branch_misses': 1058036,\n",
       "   'cache_misses': 1395422479},\n",
       "  {'clock': 7891.34118,\n",
       "   'icp': 1.82,\n",
       "   'branch_misses': 1057506,\n",
       "   'cache_misses': 1409162292},\n",
       "  {'clock': 7296.996403,\n",
       "   'icp': 1.98,\n",
       "   'branch_misses': 1054513,\n",
       "   'cache_misses': 1366532951},\n",
       "  {'clock': 7467.017829,\n",
       "   'icp': 1.93,\n",
       "   'branch_misses': 1059675,\n",
       "   'cache_misses': 1407099277},\n",
       "  {'clock': 7338.00536,\n",
       "   'icp': 1.96,\n",
       "   'branch_misses': 1058184,\n",
       "   'cache_misses': 1370747229},\n",
       "  {'clock': 7359.729452,\n",
       "   'icp': 1.95,\n",
       "   'branch_misses': 1054016,\n",
       "   'cache_misses': 1380115758},\n",
       "  {'clock': 7521.46944,\n",
       "   'icp': 1.92,\n",
       "   'branch_misses': 1059816,\n",
       "   'cache_misses': 1378519749},\n",
       "  {'clock': 7497.884108,\n",
       "   'icp': 1.92,\n",
       "   'branch_misses': 1056774,\n",
       "   'cache_misses': 1414154049}],\n",
       " 'float_gauss_i5': [{'clock': 3729.604716,\n",
       "   'icp': 1.74,\n",
       "   'branch_misses': 4090845,\n",
       "   'cache_misses': 229867574},\n",
       "  {'clock': 3753.329224,\n",
       "   'icp': 1.75,\n",
       "   'branch_misses': 4057578,\n",
       "   'cache_misses': 228265984},\n",
       "  {'clock': 3705.665019,\n",
       "   'icp': 1.75,\n",
       "   'branch_misses': 4053583,\n",
       "   'cache_misses': 232129083},\n",
       "  {'clock': 3731.720099,\n",
       "   'icp': 1.75,\n",
       "   'branch_misses': 4054977,\n",
       "   'cache_misses': 231741394},\n",
       "  {'clock': 3695.2727,\n",
       "   'icp': 1.75,\n",
       "   'branch_misses': 4080254,\n",
       "   'cache_misses': 228977484},\n",
       "  {'clock': 3706.823048,\n",
       "   'icp': 1.75,\n",
       "   'branch_misses': 4071726,\n",
       "   'cache_misses': 230970756},\n",
       "  {'clock': 3724.0161,\n",
       "   'icp': 1.74,\n",
       "   'branch_misses': 4352022,\n",
       "   'cache_misses': 228088635},\n",
       "  {'clock': 3699.334794,\n",
       "   'icp': 1.75,\n",
       "   'branch_misses': 4071079,\n",
       "   'cache_misses': 229982258},\n",
       "  {'clock': 3697.852156,\n",
       "   'icp': 1.75,\n",
       "   'branch_misses': 4097460,\n",
       "   'cache_misses': 231414072},\n",
       "  {'clock': 3704.60794,\n",
       "   'icp': 1.75,\n",
       "   'branch_misses': 4066374,\n",
       "   'cache_misses': 227724854}],\n",
       " 'dep_i5': [{'clock': 812.062069,\n",
       "   'icp': 1.3,\n",
       "   'branch_misses': 82372,\n",
       "   'cache_misses': 17584230},\n",
       "  {'clock': 798.864394,\n",
       "   'icp': 1.29,\n",
       "   'branch_misses': 97054,\n",
       "   'cache_misses': 17682014},\n",
       "  {'clock': 817.35605,\n",
       "   'icp': 1.3,\n",
       "   'branch_misses': 81037,\n",
       "   'cache_misses': 18533288},\n",
       "  {'clock': 814.560983,\n",
       "   'icp': 1.3,\n",
       "   'branch_misses': 87566,\n",
       "   'cache_misses': 18274730},\n",
       "  {'clock': 816.059014,\n",
       "   'icp': 1.3,\n",
       "   'branch_misses': 83281,\n",
       "   'cache_misses': 17355494},\n",
       "  {'clock': 800.751691,\n",
       "   'icp': 1.29,\n",
       "   'branch_misses': 94308,\n",
       "   'cache_misses': 17634907},\n",
       "  {'clock': 816.416076,\n",
       "   'icp': 1.29,\n",
       "   'branch_misses': 81239,\n",
       "   'cache_misses': 17381969},\n",
       "  {'clock': 817.101918,\n",
       "   'icp': 1.29,\n",
       "   'branch_misses': 80953,\n",
       "   'cache_misses': 18289695},\n",
       "  {'clock': 818.711624,\n",
       "   'icp': 1.3,\n",
       "   'branch_misses': 81439,\n",
       "   'cache_misses': 17594556},\n",
       "  {'clock': 818.727627,\n",
       "   'icp': 1.29,\n",
       "   'branch_misses': 82667,\n",
       "   'cache_misses': 17478880}],\n",
       " 'branch_i5': [{'clock': 0.87386,\n",
       "   'icp': 1.21,\n",
       "   'branch_misses': 23180,\n",
       "   'cache_misses': 16011},\n",
       "  {'clock': 0.741079,\n",
       "   'icp': 1.34,\n",
       "   'branch_misses': 21897,\n",
       "   'cache_misses': 14991},\n",
       "  {'clock': 0.740902,\n",
       "   'icp': 1.34,\n",
       "   'branch_misses': 21760,\n",
       "   'cache_misses': 15128},\n",
       "  {'clock': 0.734185,\n",
       "   'icp': 1.35,\n",
       "   'branch_misses': 21926,\n",
       "   'cache_misses': 15030},\n",
       "  {'clock': 0.777629,\n",
       "   'icp': 1.31,\n",
       "   'branch_misses': 21963,\n",
       "   'cache_misses': 15603},\n",
       "  {'clock': 0.744889,\n",
       "   'icp': 1.32,\n",
       "   'branch_misses': 21818,\n",
       "   'cache_misses': 14863},\n",
       "  {'clock': 0.749557,\n",
       "   'icp': 1.32,\n",
       "   'branch_misses': 21890,\n",
       "   'cache_misses': 14885},\n",
       "  {'clock': 0.738433,\n",
       "   'icp': 1.34,\n",
       "   'branch_misses': 21895,\n",
       "   'cache_misses': 15101},\n",
       "  {'clock': 0.76154,\n",
       "   'icp': 1.34,\n",
       "   'branch_misses': 21830,\n",
       "   'cache_misses': 14841},\n",
       "  {'clock': 0.735831,\n",
       "   'icp': 1.34,\n",
       "   'branch_misses': 22036,\n",
       "   'cache_misses': 14785}],\n",
       " 'branch_sort_i5': [{'clock': 9.897961,\n",
       "   'icp': 1.98,\n",
       "   'branch_misses': 161183,\n",
       "   'cache_misses': 25759},\n",
       "  {'clock': 9.899823,\n",
       "   'icp': 2.0,\n",
       "   'branch_misses': 159395,\n",
       "   'cache_misses': 24794},\n",
       "  {'clock': 9.877013,\n",
       "   'icp': 2.0,\n",
       "   'branch_misses': 159950,\n",
       "   'cache_misses': 24340},\n",
       "  {'clock': 9.945115,\n",
       "   'icp': 1.99,\n",
       "   'branch_misses': 159620,\n",
       "   'cache_misses': 25048},\n",
       "  {'clock': 9.90574,\n",
       "   'icp': 2.0,\n",
       "   'branch_misses': 160256,\n",
       "   'cache_misses': 24872},\n",
       "  {'clock': 9.887222,\n",
       "   'icp': 2.0,\n",
       "   'branch_misses': 159907,\n",
       "   'cache_misses': 24552},\n",
       "  {'clock': 10.149869,\n",
       "   'icp': 2.0,\n",
       "   'branch_misses': 160241,\n",
       "   'cache_misses': 24930},\n",
       "  {'clock': 9.932349,\n",
       "   'icp': 2.0,\n",
       "   'branch_misses': 159822,\n",
       "   'cache_misses': 25143},\n",
       "  {'clock': 9.961555,\n",
       "   'icp': 1.99,\n",
       "   'branch_misses': 160257,\n",
       "   'cache_misses': 24690},\n",
       "  {'clock': 9.788695,\n",
       "   'icp': 2.0,\n",
       "   'branch_misses': 160257,\n",
       "   'cache_misses': 25040}],\n",
       " 'int_mat_rasp': [{'clock': 94111.032533,\n",
       "   'icp': 0.4,\n",
       "   'branch_misses': 4116409,\n",
       "   'cache_misses': 1232037271},\n",
       "  {'clock': 93762.223844,\n",
       "   'icp': 0.4,\n",
       "   'branch_misses': 2845114,\n",
       "   'cache_misses': 1226432082},\n",
       "  {'clock': 93962.1391,\n",
       "   'icp': 0.4,\n",
       "   'branch_misses': 3552881,\n",
       "   'cache_misses': 1229957253},\n",
       "  {'clock': 96047.345699,\n",
       "   'icp': 0.39,\n",
       "   'branch_misses': 4729520,\n",
       "   'cache_misses': 1237041130},\n",
       "  {'clock': 96138.737535,\n",
       "   'icp': 0.39,\n",
       "   'branch_misses': 4508192,\n",
       "   'cache_misses': 1235967561},\n",
       "  {'clock': 96161.178352,\n",
       "   'icp': 0.39,\n",
       "   'branch_misses': 4537433,\n",
       "   'cache_misses': 1234259516},\n",
       "  {'clock': 96010.15175,\n",
       "   'icp': 0.39,\n",
       "   'branch_misses': 4129295,\n",
       "   'cache_misses': 1233355388},\n",
       "  {'clock': 95614.985329,\n",
       "   'icp': 0.4,\n",
       "   'branch_misses': 2855913,\n",
       "   'cache_misses': 1221014168},\n",
       "  {'clock': 96109.826443,\n",
       "   'icp': 0.39,\n",
       "   'branch_misses': 4554716,\n",
       "   'cache_misses': 1233677931},\n",
       "  {'clock': 96154.544565,\n",
       "   'icp': 0.39,\n",
       "   'branch_misses': 4550173,\n",
       "   'cache_misses': 1235616078}],\n",
       " 'float_mat_rasp': [{'clock': 113173.107728,\n",
       "   'icp': 0.34,\n",
       "   'branch_misses': 5028912,\n",
       "   'cache_misses': 1490094941},\n",
       "  {'clock': 112063.731129,\n",
       "   'icp': 0.34,\n",
       "   'branch_misses': 1834209,\n",
       "   'cache_misses': 1475729107},\n",
       "  {'clock': 113034.061121,\n",
       "   'icp': 0.34,\n",
       "   'branch_misses': 5144674,\n",
       "   'cache_misses': 1492907675},\n",
       "  {'clock': 112680.872164,\n",
       "   'icp': 0.34,\n",
       "   'branch_misses': 3980138,\n",
       "   'cache_misses': 1485285345},\n",
       "  {'clock': 110987.721008,\n",
       "   'icp': 0.34,\n",
       "   'branch_misses': 2110130,\n",
       "   'cache_misses': 1475405810},\n",
       "  {'clock': 108319.134333,\n",
       "   'icp': 0.35,\n",
       "   'branch_misses': 1890324,\n",
       "   'cache_misses': 1477264919},\n",
       "  {'clock': 108285.407728,\n",
       "   'icp': 0.35,\n",
       "   'branch_misses': 1814128,\n",
       "   'cache_misses': 1475814502},\n",
       "  {'clock': 108299.222885,\n",
       "   'icp': 0.35,\n",
       "   'branch_misses': 1812657,\n",
       "   'cache_misses': 1476802053},\n",
       "  {'clock': 108283.678136,\n",
       "   'icp': 0.35,\n",
       "   'branch_misses': 1784086,\n",
       "   'cache_misses': 1476515423},\n",
       "  {'clock': 108340.623609,\n",
       "   'icp': 0.35,\n",
       "   'branch_misses': 1812382,\n",
       "   'cache_misses': 1475959816}],\n",
       " 'float_gauss_rasp': [{'clock': 6935.103514,\n",
       "   'icp': 0.52,\n",
       "   'branch_misses': 3858775,\n",
       "   'cache_misses': 15912074},\n",
       "  {'clock': 7021.913972,\n",
       "   'icp': 0.52,\n",
       "   'branch_misses': 3578760,\n",
       "   'cache_misses': 15811288},\n",
       "  {'clock': 6935.919291,\n",
       "   'icp': 0.52,\n",
       "   'branch_misses': 3625451,\n",
       "   'cache_misses': 16028043},\n",
       "  {'clock': 6995.937933,\n",
       "   'icp': 0.52,\n",
       "   'branch_misses': 3587755,\n",
       "   'cache_misses': 15801746},\n",
       "  {'clock': 7166.834433,\n",
       "   'icp': 0.52,\n",
       "   'branch_misses': 4189253,\n",
       "   'cache_misses': 17025632},\n",
       "  {'clock': 7062.628154,\n",
       "   'icp': 0.52,\n",
       "   'branch_misses': 3899905,\n",
       "   'cache_misses': 16381076},\n",
       "  {'clock': 7004.499338,\n",
       "   'icp': 0.52,\n",
       "   'branch_misses': 3648534,\n",
       "   'cache_misses': 16217053},\n",
       "  {'clock': 6989.987002,\n",
       "   'icp': 0.52,\n",
       "   'branch_misses': 3560909,\n",
       "   'cache_misses': 15745734},\n",
       "  {'clock': 6970.370491,\n",
       "   'icp': 0.52,\n",
       "   'branch_misses': 3535629,\n",
       "   'cache_misses': 15790556},\n",
       "  {'clock': 7036.238358,\n",
       "   'icp': 0.52,\n",
       "   'branch_misses': 3831753,\n",
       "   'cache_misses': 16651853}],\n",
       " 'dep_rasp': [{'clock': 8663.145963,\n",
       "   'icp': 0.88,\n",
       "   'branch_misses': 342941,\n",
       "   'cache_misses': 2240868},\n",
       "  {'clock': 8623.91029,\n",
       "   'icp': 0.88,\n",
       "   'branch_misses': 122472,\n",
       "   'cache_misses': 2055626},\n",
       "  {'clock': 8623.74457,\n",
       "   'icp': 0.88,\n",
       "   'branch_misses': 114016,\n",
       "   'cache_misses': 2091129},\n",
       "  {'clock': 8630.194763,\n",
       "   'icp': 0.88,\n",
       "   'branch_misses': 117367,\n",
       "   'cache_misses': 3113883},\n",
       "  {'clock': 8620.749151,\n",
       "   'icp': 0.88,\n",
       "   'branch_misses': 120100,\n",
       "   'cache_misses': 1581266},\n",
       "  {'clock': 8622.708151,\n",
       "   'icp': 0.88,\n",
       "   'branch_misses': 121860,\n",
       "   'cache_misses': 1584944},\n",
       "  {'clock': 8680.855861,\n",
       "   'icp': 0.88,\n",
       "   'branch_misses': 408842,\n",
       "   'cache_misses': 2744398},\n",
       "  {'clock': 8675.711637,\n",
       "   'icp': 0.88,\n",
       "   'branch_misses': 326671,\n",
       "   'cache_misses': 3273479},\n",
       "  {'clock': 8678.797374,\n",
       "   'icp': 0.88,\n",
       "   'branch_misses': 309283,\n",
       "   'cache_misses': 3801907},\n",
       "  {'clock': 8628.679975,\n",
       "   'icp': 0.88,\n",
       "   'branch_misses': 104230,\n",
       "   'cache_misses': 3076650}],\n",
       " 'branch_rasp': [{'clock': 9.712344,\n",
       "   'icp': 1.29,\n",
       "   'branch_misses': 26576,\n",
       "   'cache_misses': 6823},\n",
       "  {'clock': 9.991823,\n",
       "   'icp': 3.6,\n",
       "   'branch_misses': 26237,\n",
       "   'cache_misses': 6325},\n",
       "  {'clock': 4.880573,\n",
       "   'icp': 0.71,\n",
       "   'branch_misses': 25958,\n",
       "   'cache_misses': 6056},\n",
       "  {'clock': 4.966771,\n",
       "   'icp': 6.26,\n",
       "   'branch_misses': 26433,\n",
       "   'cache_misses': 6226},\n",
       "  {'clock': 4.856823,\n",
       "   'icp': 0.71,\n",
       "   'branch_misses': 26062,\n",
       "   'cache_misses': 6039},\n",
       "  {'clock': 4.829532,\n",
       "   'icp': 0.71,\n",
       "   'branch_misses': 25877,\n",
       "   'cache_misses': 5880},\n",
       "  {'clock': 4.94875,\n",
       "   'icp': 1.48,\n",
       "   'branch_misses': 26156,\n",
       "   'cache_misses': 6482},\n",
       "  {'clock': 4.87625,\n",
       "   'icp': 0.71,\n",
       "   'branch_misses': 26303,\n",
       "   'cache_misses': 6232},\n",
       "  {'clock': 4.971875,\n",
       "   'icp': 1.7,\n",
       "   'branch_misses': 26322,\n",
       "   'cache_misses': 6526},\n",
       "  {'clock': 4.893125,\n",
       "   'icp': 0.71,\n",
       "   'branch_misses': 26239,\n",
       "   'cache_misses': 6261}],\n",
       " 'branch_sort_rasp': [{'clock': 109.841823,\n",
       "   'icp': 0.74,\n",
       "   'branch_misses': 212354,\n",
       "   'cache_misses': 10929},\n",
       "  {'clock': 77.480208,\n",
       "   'icp': 0.74,\n",
       "   'branch_misses': 201754,\n",
       "   'cache_misses': 12588},\n",
       "  {'clock': 77.209948,\n",
       "   'icp': 0.75,\n",
       "   'branch_misses': 217330,\n",
       "   'cache_misses': 10999},\n",
       "  {'clock': 77.657085,\n",
       "   'icp': 0.74,\n",
       "   'branch_misses': 205077,\n",
       "   'cache_misses': 12820},\n",
       "  {'clock': 77.822292,\n",
       "   'icp': 0.74,\n",
       "   'branch_misses': 205787,\n",
       "   'cache_misses': 14628},\n",
       "  {'clock': 90.047969,\n",
       "   'icp': 0.78,\n",
       "   'branch_misses': 198791,\n",
       "   'cache_misses': 11358},\n",
       "  {'clock': 77.616718,\n",
       "   'icp': 0.74,\n",
       "   'branch_misses': 201749,\n",
       "   'cache_misses': 12263},\n",
       "  {'clock': 79.297968,\n",
       "   'icp': 0.73,\n",
       "   'branch_misses': 203065,\n",
       "   'cache_misses': 13682},\n",
       "  {'clock': 77.817291,\n",
       "   'icp': 0.74,\n",
       "   'branch_misses': 216751,\n",
       "   'cache_misses': 13577},\n",
       "  {'clock': 77.232032,\n",
       "   'icp': 0.75,\n",
       "   'branch_misses': 204369,\n",
       "   'cache_misses': 11007}]}"
      ]
     },
     "execution_count": 1,
     "metadata": {},
     "output_type": "execute_result"
    }
   ],
   "source": [
    "import sys\n",
    "import numpy as np\n",
    "import scipy.stats as stats\n",
    "import plotly.graph_objs as go\n",
    "from plotly.offline import download_plotlyjs, init_notebook_mode, plot, iplot\n",
    "import plotly.io as pio\n",
    "import math\n",
    "\n",
    "init_notebook_mode(connected=True)\n",
    "\n",
    "\n",
    "def process_clock(line):\n",
    "\ttime = float(line.split()[0].replace(',','.'))\n",
    "\t#print('time ',time)\n",
    "\treturn time\n",
    "\n",
    "def process_icp(line):\n",
    "\ticp = float(line.split('#')[1].split()[0].replace(',','.'))\n",
    "\t#print('icp',icp)\n",
    "\treturn icp\n",
    "\n",
    "def process_branch(line):\n",
    "\tbranch_misses =  int(line.split('#')[0].split()[0].replace('.',''))\n",
    "\t#print(branch_misses)\n",
    "\treturn branch_misses\n",
    "\n",
    "def process_cache(line):\n",
    "\tcache_misses = int(line.split('#')[0].split()[0].replace('.','') )\n",
    "\t#print('cache_misses', cache_misses)\n",
    "\treturn cache_misses\n",
    "\n",
    "def collect_data():\n",
    "\tfile_name = sys.argv[1]\n",
    "\tplats = ['i5', 'rasp']\n",
    "\ttests = ['int_mat','float_mat','float_gauss','dep','branch','branch_sort']\n",
    "\t\n",
    "\n",
    "\tresults = dict()\n",
    "\tfor plat in plats:\n",
    "\t\tfor test in tests:\n",
    "\t\t\ttest_name = '{}_{}'.format(test,plat)\n",
    "\t\t\tfile_name = 'result_{}.txt'.format(test_name)\n",
    "\n",
    "\t\t\tcontent = []\n",
    "\t\t\twith open(file_name,'r') as f:\n",
    "\t\t\t\tcontent = f.readlines()\n",
    "\t\t\t\t#print(content)\n",
    "\n",
    "\t\t\tcontent = [x.strip() for x in content]\n",
    "\t\t\t#print(content)\n",
    "\n",
    "\t\t\ttest_num = -1\n",
    "\t\t\tresults[test_name] = []\n",
    "\t\t\tfor line in content:\n",
    "\t\t\t\tif('task-clock' in line):\n",
    "\t\t\t\t\ttest_num += 1\n",
    "\t\t\t\t\tresults[test_name].append(dict())\n",
    "\t\t\t\t\tresults[test_name][test_num]['clock'] = process_clock(line)\n",
    "\t\t\t\tif('instructions' in line):\n",
    "\t\t\t\t\tresults[test_name][test_num]['icp'] = process_icp(line)\n",
    "                    \n",
    "\t\t\t\tif('branch-misses' in line):\n",
    "\t\t\t\t\tresults[test_name][test_num]['branch_misses'] = process_branch(line)\n",
    "                    \n",
    "\t\t\t\tif('L1-dcache-load-misses' in line):\n",
    "\t\t\t\t\tresults[test_name][test_num]['cache_misses'] = process_cache(line)\n",
    "\t\t\t#print('resultado do teste {}'.format(test_name))\n",
    "\t\t\t#print(results[test_name])\n",
    "\treturn results\n",
    "\n",
    "\n",
    "test_results = collect_data()\n",
    "test_results"
   ]
  },
  {
   "cell_type": "code",
   "execution_count": 2,
   "metadata": {},
   "outputs": [
    {
     "name": "stdout",
     "output_type": "stream",
     "text": [
      "branch conf do teste int_mat_i5: 370.042\n"
     ]
    },
    {
     "data": {
      "application/vnd.plotly.v1+json": {
       "data": [
        {
         "cells": {
          "height": 40,
          "values": [
           [
            1,
            2,
            3,
            4,
            5,
            6,
            7,
            8,
            9,
            10,
            "Media",
            "Desvio padrao",
            "Intervalo de conf.(95%)+-"
           ],
           [
            5541.534155,
            5558.865999,
            5587.592536,
            5568.836711,
            5483.359369,
            5556.287346,
            5476.921236,
            5515.66087,
            5504.107633,
            5514.882283,
            5530.805,
            35.459,
            21.978
           ],
           [
            2.61,
            2.6,
            2.58,
            2.61,
            2.63,
            2.61,
            2.62,
            2.62,
            2.62,
            2.63,
            2.613,
            0.014,
            0.009
           ],
           [
            1040593,
            1042062,
            1039881,
            1041086,
            1041551,
            1040512,
            1040962,
            1041032,
            1040538,
            1041511,
            1040972.8,
            597.028,
            370.042
           ],
           [
            1202622113,
            1203039621,
            1204618275,
            1209492142,
            1197951203,
            1209664055,
            1202598640,
            1204586470,
            1207184566,
            1204253637,
            1204601072.2,
            3330719.497,
            2064401.332
           ]
          ]
         },
         "columnwidth": [
          40
         ],
         "header": {
          "values": [
           "Amostra",
           "Tempo(ms)",
           "IPC",
           "Branch misses",
           "Cache misses"
          ]
         },
         "type": "table",
         "uid": "deb80ce0-d3c2-4bf4-8fba-734489722118"
        }
       ],
       "layout": {
        "font": {
         "color": "#7f7f7f",
         "family": "Courier New, monospace",
         "size": 15
        },
        "height": 800,
        "title": "int_mat_i5",
        "width": 1000
       }
      },
      "text/html": [
       "<div id=\"1c10a81c-3a96-4134-8b09-769a57bb0b1d\" style=\"height: 800px; width: 1000px;\" class=\"plotly-graph-div\"></div><script type=\"text/javascript\">require([\"plotly\"], function(Plotly) { window.PLOTLYENV=window.PLOTLYENV || {};window.PLOTLYENV.BASE_URL=\"https://plot.ly\";Plotly.newPlot(\"1c10a81c-3a96-4134-8b09-769a57bb0b1d\", [{\"cells\": {\"height\": 40, \"values\": [[1, 2, 3, 4, 5, 6, 7, 8, 9, 10, \"Media\", \"Desvio padrao\", \"Intervalo de conf.(95%)+-\"], [5541.534155, 5558.865999, 5587.592536, 5568.836711, 5483.359369, 5556.287346, 5476.921236, 5515.66087, 5504.107633, 5514.882283, 5530.805, 35.459, 21.978], [2.61, 2.6, 2.58, 2.61, 2.63, 2.61, 2.62, 2.62, 2.62, 2.63, 2.613, 0.014, 0.009], [1040593.0, 1042062.0, 1039881.0, 1041086.0, 1041551.0, 1040512.0, 1040962.0, 1041032.0, 1040538.0, 1041511.0, 1040972.8, 597.028, 370.042], [1202622113.0, 1203039621.0, 1204618275.0, 1209492142.0, 1197951203.0, 1209664055.0, 1202598640.0, 1204586470.0, 1207184566.0, 1204253637.0, 1204601072.2, 3330719.497, 2064401.332]]}, \"columnwidth\": [40], \"header\": {\"values\": [\"Amostra\", \"Tempo(ms)\", \"IPC\", \"Branch misses\", \"Cache misses\"]}, \"type\": \"table\", \"uid\": \"deb80ce0-d3c2-4bf4-8fba-734489722118\"}], {\"font\": {\"color\": \"#7f7f7f\", \"family\": \"Courier New, monospace\", \"size\": 15}, \"height\": 800, \"title\": \"int_mat_i5\", \"width\": 1000}, {\"showLink\": true, \"linkText\": \"Export to plot.ly\"})});</script>"
      ],
      "text/vnd.plotly.v1+html": [
       "<div id=\"1c10a81c-3a96-4134-8b09-769a57bb0b1d\" style=\"height: 800px; width: 1000px;\" class=\"plotly-graph-div\"></div><script type=\"text/javascript\">require([\"plotly\"], function(Plotly) { window.PLOTLYENV=window.PLOTLYENV || {};window.PLOTLYENV.BASE_URL=\"https://plot.ly\";Plotly.newPlot(\"1c10a81c-3a96-4134-8b09-769a57bb0b1d\", [{\"cells\": {\"height\": 40, \"values\": [[1, 2, 3, 4, 5, 6, 7, 8, 9, 10, \"Media\", \"Desvio padrao\", \"Intervalo de conf.(95%)+-\"], [5541.534155, 5558.865999, 5587.592536, 5568.836711, 5483.359369, 5556.287346, 5476.921236, 5515.66087, 5504.107633, 5514.882283, 5530.805, 35.459, 21.978], [2.61, 2.6, 2.58, 2.61, 2.63, 2.61, 2.62, 2.62, 2.62, 2.63, 2.613, 0.014, 0.009], [1040593.0, 1042062.0, 1039881.0, 1041086.0, 1041551.0, 1040512.0, 1040962.0, 1041032.0, 1040538.0, 1041511.0, 1040972.8, 597.028, 370.042], [1202622113.0, 1203039621.0, 1204618275.0, 1209492142.0, 1197951203.0, 1209664055.0, 1202598640.0, 1204586470.0, 1207184566.0, 1204253637.0, 1204601072.2, 3330719.497, 2064401.332]]}, \"columnwidth\": [40], \"header\": {\"values\": [\"Amostra\", \"Tempo(ms)\", \"IPC\", \"Branch misses\", \"Cache misses\"]}, \"type\": \"table\", \"uid\": \"deb80ce0-d3c2-4bf4-8fba-734489722118\"}], {\"font\": {\"color\": \"#7f7f7f\", \"family\": \"Courier New, monospace\", \"size\": 15}, \"height\": 800, \"title\": \"int_mat_i5\", \"width\": 1000}, {\"showLink\": true, \"linkText\": \"Export to plot.ly\"})});</script>"
      ]
     },
     "metadata": {},
     "output_type": "display_data"
    },
    {
     "name": "stdout",
     "output_type": "stream",
     "text": [
      "branch conf do teste float_mat_i5: 1129.298\n"
     ]
    },
    {
     "data": {
      "application/vnd.plotly.v1+json": {
       "data": [
        {
         "cells": {
          "height": 40,
          "values": [
           [
            1,
            2,
            3,
            4,
            5,
            6,
            7,
            8,
            9,
            10,
            "Media",
            "Desvio padrao",
            "Intervalo de conf.(95%)+-"
           ],
           [
            7483.38266,
            7307.771412,
            7689.63352,
            7891.34118,
            7296.996403,
            7467.017829,
            7338.00536,
            7359.729452,
            7521.46944,
            7497.884108,
            7485.323,
            176.88,
            109.631
           ],
           [
            1.92,
            1.97,
            1.87,
            1.82,
            1.98,
            1.93,
            1.96,
            1.95,
            1.92,
            1.92,
            1.924,
            0.046,
            0.029
           ],
           [
            1057160,
            1056237,
            1058036,
            1057506,
            1054513,
            1059675,
            1058184,
            1054016,
            1059816,
            1056774,
            1057191.7,
            1822.017,
            1129.298
           ],
           [
            1410245961,
            1356824725,
            1395422479,
            1409162292,
            1366532951,
            1407099277,
            1370747229,
            1380115758,
            1378519749,
            1414154049,
            1388882447,
            19802208.498,
            12273535.985
           ]
          ]
         },
         "columnwidth": [
          40
         ],
         "header": {
          "values": [
           "Amostra",
           "Tempo(ms)",
           "IPC",
           "Branch misses",
           "Cache misses"
          ]
         },
         "type": "table",
         "uid": "1c9fa230-a15b-45ea-85fe-1720552f7a5b"
        }
       ],
       "layout": {
        "font": {
         "color": "#7f7f7f",
         "family": "Courier New, monospace",
         "size": 15
        },
        "height": 800,
        "title": "float_mat_i5",
        "width": 1000
       }
      },
      "text/html": [
       "<div id=\"b02f6f8d-003e-484a-9899-cd4c2eb47dcb\" style=\"height: 800px; width: 1000px;\" class=\"plotly-graph-div\"></div><script type=\"text/javascript\">require([\"plotly\"], function(Plotly) { window.PLOTLYENV=window.PLOTLYENV || {};window.PLOTLYENV.BASE_URL=\"https://plot.ly\";Plotly.newPlot(\"b02f6f8d-003e-484a-9899-cd4c2eb47dcb\", [{\"cells\": {\"height\": 40, \"values\": [[1, 2, 3, 4, 5, 6, 7, 8, 9, 10, \"Media\", \"Desvio padrao\", \"Intervalo de conf.(95%)+-\"], [7483.38266, 7307.771412, 7689.63352, 7891.34118, 7296.996403, 7467.017829, 7338.00536, 7359.729452, 7521.46944, 7497.884108, 7485.323, 176.88, 109.631], [1.92, 1.97, 1.87, 1.82, 1.98, 1.93, 1.96, 1.95, 1.92, 1.92, 1.924, 0.046, 0.029], [1057160.0, 1056237.0, 1058036.0, 1057506.0, 1054513.0, 1059675.0, 1058184.0, 1054016.0, 1059816.0, 1056774.0, 1057191.7, 1822.017, 1129.298], [1410245961.0, 1356824725.0, 1395422479.0, 1409162292.0, 1366532951.0, 1407099277.0, 1370747229.0, 1380115758.0, 1378519749.0, 1414154049.0, 1388882447.0, 19802208.498, 12273535.985]]}, \"columnwidth\": [40], \"header\": {\"values\": [\"Amostra\", \"Tempo(ms)\", \"IPC\", \"Branch misses\", \"Cache misses\"]}, \"type\": \"table\", \"uid\": \"1c9fa230-a15b-45ea-85fe-1720552f7a5b\"}], {\"font\": {\"color\": \"#7f7f7f\", \"family\": \"Courier New, monospace\", \"size\": 15}, \"height\": 800, \"title\": \"float_mat_i5\", \"width\": 1000}, {\"showLink\": true, \"linkText\": \"Export to plot.ly\"})});</script>"
      ],
      "text/vnd.plotly.v1+html": [
       "<div id=\"b02f6f8d-003e-484a-9899-cd4c2eb47dcb\" style=\"height: 800px; width: 1000px;\" class=\"plotly-graph-div\"></div><script type=\"text/javascript\">require([\"plotly\"], function(Plotly) { window.PLOTLYENV=window.PLOTLYENV || {};window.PLOTLYENV.BASE_URL=\"https://plot.ly\";Plotly.newPlot(\"b02f6f8d-003e-484a-9899-cd4c2eb47dcb\", [{\"cells\": {\"height\": 40, \"values\": [[1, 2, 3, 4, 5, 6, 7, 8, 9, 10, \"Media\", \"Desvio padrao\", \"Intervalo de conf.(95%)+-\"], [7483.38266, 7307.771412, 7689.63352, 7891.34118, 7296.996403, 7467.017829, 7338.00536, 7359.729452, 7521.46944, 7497.884108, 7485.323, 176.88, 109.631], [1.92, 1.97, 1.87, 1.82, 1.98, 1.93, 1.96, 1.95, 1.92, 1.92, 1.924, 0.046, 0.029], [1057160.0, 1056237.0, 1058036.0, 1057506.0, 1054513.0, 1059675.0, 1058184.0, 1054016.0, 1059816.0, 1056774.0, 1057191.7, 1822.017, 1129.298], [1410245961.0, 1356824725.0, 1395422479.0, 1409162292.0, 1366532951.0, 1407099277.0, 1370747229.0, 1380115758.0, 1378519749.0, 1414154049.0, 1388882447.0, 19802208.498, 12273535.985]]}, \"columnwidth\": [40], \"header\": {\"values\": [\"Amostra\", \"Tempo(ms)\", \"IPC\", \"Branch misses\", \"Cache misses\"]}, \"type\": \"table\", \"uid\": \"1c9fa230-a15b-45ea-85fe-1720552f7a5b\"}], {\"font\": {\"color\": \"#7f7f7f\", \"family\": \"Courier New, monospace\", \"size\": 15}, \"height\": 800, \"title\": \"float_mat_i5\", \"width\": 1000}, {\"showLink\": true, \"linkText\": \"Export to plot.ly\"})});</script>"
      ]
     },
     "metadata": {},
     "output_type": "display_data"
    },
    {
     "name": "stdout",
     "output_type": "stream",
     "text": [
      "branch conf do teste float_gauss_i5: 52862.389\n"
     ]
    },
    {
     "data": {
      "application/vnd.plotly.v1+json": {
       "data": [
        {
         "cells": {
          "height": 40,
          "values": [
           [
            1,
            2,
            3,
            4,
            5,
            6,
            7,
            8,
            9,
            10,
            "Media",
            "Desvio padrao",
            "Intervalo de conf.(95%)+-"
           ],
           [
            3729.604716,
            3753.329224,
            3705.665019,
            3731.720099,
            3695.2727,
            3706.823048,
            3724.0161,
            3699.334794,
            3697.852156,
            3704.60794,
            3714.823,
            17.982,
            11.145
           ],
           [
            1.74,
            1.75,
            1.75,
            1.75,
            1.75,
            1.75,
            1.74,
            1.75,
            1.75,
            1.75,
            1.748,
            0.004,
            0.002
           ],
           [
            4090845,
            4057578,
            4053583,
            4054977,
            4080254,
            4071726,
            4352022,
            4071079,
            4097460,
            4066374,
            4099589.8,
            85288.547,
            52862.389
           ],
           [
            229867574,
            228265984,
            232129083,
            231741394,
            228977484,
            230970756,
            228088635,
            229982258,
            231414072,
            227724854,
            229916209.4,
            1527645.673,
            946844.598
           ]
          ]
         },
         "columnwidth": [
          40
         ],
         "header": {
          "values": [
           "Amostra",
           "Tempo(ms)",
           "IPC",
           "Branch misses",
           "Cache misses"
          ]
         },
         "type": "table",
         "uid": "ec1a1ca2-045c-45d4-8854-913dde6c4345"
        }
       ],
       "layout": {
        "font": {
         "color": "#7f7f7f",
         "family": "Courier New, monospace",
         "size": 15
        },
        "height": 800,
        "title": "float_gauss_i5",
        "width": 1000
       }
      },
      "text/html": [
       "<div id=\"ac96e3ca-e918-4426-9bcf-cc496894f375\" style=\"height: 800px; width: 1000px;\" class=\"plotly-graph-div\"></div><script type=\"text/javascript\">require([\"plotly\"], function(Plotly) { window.PLOTLYENV=window.PLOTLYENV || {};window.PLOTLYENV.BASE_URL=\"https://plot.ly\";Plotly.newPlot(\"ac96e3ca-e918-4426-9bcf-cc496894f375\", [{\"cells\": {\"height\": 40, \"values\": [[1, 2, 3, 4, 5, 6, 7, 8, 9, 10, \"Media\", \"Desvio padrao\", \"Intervalo de conf.(95%)+-\"], [3729.604716, 3753.329224, 3705.665019, 3731.720099, 3695.2727, 3706.823048, 3724.0161, 3699.334794, 3697.852156, 3704.60794, 3714.823, 17.982, 11.145], [1.74, 1.75, 1.75, 1.75, 1.75, 1.75, 1.74, 1.75, 1.75, 1.75, 1.748, 0.004, 0.002], [4090845.0, 4057578.0, 4053583.0, 4054977.0, 4080254.0, 4071726.0, 4352022.0, 4071079.0, 4097460.0, 4066374.0, 4099589.8, 85288.547, 52862.389], [229867574.0, 228265984.0, 232129083.0, 231741394.0, 228977484.0, 230970756.0, 228088635.0, 229982258.0, 231414072.0, 227724854.0, 229916209.4, 1527645.673, 946844.598]]}, \"columnwidth\": [40], \"header\": {\"values\": [\"Amostra\", \"Tempo(ms)\", \"IPC\", \"Branch misses\", \"Cache misses\"]}, \"type\": \"table\", \"uid\": \"ec1a1ca2-045c-45d4-8854-913dde6c4345\"}], {\"font\": {\"color\": \"#7f7f7f\", \"family\": \"Courier New, monospace\", \"size\": 15}, \"height\": 800, \"title\": \"float_gauss_i5\", \"width\": 1000}, {\"showLink\": true, \"linkText\": \"Export to plot.ly\"})});</script>"
      ],
      "text/vnd.plotly.v1+html": [
       "<div id=\"ac96e3ca-e918-4426-9bcf-cc496894f375\" style=\"height: 800px; width: 1000px;\" class=\"plotly-graph-div\"></div><script type=\"text/javascript\">require([\"plotly\"], function(Plotly) { window.PLOTLYENV=window.PLOTLYENV || {};window.PLOTLYENV.BASE_URL=\"https://plot.ly\";Plotly.newPlot(\"ac96e3ca-e918-4426-9bcf-cc496894f375\", [{\"cells\": {\"height\": 40, \"values\": [[1, 2, 3, 4, 5, 6, 7, 8, 9, 10, \"Media\", \"Desvio padrao\", \"Intervalo de conf.(95%)+-\"], [3729.604716, 3753.329224, 3705.665019, 3731.720099, 3695.2727, 3706.823048, 3724.0161, 3699.334794, 3697.852156, 3704.60794, 3714.823, 17.982, 11.145], [1.74, 1.75, 1.75, 1.75, 1.75, 1.75, 1.74, 1.75, 1.75, 1.75, 1.748, 0.004, 0.002], [4090845.0, 4057578.0, 4053583.0, 4054977.0, 4080254.0, 4071726.0, 4352022.0, 4071079.0, 4097460.0, 4066374.0, 4099589.8, 85288.547, 52862.389], [229867574.0, 228265984.0, 232129083.0, 231741394.0, 228977484.0, 230970756.0, 228088635.0, 229982258.0, 231414072.0, 227724854.0, 229916209.4, 1527645.673, 946844.598]]}, \"columnwidth\": [40], \"header\": {\"values\": [\"Amostra\", \"Tempo(ms)\", \"IPC\", \"Branch misses\", \"Cache misses\"]}, \"type\": \"table\", \"uid\": \"ec1a1ca2-045c-45d4-8854-913dde6c4345\"}], {\"font\": {\"color\": \"#7f7f7f\", \"family\": \"Courier New, monospace\", \"size\": 15}, \"height\": 800, \"title\": \"float_gauss_i5\", \"width\": 1000}, {\"showLink\": true, \"linkText\": \"Export to plot.ly\"})});</script>"
      ]
     },
     "metadata": {},
     "output_type": "display_data"
    },
    {
     "name": "stdout",
     "output_type": "stream",
     "text": [
      "branch conf do teste dep_i5: 3464.095\n"
     ]
    },
    {
     "data": {
      "application/vnd.plotly.v1+json": {
       "data": [
        {
         "cells": {
          "height": 40,
          "values": [
           [
            1,
            2,
            3,
            4,
            5,
            6,
            7,
            8,
            9,
            10,
            "Media",
            "Desvio padrao",
            "Intervalo de conf.(95%)+-"
           ],
           [
            812.062069,
            798.864394,
            817.35605,
            814.560983,
            816.059014,
            800.751691,
            816.416076,
            817.101918,
            818.711624,
            818.727627,
            813.061,
            6.895,
            4.274
           ],
           [
            1.3,
            1.29,
            1.3,
            1.3,
            1.3,
            1.29,
            1.29,
            1.29,
            1.3,
            1.29,
            1.295,
            0.005,
            0.003
           ],
           [
            82372,
            97054,
            81037,
            87566,
            83281,
            94308,
            81239,
            80953,
            81439,
            82667,
            85191.6,
            5588.995,
            3464.095
           ],
           [
            17584230,
            17682014,
            18533288,
            18274730,
            17355494,
            17634907,
            17381969,
            18289695,
            17594556,
            17478880,
            17780976.3,
            400581.568,
            248283.028
           ]
          ]
         },
         "columnwidth": [
          40
         ],
         "header": {
          "values": [
           "Amostra",
           "Tempo(ms)",
           "IPC",
           "Branch misses",
           "Cache misses"
          ]
         },
         "type": "table",
         "uid": "8ed12496-84aa-4dfb-bda6-7b161b90cc8d"
        }
       ],
       "layout": {
        "font": {
         "color": "#7f7f7f",
         "family": "Courier New, monospace",
         "size": 15
        },
        "height": 800,
        "title": "dep_i5",
        "width": 1000
       }
      },
      "text/html": [
       "<div id=\"eb94efb0-8eec-4d1f-a55c-26fb6b4c3eed\" style=\"height: 800px; width: 1000px;\" class=\"plotly-graph-div\"></div><script type=\"text/javascript\">require([\"plotly\"], function(Plotly) { window.PLOTLYENV=window.PLOTLYENV || {};window.PLOTLYENV.BASE_URL=\"https://plot.ly\";Plotly.newPlot(\"eb94efb0-8eec-4d1f-a55c-26fb6b4c3eed\", [{\"cells\": {\"height\": 40, \"values\": [[1, 2, 3, 4, 5, 6, 7, 8, 9, 10, \"Media\", \"Desvio padrao\", \"Intervalo de conf.(95%)+-\"], [812.062069, 798.864394, 817.35605, 814.560983, 816.059014, 800.751691, 816.416076, 817.101918, 818.711624, 818.727627, 813.061, 6.895, 4.274], [1.3, 1.29, 1.3, 1.3, 1.3, 1.29, 1.29, 1.29, 1.3, 1.29, 1.295, 0.005, 0.003], [82372.0, 97054.0, 81037.0, 87566.0, 83281.0, 94308.0, 81239.0, 80953.0, 81439.0, 82667.0, 85191.6, 5588.995, 3464.095], [17584230.0, 17682014.0, 18533288.0, 18274730.0, 17355494.0, 17634907.0, 17381969.0, 18289695.0, 17594556.0, 17478880.0, 17780976.3, 400581.568, 248283.028]]}, \"columnwidth\": [40], \"header\": {\"values\": [\"Amostra\", \"Tempo(ms)\", \"IPC\", \"Branch misses\", \"Cache misses\"]}, \"type\": \"table\", \"uid\": \"8ed12496-84aa-4dfb-bda6-7b161b90cc8d\"}], {\"font\": {\"color\": \"#7f7f7f\", \"family\": \"Courier New, monospace\", \"size\": 15}, \"height\": 800, \"title\": \"dep_i5\", \"width\": 1000}, {\"showLink\": true, \"linkText\": \"Export to plot.ly\"})});</script>"
      ],
      "text/vnd.plotly.v1+html": [
       "<div id=\"eb94efb0-8eec-4d1f-a55c-26fb6b4c3eed\" style=\"height: 800px; width: 1000px;\" class=\"plotly-graph-div\"></div><script type=\"text/javascript\">require([\"plotly\"], function(Plotly) { window.PLOTLYENV=window.PLOTLYENV || {};window.PLOTLYENV.BASE_URL=\"https://plot.ly\";Plotly.newPlot(\"eb94efb0-8eec-4d1f-a55c-26fb6b4c3eed\", [{\"cells\": {\"height\": 40, \"values\": [[1, 2, 3, 4, 5, 6, 7, 8, 9, 10, \"Media\", \"Desvio padrao\", \"Intervalo de conf.(95%)+-\"], [812.062069, 798.864394, 817.35605, 814.560983, 816.059014, 800.751691, 816.416076, 817.101918, 818.711624, 818.727627, 813.061, 6.895, 4.274], [1.3, 1.29, 1.3, 1.3, 1.3, 1.29, 1.29, 1.29, 1.3, 1.29, 1.295, 0.005, 0.003], [82372.0, 97054.0, 81037.0, 87566.0, 83281.0, 94308.0, 81239.0, 80953.0, 81439.0, 82667.0, 85191.6, 5588.995, 3464.095], [17584230.0, 17682014.0, 18533288.0, 18274730.0, 17355494.0, 17634907.0, 17381969.0, 18289695.0, 17594556.0, 17478880.0, 17780976.3, 400581.568, 248283.028]]}, \"columnwidth\": [40], \"header\": {\"values\": [\"Amostra\", \"Tempo(ms)\", \"IPC\", \"Branch misses\", \"Cache misses\"]}, \"type\": \"table\", \"uid\": \"8ed12496-84aa-4dfb-bda6-7b161b90cc8d\"}], {\"font\": {\"color\": \"#7f7f7f\", \"family\": \"Courier New, monospace\", \"size\": 15}, \"height\": 800, \"title\": \"dep_i5\", \"width\": 1000}, {\"showLink\": true, \"linkText\": \"Export to plot.ly\"})});</script>"
      ]
     },
     "metadata": {},
     "output_type": "display_data"
    },
    {
     "name": "stdout",
     "output_type": "stream",
     "text": [
      "branch conf do teste branch_i5: 244.026\n"
     ]
    },
    {
     "data": {
      "application/vnd.plotly.v1+json": {
       "data": [
        {
         "cells": {
          "height": 40,
          "values": [
           [
            1,
            2,
            3,
            4,
            5,
            6,
            7,
            8,
            9,
            10,
            "Media",
            "Desvio padrao",
            "Intervalo de conf.(95%)+-"
           ],
           [
            0.87386,
            0.741079,
            0.740902,
            0.734185,
            0.777629,
            0.744889,
            0.749557,
            0.738433,
            0.76154,
            0.735831,
            0.76,
            0.04,
            0.025
           ],
           [
            1.21,
            1.34,
            1.34,
            1.35,
            1.31,
            1.32,
            1.32,
            1.34,
            1.34,
            1.34,
            1.321,
            0.039,
            0.024
           ],
           [
            23180,
            21897,
            21760,
            21926,
            21963,
            21818,
            21890,
            21895,
            21830,
            22036,
            22019.5,
            393.713,
            244.026
           ],
           [
            16011,
            14991,
            15128,
            15030,
            15603,
            14863,
            14885,
            15101,
            14841,
            14785,
            15123.8,
            369.26,
            228.87
           ]
          ]
         },
         "columnwidth": [
          40
         ],
         "header": {
          "values": [
           "Amostra",
           "Tempo(ms)",
           "IPC",
           "Branch misses",
           "Cache misses"
          ]
         },
         "type": "table",
         "uid": "cc220d1e-47b2-4475-a3af-3449ea55f396"
        }
       ],
       "layout": {
        "font": {
         "color": "#7f7f7f",
         "family": "Courier New, monospace",
         "size": 15
        },
        "height": 800,
        "title": "branch_i5",
        "width": 1000
       }
      },
      "text/html": [
       "<div id=\"bf6cd889-fb5b-48b9-aaab-888bace5a5d0\" style=\"height: 800px; width: 1000px;\" class=\"plotly-graph-div\"></div><script type=\"text/javascript\">require([\"plotly\"], function(Plotly) { window.PLOTLYENV=window.PLOTLYENV || {};window.PLOTLYENV.BASE_URL=\"https://plot.ly\";Plotly.newPlot(\"bf6cd889-fb5b-48b9-aaab-888bace5a5d0\", [{\"cells\": {\"height\": 40, \"values\": [[1, 2, 3, 4, 5, 6, 7, 8, 9, 10, \"Media\", \"Desvio padrao\", \"Intervalo de conf.(95%)+-\"], [0.87386, 0.741079, 0.740902, 0.734185, 0.777629, 0.744889, 0.749557, 0.738433, 0.76154, 0.735831, 0.76, 0.04, 0.025], [1.21, 1.34, 1.34, 1.35, 1.31, 1.32, 1.32, 1.34, 1.34, 1.34, 1.321, 0.039, 0.024], [23180.0, 21897.0, 21760.0, 21926.0, 21963.0, 21818.0, 21890.0, 21895.0, 21830.0, 22036.0, 22019.5, 393.713, 244.026], [16011.0, 14991.0, 15128.0, 15030.0, 15603.0, 14863.0, 14885.0, 15101.0, 14841.0, 14785.0, 15123.8, 369.26, 228.87]]}, \"columnwidth\": [40], \"header\": {\"values\": [\"Amostra\", \"Tempo(ms)\", \"IPC\", \"Branch misses\", \"Cache misses\"]}, \"type\": \"table\", \"uid\": \"cc220d1e-47b2-4475-a3af-3449ea55f396\"}], {\"font\": {\"color\": \"#7f7f7f\", \"family\": \"Courier New, monospace\", \"size\": 15}, \"height\": 800, \"title\": \"branch_i5\", \"width\": 1000}, {\"showLink\": true, \"linkText\": \"Export to plot.ly\"})});</script>"
      ],
      "text/vnd.plotly.v1+html": [
       "<div id=\"bf6cd889-fb5b-48b9-aaab-888bace5a5d0\" style=\"height: 800px; width: 1000px;\" class=\"plotly-graph-div\"></div><script type=\"text/javascript\">require([\"plotly\"], function(Plotly) { window.PLOTLYENV=window.PLOTLYENV || {};window.PLOTLYENV.BASE_URL=\"https://plot.ly\";Plotly.newPlot(\"bf6cd889-fb5b-48b9-aaab-888bace5a5d0\", [{\"cells\": {\"height\": 40, \"values\": [[1, 2, 3, 4, 5, 6, 7, 8, 9, 10, \"Media\", \"Desvio padrao\", \"Intervalo de conf.(95%)+-\"], [0.87386, 0.741079, 0.740902, 0.734185, 0.777629, 0.744889, 0.749557, 0.738433, 0.76154, 0.735831, 0.76, 0.04, 0.025], [1.21, 1.34, 1.34, 1.35, 1.31, 1.32, 1.32, 1.34, 1.34, 1.34, 1.321, 0.039, 0.024], [23180.0, 21897.0, 21760.0, 21926.0, 21963.0, 21818.0, 21890.0, 21895.0, 21830.0, 22036.0, 22019.5, 393.713, 244.026], [16011.0, 14991.0, 15128.0, 15030.0, 15603.0, 14863.0, 14885.0, 15101.0, 14841.0, 14785.0, 15123.8, 369.26, 228.87]]}, \"columnwidth\": [40], \"header\": {\"values\": [\"Amostra\", \"Tempo(ms)\", \"IPC\", \"Branch misses\", \"Cache misses\"]}, \"type\": \"table\", \"uid\": \"cc220d1e-47b2-4475-a3af-3449ea55f396\"}], {\"font\": {\"color\": \"#7f7f7f\", \"family\": \"Courier New, monospace\", \"size\": 15}, \"height\": 800, \"title\": \"branch_i5\", \"width\": 1000}, {\"showLink\": true, \"linkText\": \"Export to plot.ly\"})});</script>"
      ]
     },
     "metadata": {},
     "output_type": "display_data"
    },
    {
     "name": "stdout",
     "output_type": "stream",
     "text": [
      "branch conf do teste branch_sort_i5: 286.026\n"
     ]
    },
    {
     "data": {
      "application/vnd.plotly.v1+json": {
       "data": [
        {
         "cells": {
          "height": 40,
          "values": [
           [
            1,
            2,
            3,
            4,
            5,
            6,
            7,
            8,
            9,
            10,
            "Media",
            "Desvio padrao",
            "Intervalo de conf.(95%)+-"
           ],
           [
            9.897961,
            9.899823,
            9.877013,
            9.945115,
            9.90574,
            9.887222,
            10.149869,
            9.932349,
            9.961555,
            9.788695,
            9.925,
            0.087,
            0.054
           ],
           [
            1.98,
            2,
            2,
            1.99,
            2,
            2,
            2,
            2,
            1.99,
            2,
            1.996,
            0.007,
            0.004
           ],
           [
            161183,
            159395,
            159950,
            159620,
            160256,
            159907,
            160241,
            159822,
            160257,
            160257,
            160088.8,
            461.477,
            286.026
           ],
           [
            25759,
            24794,
            24340,
            25048,
            24872,
            24552,
            24930,
            25143,
            24690,
            25040,
            24916.8,
            364.326,
            225.812
           ]
          ]
         },
         "columnwidth": [
          40
         ],
         "header": {
          "values": [
           "Amostra",
           "Tempo(ms)",
           "IPC",
           "Branch misses",
           "Cache misses"
          ]
         },
         "type": "table",
         "uid": "726c80fc-6ae4-4b2d-a282-11250c95c722"
        }
       ],
       "layout": {
        "font": {
         "color": "#7f7f7f",
         "family": "Courier New, monospace",
         "size": 15
        },
        "height": 800,
        "title": "branch_sort_i5",
        "width": 1000
       }
      },
      "text/html": [
       "<div id=\"0b312909-c757-4c7a-be0f-21a66af7a63c\" style=\"height: 800px; width: 1000px;\" class=\"plotly-graph-div\"></div><script type=\"text/javascript\">require([\"plotly\"], function(Plotly) { window.PLOTLYENV=window.PLOTLYENV || {};window.PLOTLYENV.BASE_URL=\"https://plot.ly\";Plotly.newPlot(\"0b312909-c757-4c7a-be0f-21a66af7a63c\", [{\"cells\": {\"height\": 40, \"values\": [[1, 2, 3, 4, 5, 6, 7, 8, 9, 10, \"Media\", \"Desvio padrao\", \"Intervalo de conf.(95%)+-\"], [9.897961, 9.899823, 9.877013, 9.945115, 9.90574, 9.887222, 10.149869, 9.932349, 9.961555, 9.788695, 9.925, 0.087, 0.054], [1.98, 2.0, 2.0, 1.99, 2.0, 2.0, 2.0, 2.0, 1.99, 2.0, 1.996, 0.007, 0.004], [161183.0, 159395.0, 159950.0, 159620.0, 160256.0, 159907.0, 160241.0, 159822.0, 160257.0, 160257.0, 160088.8, 461.477, 286.026], [25759.0, 24794.0, 24340.0, 25048.0, 24872.0, 24552.0, 24930.0, 25143.0, 24690.0, 25040.0, 24916.8, 364.326, 225.812]]}, \"columnwidth\": [40], \"header\": {\"values\": [\"Amostra\", \"Tempo(ms)\", \"IPC\", \"Branch misses\", \"Cache misses\"]}, \"type\": \"table\", \"uid\": \"726c80fc-6ae4-4b2d-a282-11250c95c722\"}], {\"font\": {\"color\": \"#7f7f7f\", \"family\": \"Courier New, monospace\", \"size\": 15}, \"height\": 800, \"title\": \"branch_sort_i5\", \"width\": 1000}, {\"showLink\": true, \"linkText\": \"Export to plot.ly\"})});</script>"
      ],
      "text/vnd.plotly.v1+html": [
       "<div id=\"0b312909-c757-4c7a-be0f-21a66af7a63c\" style=\"height: 800px; width: 1000px;\" class=\"plotly-graph-div\"></div><script type=\"text/javascript\">require([\"plotly\"], function(Plotly) { window.PLOTLYENV=window.PLOTLYENV || {};window.PLOTLYENV.BASE_URL=\"https://plot.ly\";Plotly.newPlot(\"0b312909-c757-4c7a-be0f-21a66af7a63c\", [{\"cells\": {\"height\": 40, \"values\": [[1, 2, 3, 4, 5, 6, 7, 8, 9, 10, \"Media\", \"Desvio padrao\", \"Intervalo de conf.(95%)+-\"], [9.897961, 9.899823, 9.877013, 9.945115, 9.90574, 9.887222, 10.149869, 9.932349, 9.961555, 9.788695, 9.925, 0.087, 0.054], [1.98, 2.0, 2.0, 1.99, 2.0, 2.0, 2.0, 2.0, 1.99, 2.0, 1.996, 0.007, 0.004], [161183.0, 159395.0, 159950.0, 159620.0, 160256.0, 159907.0, 160241.0, 159822.0, 160257.0, 160257.0, 160088.8, 461.477, 286.026], [25759.0, 24794.0, 24340.0, 25048.0, 24872.0, 24552.0, 24930.0, 25143.0, 24690.0, 25040.0, 24916.8, 364.326, 225.812]]}, \"columnwidth\": [40], \"header\": {\"values\": [\"Amostra\", \"Tempo(ms)\", \"IPC\", \"Branch misses\", \"Cache misses\"]}, \"type\": \"table\", \"uid\": \"726c80fc-6ae4-4b2d-a282-11250c95c722\"}], {\"font\": {\"color\": \"#7f7f7f\", \"family\": \"Courier New, monospace\", \"size\": 15}, \"height\": 800, \"title\": \"branch_sort_i5\", \"width\": 1000}, {\"showLink\": true, \"linkText\": \"Export to plot.ly\"})});</script>"
      ]
     },
     "metadata": {},
     "output_type": "display_data"
    },
    {
     "name": "stdout",
     "output_type": "stream",
     "text": [
      "branch conf do teste int_mat_rasp: 417997.755\n"
     ]
    },
    {
     "data": {
      "application/vnd.plotly.v1+json": {
       "data": [
        {
         "cells": {
          "height": 40,
          "values": [
           [
            1,
            2,
            3,
            4,
            5,
            6,
            7,
            8,
            9,
            10,
            "Media",
            "Desvio padrao",
            "Intervalo de conf.(95%)+-"
           ],
           [
            94111.032533,
            93762.223844,
            93962.1391,
            96047.345699,
            96138.737535,
            96161.178352,
            96010.15175,
            95614.985329,
            96109.826443,
            96154.544565,
            95407.217,
            971.934,
            602.411
           ],
           [
            0.4,
            0.4,
            0.4,
            0.39,
            0.39,
            0.39,
            0.39,
            0.4,
            0.39,
            0.39,
            0.394,
            0.005,
            0.003
           ],
           [
            4116409,
            2845114,
            3552881,
            4729520,
            4508192,
            4537433,
            4129295,
            2855913,
            4554716,
            4550173,
            4037964.6,
            674400.491,
            417997.755
           ],
           [
            1232037271,
            1226432082,
            1229957253,
            1237041130,
            1235967561,
            1234259516,
            1233355388,
            1221014168,
            1233677931,
            1235616078,
            1231935837.8,
            4688408.534,
            2905905.715
           ]
          ]
         },
         "columnwidth": [
          40
         ],
         "header": {
          "values": [
           "Amostra",
           "Tempo(ms)",
           "IPC",
           "Branch misses",
           "Cache misses"
          ]
         },
         "type": "table",
         "uid": "dc565f5d-d958-4f3e-9620-cdf202cab89e"
        }
       ],
       "layout": {
        "font": {
         "color": "#7f7f7f",
         "family": "Courier New, monospace",
         "size": 15
        },
        "height": 800,
        "title": "int_mat_rasp",
        "width": 1000
       }
      },
      "text/html": [
       "<div id=\"38ae62c2-9a83-4af3-9386-e4551f923666\" style=\"height: 800px; width: 1000px;\" class=\"plotly-graph-div\"></div><script type=\"text/javascript\">require([\"plotly\"], function(Plotly) { window.PLOTLYENV=window.PLOTLYENV || {};window.PLOTLYENV.BASE_URL=\"https://plot.ly\";Plotly.newPlot(\"38ae62c2-9a83-4af3-9386-e4551f923666\", [{\"cells\": {\"height\": 40, \"values\": [[1, 2, 3, 4, 5, 6, 7, 8, 9, 10, \"Media\", \"Desvio padrao\", \"Intervalo de conf.(95%)+-\"], [94111.032533, 93762.223844, 93962.1391, 96047.345699, 96138.737535, 96161.178352, 96010.15175, 95614.985329, 96109.826443, 96154.544565, 95407.217, 971.934, 602.411], [0.4, 0.4, 0.4, 0.39, 0.39, 0.39, 0.39, 0.4, 0.39, 0.39, 0.394, 0.005, 0.003], [4116409.0, 2845114.0, 3552881.0, 4729520.0, 4508192.0, 4537433.0, 4129295.0, 2855913.0, 4554716.0, 4550173.0, 4037964.6, 674400.491, 417997.755], [1232037271.0, 1226432082.0, 1229957253.0, 1237041130.0, 1235967561.0, 1234259516.0, 1233355388.0, 1221014168.0, 1233677931.0, 1235616078.0, 1231935837.8, 4688408.534, 2905905.715]]}, \"columnwidth\": [40], \"header\": {\"values\": [\"Amostra\", \"Tempo(ms)\", \"IPC\", \"Branch misses\", \"Cache misses\"]}, \"type\": \"table\", \"uid\": \"dc565f5d-d958-4f3e-9620-cdf202cab89e\"}], {\"font\": {\"color\": \"#7f7f7f\", \"family\": \"Courier New, monospace\", \"size\": 15}, \"height\": 800, \"title\": \"int_mat_rasp\", \"width\": 1000}, {\"showLink\": true, \"linkText\": \"Export to plot.ly\"})});</script>"
      ],
      "text/vnd.plotly.v1+html": [
       "<div id=\"38ae62c2-9a83-4af3-9386-e4551f923666\" style=\"height: 800px; width: 1000px;\" class=\"plotly-graph-div\"></div><script type=\"text/javascript\">require([\"plotly\"], function(Plotly) { window.PLOTLYENV=window.PLOTLYENV || {};window.PLOTLYENV.BASE_URL=\"https://plot.ly\";Plotly.newPlot(\"38ae62c2-9a83-4af3-9386-e4551f923666\", [{\"cells\": {\"height\": 40, \"values\": [[1, 2, 3, 4, 5, 6, 7, 8, 9, 10, \"Media\", \"Desvio padrao\", \"Intervalo de conf.(95%)+-\"], [94111.032533, 93762.223844, 93962.1391, 96047.345699, 96138.737535, 96161.178352, 96010.15175, 95614.985329, 96109.826443, 96154.544565, 95407.217, 971.934, 602.411], [0.4, 0.4, 0.4, 0.39, 0.39, 0.39, 0.39, 0.4, 0.39, 0.39, 0.394, 0.005, 0.003], [4116409.0, 2845114.0, 3552881.0, 4729520.0, 4508192.0, 4537433.0, 4129295.0, 2855913.0, 4554716.0, 4550173.0, 4037964.6, 674400.491, 417997.755], [1232037271.0, 1226432082.0, 1229957253.0, 1237041130.0, 1235967561.0, 1234259516.0, 1233355388.0, 1221014168.0, 1233677931.0, 1235616078.0, 1231935837.8, 4688408.534, 2905905.715]]}, \"columnwidth\": [40], \"header\": {\"values\": [\"Amostra\", \"Tempo(ms)\", \"IPC\", \"Branch misses\", \"Cache misses\"]}, \"type\": \"table\", \"uid\": \"dc565f5d-d958-4f3e-9620-cdf202cab89e\"}], {\"font\": {\"color\": \"#7f7f7f\", \"family\": \"Courier New, monospace\", \"size\": 15}, \"height\": 800, \"title\": \"int_mat_rasp\", \"width\": 1000}, {\"showLink\": true, \"linkText\": \"Export to plot.ly\"})});</script>"
      ]
     },
     "metadata": {},
     "output_type": "display_data"
    },
    {
     "name": "stdout",
     "output_type": "stream",
     "text": [
      "branch conf do teste float_mat_rasp: 831247.14\n"
     ]
    },
    {
     "data": {
      "application/vnd.plotly.v1+json": {
       "data": [
        {
         "cells": {
          "height": 40,
          "values": [
           [
            1,
            2,
            3,
            4,
            5,
            6,
            7,
            8,
            9,
            10,
            "Media",
            "Desvio padrao",
            "Intervalo de conf.(95%)+-"
           ],
           [
            113173.107728,
            112063.731129,
            113034.061121,
            112680.872164,
            110987.721008,
            108319.134333,
            108285.407728,
            108299.222885,
            108283.678136,
            108340.623609,
            110346.756,
            2117.793,
            1312.622
           ],
           [
            0.34,
            0.34,
            0.34,
            0.34,
            0.34,
            0.35,
            0.35,
            0.35,
            0.35,
            0.35,
            0.345,
            0.005,
            0.003
           ],
           [
            5028912,
            1834209,
            5144674,
            3980138,
            2110130,
            1890324,
            1814128,
            1812657,
            1784086,
            1812382,
            2721164,
            1341139.929,
            831247.14
           ],
           [
            1490094941,
            1475729107,
            1492907675,
            1485285345,
            1475405810,
            1477264919,
            1475814502,
            1476802053,
            1476515423,
            1475959816,
            1480177959.1,
            6318009.845,
            3915943.072
           ]
          ]
         },
         "columnwidth": [
          40
         ],
         "header": {
          "values": [
           "Amostra",
           "Tempo(ms)",
           "IPC",
           "Branch misses",
           "Cache misses"
          ]
         },
         "type": "table",
         "uid": "4a599f32-6378-4744-8651-d1e82876d1f1"
        }
       ],
       "layout": {
        "font": {
         "color": "#7f7f7f",
         "family": "Courier New, monospace",
         "size": 15
        },
        "height": 800,
        "title": "float_mat_rasp",
        "width": 1000
       }
      },
      "text/html": [
       "<div id=\"3eafe134-101c-4b03-976a-fcd437b9ae76\" style=\"height: 800px; width: 1000px;\" class=\"plotly-graph-div\"></div><script type=\"text/javascript\">require([\"plotly\"], function(Plotly) { window.PLOTLYENV=window.PLOTLYENV || {};window.PLOTLYENV.BASE_URL=\"https://plot.ly\";Plotly.newPlot(\"3eafe134-101c-4b03-976a-fcd437b9ae76\", [{\"cells\": {\"height\": 40, \"values\": [[1, 2, 3, 4, 5, 6, 7, 8, 9, 10, \"Media\", \"Desvio padrao\", \"Intervalo de conf.(95%)+-\"], [113173.107728, 112063.731129, 113034.061121, 112680.872164, 110987.721008, 108319.134333, 108285.407728, 108299.222885, 108283.678136, 108340.623609, 110346.756, 2117.793, 1312.622], [0.34, 0.34, 0.34, 0.34, 0.34, 0.35, 0.35, 0.35, 0.35, 0.35, 0.345, 0.005, 0.003], [5028912.0, 1834209.0, 5144674.0, 3980138.0, 2110130.0, 1890324.0, 1814128.0, 1812657.0, 1784086.0, 1812382.0, 2721164.0, 1341139.929, 831247.14], [1490094941.0, 1475729107.0, 1492907675.0, 1485285345.0, 1475405810.0, 1477264919.0, 1475814502.0, 1476802053.0, 1476515423.0, 1475959816.0, 1480177959.1, 6318009.845, 3915943.072]]}, \"columnwidth\": [40], \"header\": {\"values\": [\"Amostra\", \"Tempo(ms)\", \"IPC\", \"Branch misses\", \"Cache misses\"]}, \"type\": \"table\", \"uid\": \"4a599f32-6378-4744-8651-d1e82876d1f1\"}], {\"font\": {\"color\": \"#7f7f7f\", \"family\": \"Courier New, monospace\", \"size\": 15}, \"height\": 800, \"title\": \"float_mat_rasp\", \"width\": 1000}, {\"showLink\": true, \"linkText\": \"Export to plot.ly\"})});</script>"
      ],
      "text/vnd.plotly.v1+html": [
       "<div id=\"3eafe134-101c-4b03-976a-fcd437b9ae76\" style=\"height: 800px; width: 1000px;\" class=\"plotly-graph-div\"></div><script type=\"text/javascript\">require([\"plotly\"], function(Plotly) { window.PLOTLYENV=window.PLOTLYENV || {};window.PLOTLYENV.BASE_URL=\"https://plot.ly\";Plotly.newPlot(\"3eafe134-101c-4b03-976a-fcd437b9ae76\", [{\"cells\": {\"height\": 40, \"values\": [[1, 2, 3, 4, 5, 6, 7, 8, 9, 10, \"Media\", \"Desvio padrao\", \"Intervalo de conf.(95%)+-\"], [113173.107728, 112063.731129, 113034.061121, 112680.872164, 110987.721008, 108319.134333, 108285.407728, 108299.222885, 108283.678136, 108340.623609, 110346.756, 2117.793, 1312.622], [0.34, 0.34, 0.34, 0.34, 0.34, 0.35, 0.35, 0.35, 0.35, 0.35, 0.345, 0.005, 0.003], [5028912.0, 1834209.0, 5144674.0, 3980138.0, 2110130.0, 1890324.0, 1814128.0, 1812657.0, 1784086.0, 1812382.0, 2721164.0, 1341139.929, 831247.14], [1490094941.0, 1475729107.0, 1492907675.0, 1485285345.0, 1475405810.0, 1477264919.0, 1475814502.0, 1476802053.0, 1476515423.0, 1475959816.0, 1480177959.1, 6318009.845, 3915943.072]]}, \"columnwidth\": [40], \"header\": {\"values\": [\"Amostra\", \"Tempo(ms)\", \"IPC\", \"Branch misses\", \"Cache misses\"]}, \"type\": \"table\", \"uid\": \"4a599f32-6378-4744-8651-d1e82876d1f1\"}], {\"font\": {\"color\": \"#7f7f7f\", \"family\": \"Courier New, monospace\", \"size\": 15}, \"height\": 800, \"title\": \"float_mat_rasp\", \"width\": 1000}, {\"showLink\": true, \"linkText\": \"Export to plot.ly\"})});</script>"
      ]
     },
     "metadata": {},
     "output_type": "display_data"
    },
    {
     "name": "stdout",
     "output_type": "stream",
     "text": [
      "branch conf do teste float_gauss_rasp: 122986.831\n"
     ]
    },
    {
     "data": {
      "application/vnd.plotly.v1+json": {
       "data": [
        {
         "cells": {
          "height": 40,
          "values": [
           [
            1,
            2,
            3,
            4,
            5,
            6,
            7,
            8,
            9,
            10,
            "Media",
            "Desvio padrao",
            "Intervalo de conf.(95%)+-"
           ],
           [
            6935.103514,
            7021.913972,
            6935.919291,
            6995.937933,
            7166.834433,
            7062.628154,
            7004.499338,
            6989.987002,
            6970.370491,
            7036.238358,
            7011.943,
            64.386,
            39.907
           ],
           [
            0.52,
            0.52,
            0.52,
            0.52,
            0.52,
            0.52,
            0.52,
            0.52,
            0.52,
            0.52,
            0.52,
            0,
            0
           ],
           [
            3858775,
            3578760,
            3625451,
            3587755,
            4189253,
            3899905,
            3648534,
            3560909,
            3535629,
            3831753,
            3731672.4,
            198427.811,
            122986.831
           ],
           [
            15912074,
            15811288,
            16028043,
            15801746,
            17025632,
            16381076,
            16217053,
            15745734,
            15790556,
            16651853,
            16136505.5,
            409240.637,
            253649.975
           ]
          ]
         },
         "columnwidth": [
          40
         ],
         "header": {
          "values": [
           "Amostra",
           "Tempo(ms)",
           "IPC",
           "Branch misses",
           "Cache misses"
          ]
         },
         "type": "table",
         "uid": "82100792-af33-4b01-8276-bdc67924650b"
        }
       ],
       "layout": {
        "font": {
         "color": "#7f7f7f",
         "family": "Courier New, monospace",
         "size": 15
        },
        "height": 800,
        "title": "float_gauss_rasp",
        "width": 1000
       }
      },
      "text/html": [
       "<div id=\"37a502f9-3aec-44ee-ac8f-3ac45b1d09e0\" style=\"height: 800px; width: 1000px;\" class=\"plotly-graph-div\"></div><script type=\"text/javascript\">require([\"plotly\"], function(Plotly) { window.PLOTLYENV=window.PLOTLYENV || {};window.PLOTLYENV.BASE_URL=\"https://plot.ly\";Plotly.newPlot(\"37a502f9-3aec-44ee-ac8f-3ac45b1d09e0\", [{\"cells\": {\"height\": 40, \"values\": [[1, 2, 3, 4, 5, 6, 7, 8, 9, 10, \"Media\", \"Desvio padrao\", \"Intervalo de conf.(95%)+-\"], [6935.103514, 7021.913972, 6935.919291, 6995.937933, 7166.834433, 7062.628154, 7004.499338, 6989.987002, 6970.370491, 7036.238358, 7011.943, 64.386, 39.907], [0.52, 0.52, 0.52, 0.52, 0.52, 0.52, 0.52, 0.52, 0.52, 0.52, 0.52, 0.0, 0.0], [3858775.0, 3578760.0, 3625451.0, 3587755.0, 4189253.0, 3899905.0, 3648534.0, 3560909.0, 3535629.0, 3831753.0, 3731672.4, 198427.811, 122986.831], [15912074.0, 15811288.0, 16028043.0, 15801746.0, 17025632.0, 16381076.0, 16217053.0, 15745734.0, 15790556.0, 16651853.0, 16136505.5, 409240.637, 253649.975]]}, \"columnwidth\": [40], \"header\": {\"values\": [\"Amostra\", \"Tempo(ms)\", \"IPC\", \"Branch misses\", \"Cache misses\"]}, \"type\": \"table\", \"uid\": \"82100792-af33-4b01-8276-bdc67924650b\"}], {\"font\": {\"color\": \"#7f7f7f\", \"family\": \"Courier New, monospace\", \"size\": 15}, \"height\": 800, \"title\": \"float_gauss_rasp\", \"width\": 1000}, {\"showLink\": true, \"linkText\": \"Export to plot.ly\"})});</script>"
      ],
      "text/vnd.plotly.v1+html": [
       "<div id=\"37a502f9-3aec-44ee-ac8f-3ac45b1d09e0\" style=\"height: 800px; width: 1000px;\" class=\"plotly-graph-div\"></div><script type=\"text/javascript\">require([\"plotly\"], function(Plotly) { window.PLOTLYENV=window.PLOTLYENV || {};window.PLOTLYENV.BASE_URL=\"https://plot.ly\";Plotly.newPlot(\"37a502f9-3aec-44ee-ac8f-3ac45b1d09e0\", [{\"cells\": {\"height\": 40, \"values\": [[1, 2, 3, 4, 5, 6, 7, 8, 9, 10, \"Media\", \"Desvio padrao\", \"Intervalo de conf.(95%)+-\"], [6935.103514, 7021.913972, 6935.919291, 6995.937933, 7166.834433, 7062.628154, 7004.499338, 6989.987002, 6970.370491, 7036.238358, 7011.943, 64.386, 39.907], [0.52, 0.52, 0.52, 0.52, 0.52, 0.52, 0.52, 0.52, 0.52, 0.52, 0.52, 0.0, 0.0], [3858775.0, 3578760.0, 3625451.0, 3587755.0, 4189253.0, 3899905.0, 3648534.0, 3560909.0, 3535629.0, 3831753.0, 3731672.4, 198427.811, 122986.831], [15912074.0, 15811288.0, 16028043.0, 15801746.0, 17025632.0, 16381076.0, 16217053.0, 15745734.0, 15790556.0, 16651853.0, 16136505.5, 409240.637, 253649.975]]}, \"columnwidth\": [40], \"header\": {\"values\": [\"Amostra\", \"Tempo(ms)\", \"IPC\", \"Branch misses\", \"Cache misses\"]}, \"type\": \"table\", \"uid\": \"82100792-af33-4b01-8276-bdc67924650b\"}], {\"font\": {\"color\": \"#7f7f7f\", \"family\": \"Courier New, monospace\", \"size\": 15}, \"height\": 800, \"title\": \"float_gauss_rasp\", \"width\": 1000}, {\"showLink\": true, \"linkText\": \"Export to plot.ly\"})});</script>"
      ]
     },
     "metadata": {},
     "output_type": "display_data"
    },
    {
     "name": "stdout",
     "output_type": "stream",
     "text": [
      "branch conf do teste dep_rasp: 71522.189\n"
     ]
    },
    {
     "data": {
      "application/vnd.plotly.v1+json": {
       "data": [
        {
         "cells": {
          "height": 40,
          "values": [
           [
            1,
            2,
            3,
            4,
            5,
            6,
            7,
            8,
            9,
            10,
            "Media",
            "Desvio padrao",
            "Intervalo de conf.(95%)+-"
           ],
           [
            8663.145963,
            8623.91029,
            8623.74457,
            8630.194763,
            8620.749151,
            8622.708151,
            8680.855861,
            8675.711637,
            8678.797374,
            8628.679975,
            8644.85,
            24.834,
            15.392
           ],
           [
            0.88,
            0.88,
            0.88,
            0.88,
            0.88,
            0.88,
            0.88,
            0.88,
            0.88,
            0.88,
            0.88,
            0,
            0
           ],
           [
            342941,
            122472,
            114016,
            117367,
            120100,
            121860,
            408842,
            326671,
            309283,
            104230,
            208778.2,
            115394.399,
            71522.189
           ],
           [
            2240868,
            2055626,
            2091129,
            3113883,
            1581266,
            1584944,
            2744398,
            3273479,
            3801907,
            3076650,
            2556415,
            717196.333,
            444522.893
           ]
          ]
         },
         "columnwidth": [
          40
         ],
         "header": {
          "values": [
           "Amostra",
           "Tempo(ms)",
           "IPC",
           "Branch misses",
           "Cache misses"
          ]
         },
         "type": "table",
         "uid": "6a1e8422-78ed-4419-9de6-a623e949667f"
        }
       ],
       "layout": {
        "font": {
         "color": "#7f7f7f",
         "family": "Courier New, monospace",
         "size": 15
        },
        "height": 800,
        "title": "dep_rasp",
        "width": 1000
       }
      },
      "text/html": [
       "<div id=\"6e970f65-8973-4c2f-933b-4030e834fa63\" style=\"height: 800px; width: 1000px;\" class=\"plotly-graph-div\"></div><script type=\"text/javascript\">require([\"plotly\"], function(Plotly) { window.PLOTLYENV=window.PLOTLYENV || {};window.PLOTLYENV.BASE_URL=\"https://plot.ly\";Plotly.newPlot(\"6e970f65-8973-4c2f-933b-4030e834fa63\", [{\"cells\": {\"height\": 40, \"values\": [[1, 2, 3, 4, 5, 6, 7, 8, 9, 10, \"Media\", \"Desvio padrao\", \"Intervalo de conf.(95%)+-\"], [8663.145963, 8623.91029, 8623.74457, 8630.194763, 8620.749151, 8622.708151, 8680.855861, 8675.711637, 8678.797374, 8628.679975, 8644.85, 24.834, 15.392], [0.88, 0.88, 0.88, 0.88, 0.88, 0.88, 0.88, 0.88, 0.88, 0.88, 0.88, 0.0, 0.0], [342941.0, 122472.0, 114016.0, 117367.0, 120100.0, 121860.0, 408842.0, 326671.0, 309283.0, 104230.0, 208778.2, 115394.399, 71522.189], [2240868.0, 2055626.0, 2091129.0, 3113883.0, 1581266.0, 1584944.0, 2744398.0, 3273479.0, 3801907.0, 3076650.0, 2556415.0, 717196.333, 444522.893]]}, \"columnwidth\": [40], \"header\": {\"values\": [\"Amostra\", \"Tempo(ms)\", \"IPC\", \"Branch misses\", \"Cache misses\"]}, \"type\": \"table\", \"uid\": \"6a1e8422-78ed-4419-9de6-a623e949667f\"}], {\"font\": {\"color\": \"#7f7f7f\", \"family\": \"Courier New, monospace\", \"size\": 15}, \"height\": 800, \"title\": \"dep_rasp\", \"width\": 1000}, {\"showLink\": true, \"linkText\": \"Export to plot.ly\"})});</script>"
      ],
      "text/vnd.plotly.v1+html": [
       "<div id=\"6e970f65-8973-4c2f-933b-4030e834fa63\" style=\"height: 800px; width: 1000px;\" class=\"plotly-graph-div\"></div><script type=\"text/javascript\">require([\"plotly\"], function(Plotly) { window.PLOTLYENV=window.PLOTLYENV || {};window.PLOTLYENV.BASE_URL=\"https://plot.ly\";Plotly.newPlot(\"6e970f65-8973-4c2f-933b-4030e834fa63\", [{\"cells\": {\"height\": 40, \"values\": [[1, 2, 3, 4, 5, 6, 7, 8, 9, 10, \"Media\", \"Desvio padrao\", \"Intervalo de conf.(95%)+-\"], [8663.145963, 8623.91029, 8623.74457, 8630.194763, 8620.749151, 8622.708151, 8680.855861, 8675.711637, 8678.797374, 8628.679975, 8644.85, 24.834, 15.392], [0.88, 0.88, 0.88, 0.88, 0.88, 0.88, 0.88, 0.88, 0.88, 0.88, 0.88, 0.0, 0.0], [342941.0, 122472.0, 114016.0, 117367.0, 120100.0, 121860.0, 408842.0, 326671.0, 309283.0, 104230.0, 208778.2, 115394.399, 71522.189], [2240868.0, 2055626.0, 2091129.0, 3113883.0, 1581266.0, 1584944.0, 2744398.0, 3273479.0, 3801907.0, 3076650.0, 2556415.0, 717196.333, 444522.893]]}, \"columnwidth\": [40], \"header\": {\"values\": [\"Amostra\", \"Tempo(ms)\", \"IPC\", \"Branch misses\", \"Cache misses\"]}, \"type\": \"table\", \"uid\": \"6a1e8422-78ed-4419-9de6-a623e949667f\"}], {\"font\": {\"color\": \"#7f7f7f\", \"family\": \"Courier New, monospace\", \"size\": 15}, \"height\": 800, \"title\": \"dep_rasp\", \"width\": 1000}, {\"showLink\": true, \"linkText\": \"Export to plot.ly\"})});</script>"
      ]
     },
     "metadata": {},
     "output_type": "display_data"
    },
    {
     "name": "stdout",
     "output_type": "stream",
     "text": [
      "branch conf do teste branch_rasp: 124.774\n"
     ]
    },
    {
     "data": {
      "application/vnd.plotly.v1+json": {
       "data": [
        {
         "cells": {
          "height": 40,
          "values": [
           [
            1,
            2,
            3,
            4,
            5,
            6,
            7,
            8,
            9,
            10,
            "Media",
            "Desvio padrao",
            "Intervalo de conf.(95%)+-"
           ],
           [
            9.712344,
            9.991823,
            4.880573,
            4.966771,
            4.856823,
            4.829532,
            4.94875,
            4.87625,
            4.971875,
            4.893125,
            5.893,
            1.981,
            1.228
           ],
           [
            1.29,
            3.6,
            0.71,
            6.26,
            0.71,
            0.71,
            1.48,
            0.71,
            1.7,
            0.71,
            1.788,
            1.716,
            1.064
           ],
           [
            26576,
            26237,
            25958,
            26433,
            26062,
            25877,
            26156,
            26303,
            26322,
            26239,
            26216.3,
            201.312,
            124.774
           ],
           [
            6823,
            6325,
            6056,
            6226,
            6039,
            5880,
            6482,
            6232,
            6526,
            6261,
            6285,
            259.188,
            160.646
           ]
          ]
         },
         "columnwidth": [
          40
         ],
         "header": {
          "values": [
           "Amostra",
           "Tempo(ms)",
           "IPC",
           "Branch misses",
           "Cache misses"
          ]
         },
         "type": "table",
         "uid": "7f1c0536-8064-4548-bc9c-f63894d4abc0"
        }
       ],
       "layout": {
        "font": {
         "color": "#7f7f7f",
         "family": "Courier New, monospace",
         "size": 15
        },
        "height": 800,
        "title": "branch_rasp",
        "width": 1000
       }
      },
      "text/html": [
       "<div id=\"f2ece2b0-33ed-49fb-b2f4-6b80eb8ca0f0\" style=\"height: 800px; width: 1000px;\" class=\"plotly-graph-div\"></div><script type=\"text/javascript\">require([\"plotly\"], function(Plotly) { window.PLOTLYENV=window.PLOTLYENV || {};window.PLOTLYENV.BASE_URL=\"https://plot.ly\";Plotly.newPlot(\"f2ece2b0-33ed-49fb-b2f4-6b80eb8ca0f0\", [{\"cells\": {\"height\": 40, \"values\": [[1, 2, 3, 4, 5, 6, 7, 8, 9, 10, \"Media\", \"Desvio padrao\", \"Intervalo de conf.(95%)+-\"], [9.712344, 9.991823, 4.880573, 4.966771, 4.856823, 4.829532, 4.94875, 4.87625, 4.971875, 4.893125, 5.893, 1.981, 1.228], [1.29, 3.6, 0.71, 6.26, 0.71, 0.71, 1.48, 0.71, 1.7, 0.71, 1.788, 1.716, 1.064], [26576.0, 26237.0, 25958.0, 26433.0, 26062.0, 25877.0, 26156.0, 26303.0, 26322.0, 26239.0, 26216.3, 201.312, 124.774], [6823.0, 6325.0, 6056.0, 6226.0, 6039.0, 5880.0, 6482.0, 6232.0, 6526.0, 6261.0, 6285.0, 259.188, 160.646]]}, \"columnwidth\": [40], \"header\": {\"values\": [\"Amostra\", \"Tempo(ms)\", \"IPC\", \"Branch misses\", \"Cache misses\"]}, \"type\": \"table\", \"uid\": \"7f1c0536-8064-4548-bc9c-f63894d4abc0\"}], {\"font\": {\"color\": \"#7f7f7f\", \"family\": \"Courier New, monospace\", \"size\": 15}, \"height\": 800, \"title\": \"branch_rasp\", \"width\": 1000}, {\"showLink\": true, \"linkText\": \"Export to plot.ly\"})});</script>"
      ],
      "text/vnd.plotly.v1+html": [
       "<div id=\"f2ece2b0-33ed-49fb-b2f4-6b80eb8ca0f0\" style=\"height: 800px; width: 1000px;\" class=\"plotly-graph-div\"></div><script type=\"text/javascript\">require([\"plotly\"], function(Plotly) { window.PLOTLYENV=window.PLOTLYENV || {};window.PLOTLYENV.BASE_URL=\"https://plot.ly\";Plotly.newPlot(\"f2ece2b0-33ed-49fb-b2f4-6b80eb8ca0f0\", [{\"cells\": {\"height\": 40, \"values\": [[1, 2, 3, 4, 5, 6, 7, 8, 9, 10, \"Media\", \"Desvio padrao\", \"Intervalo de conf.(95%)+-\"], [9.712344, 9.991823, 4.880573, 4.966771, 4.856823, 4.829532, 4.94875, 4.87625, 4.971875, 4.893125, 5.893, 1.981, 1.228], [1.29, 3.6, 0.71, 6.26, 0.71, 0.71, 1.48, 0.71, 1.7, 0.71, 1.788, 1.716, 1.064], [26576.0, 26237.0, 25958.0, 26433.0, 26062.0, 25877.0, 26156.0, 26303.0, 26322.0, 26239.0, 26216.3, 201.312, 124.774], [6823.0, 6325.0, 6056.0, 6226.0, 6039.0, 5880.0, 6482.0, 6232.0, 6526.0, 6261.0, 6285.0, 259.188, 160.646]]}, \"columnwidth\": [40], \"header\": {\"values\": [\"Amostra\", \"Tempo(ms)\", \"IPC\", \"Branch misses\", \"Cache misses\"]}, \"type\": \"table\", \"uid\": \"7f1c0536-8064-4548-bc9c-f63894d4abc0\"}], {\"font\": {\"color\": \"#7f7f7f\", \"family\": \"Courier New, monospace\", \"size\": 15}, \"height\": 800, \"title\": \"branch_rasp\", \"width\": 1000}, {\"showLink\": true, \"linkText\": \"Export to plot.ly\"})});</script>"
      ]
     },
     "metadata": {},
     "output_type": "display_data"
    },
    {
     "name": "stdout",
     "output_type": "stream",
     "text": [
      "branch conf do teste branch_sort_rasp: 3818.879\n"
     ]
    },
    {
     "data": {
      "application/vnd.plotly.v1+json": {
       "data": [
        {
         "cells": {
          "height": 40,
          "values": [
           [
            1,
            2,
            3,
            4,
            5,
            6,
            7,
            8,
            9,
            10,
            "Media",
            "Desvio padrao",
            "Intervalo de conf.(95%)+-"
           ],
           [
            109.841823,
            77.480208,
            77.209948,
            77.657085,
            77.822292,
            90.047969,
            77.616718,
            79.297968,
            77.817291,
            77.232032,
            82.202,
            9.93,
            6.155
           ],
           [
            0.74,
            0.74,
            0.75,
            0.74,
            0.74,
            0.78,
            0.74,
            0.73,
            0.74,
            0.75,
            0.745,
            0.013,
            0.008
           ],
           [
            212354,
            201754,
            217330,
            205077,
            205787,
            198791,
            201749,
            203065,
            216751,
            204369,
            206702.7,
            6161.406,
            3818.879
           ],
           [
            10929,
            12588,
            10999,
            12820,
            14628,
            11358,
            12263,
            13682,
            13577,
            11007,
            12385.1,
            1239.919,
            768.51
           ]
          ]
         },
         "columnwidth": [
          40
         ],
         "header": {
          "values": [
           "Amostra",
           "Tempo(ms)",
           "IPC",
           "Branch misses",
           "Cache misses"
          ]
         },
         "type": "table",
         "uid": "38be8423-60db-435e-afc4-a4e2bb102e34"
        }
       ],
       "layout": {
        "font": {
         "color": "#7f7f7f",
         "family": "Courier New, monospace",
         "size": 15
        },
        "height": 800,
        "title": "branch_sort_rasp",
        "width": 1000
       }
      },
      "text/html": [
       "<div id=\"a524e0e0-d6d4-4136-ae33-909afc020bf7\" style=\"height: 800px; width: 1000px;\" class=\"plotly-graph-div\"></div><script type=\"text/javascript\">require([\"plotly\"], function(Plotly) { window.PLOTLYENV=window.PLOTLYENV || {};window.PLOTLYENV.BASE_URL=\"https://plot.ly\";Plotly.newPlot(\"a524e0e0-d6d4-4136-ae33-909afc020bf7\", [{\"cells\": {\"height\": 40, \"values\": [[1, 2, 3, 4, 5, 6, 7, 8, 9, 10, \"Media\", \"Desvio padrao\", \"Intervalo de conf.(95%)+-\"], [109.841823, 77.480208, 77.209948, 77.657085, 77.822292, 90.047969, 77.616718, 79.297968, 77.817291, 77.232032, 82.202, 9.93, 6.155], [0.74, 0.74, 0.75, 0.74, 0.74, 0.78, 0.74, 0.73, 0.74, 0.75, 0.745, 0.013, 0.008], [212354.0, 201754.0, 217330.0, 205077.0, 205787.0, 198791.0, 201749.0, 203065.0, 216751.0, 204369.0, 206702.7, 6161.406, 3818.879], [10929.0, 12588.0, 10999.0, 12820.0, 14628.0, 11358.0, 12263.0, 13682.0, 13577.0, 11007.0, 12385.1, 1239.919, 768.51]]}, \"columnwidth\": [40], \"header\": {\"values\": [\"Amostra\", \"Tempo(ms)\", \"IPC\", \"Branch misses\", \"Cache misses\"]}, \"type\": \"table\", \"uid\": \"38be8423-60db-435e-afc4-a4e2bb102e34\"}], {\"font\": {\"color\": \"#7f7f7f\", \"family\": \"Courier New, monospace\", \"size\": 15}, \"height\": 800, \"title\": \"branch_sort_rasp\", \"width\": 1000}, {\"showLink\": true, \"linkText\": \"Export to plot.ly\"})});</script>"
      ],
      "text/vnd.plotly.v1+html": [
       "<div id=\"a524e0e0-d6d4-4136-ae33-909afc020bf7\" style=\"height: 800px; width: 1000px;\" class=\"plotly-graph-div\"></div><script type=\"text/javascript\">require([\"plotly\"], function(Plotly) { window.PLOTLYENV=window.PLOTLYENV || {};window.PLOTLYENV.BASE_URL=\"https://plot.ly\";Plotly.newPlot(\"a524e0e0-d6d4-4136-ae33-909afc020bf7\", [{\"cells\": {\"height\": 40, \"values\": [[1, 2, 3, 4, 5, 6, 7, 8, 9, 10, \"Media\", \"Desvio padrao\", \"Intervalo de conf.(95%)+-\"], [109.841823, 77.480208, 77.209948, 77.657085, 77.822292, 90.047969, 77.616718, 79.297968, 77.817291, 77.232032, 82.202, 9.93, 6.155], [0.74, 0.74, 0.75, 0.74, 0.74, 0.78, 0.74, 0.73, 0.74, 0.75, 0.745, 0.013, 0.008], [212354.0, 201754.0, 217330.0, 205077.0, 205787.0, 198791.0, 201749.0, 203065.0, 216751.0, 204369.0, 206702.7, 6161.406, 3818.879], [10929.0, 12588.0, 10999.0, 12820.0, 14628.0, 11358.0, 12263.0, 13682.0, 13577.0, 11007.0, 12385.1, 1239.919, 768.51]]}, \"columnwidth\": [40], \"header\": {\"values\": [\"Amostra\", \"Tempo(ms)\", \"IPC\", \"Branch misses\", \"Cache misses\"]}, \"type\": \"table\", \"uid\": \"38be8423-60db-435e-afc4-a4e2bb102e34\"}], {\"font\": {\"color\": \"#7f7f7f\", \"family\": \"Courier New, monospace\", \"size\": 15}, \"height\": 800, \"title\": \"branch_sort_rasp\", \"width\": 1000}, {\"showLink\": true, \"linkText\": \"Export to plot.ly\"})});</script>"
      ]
     },
     "metadata": {},
     "output_type": "display_data"
    }
   ],
   "source": [
    "def confidence(avg, std, size):\n",
    "    return 1.96*std/math.sqrt(size)\n",
    "\n",
    "def plot_tables():\n",
    "    avgs = dict()\n",
    "    stds = dict()\n",
    "    confs = dict()\n",
    "\n",
    "    for test, data in test_results.items():\n",
    "        clock_data = np.array([])\n",
    "        icp_data = np.array([])\n",
    "        branch_data = np.array([])\n",
    "        cache_data = np.array([])\n",
    "\n",
    "        #print('teste: {}'.format(test))\n",
    "        for results in test_results[test]:\n",
    "            clock_data = np.append(clock_data, results['clock'])\n",
    "            icp_data = np.append(icp_data, results['icp'])\n",
    "            branch_data = np.append(branch_data, results['branch_misses'])\n",
    "            cache_data = np.append(cache_data, results['cache_misses'])\n",
    "            #print(results)\n",
    "        #print('clock data', clock_data)\n",
    "        clock_avg = round(np.average(clock_data),3)\n",
    "        clock_std = round(np.std(clock_data),3)\n",
    "        clock_conf = round(confidence(clock_avg, clock_std, 10),3)\n",
    "        #print('clock avg {} clock std {} confidence {}\\n'.format(clock_avg, clock_std, clock_conf))\n",
    "        clock_data = np.append(clock_data, clock_avg)\n",
    "        clock_data = np.append(clock_data, clock_std)\n",
    "        clock_data = np.append(clock_data, clock_conf)\n",
    "\n",
    "\n",
    "        #print('icp data ', icp_data)\n",
    "        icp_avg = round(np.average(icp_data),3)\n",
    "        icp_std = round(np.std(icp_data),3)\n",
    "        icp_conf = round(confidence(icp_avg, icp_std, 10),3)\n",
    "        #print('icp avg {} icp std {} icp conf {} \\n'.format(icp_avg, icp_std, icp_conf))\n",
    "        icp_data = np.append(icp_data, icp_avg)\n",
    "        icp_data = np.append(icp_data, icp_std)\n",
    "        icp_data = np.append(icp_data, icp_conf)\n",
    "\n",
    "        #print('branch data', branch_data)\n",
    "        branch_avg = round(np.average(branch_data),3)\n",
    "        branch_std = round(np.std(branch_data),3)\n",
    "        branch_conf = round(confidence(branch_avg, branch_std, 10),3)\n",
    "        print('branch conf do teste {}: {}'.format(test, branch_conf))\n",
    "        #print('branch avg {} branch std {} branch conf {}\\n'.format(branch_avg, branch_std, branch_conf))\n",
    "        branch_data = np.append(branch_data, branch_avg)\n",
    "        branch_data = np.append(branch_data, branch_std)\n",
    "        branch_data = np.append(branch_data, branch_conf)\n",
    "\n",
    "        #print('cache data', cache_data)\n",
    "        cache_avg = round(np.average(cache_data), 3)\n",
    "        cache_std = round(np.std(cache_data), 3)\n",
    "        cache_conf = round(confidence(cache_avg, cache_std, 10), 3)\n",
    "        #print('cache avg {} cache std {} cache conf {}\\n'.format(cache_avg, cache_std, cache_conf))\n",
    "        cache_data = np.append(cache_data, cache_avg)\n",
    "        cache_data = np.append(cache_data, cache_std)\n",
    "        cache_data = np.append(cache_data, cache_conf)\n",
    "\n",
    "        index_cells = [i for i in range(1,11)]\n",
    "        index_cells.append('Media')\n",
    "        index_cells.append('Desvio padrao')\n",
    "        index_cells.append('Intervalo de conf.(95%)+-')\n",
    "        cells = [index_cells,clock_data, icp_data, branch_data, cache_data]\n",
    "        columns = ['Amostra','Tempo(ms)','IPC', 'Branch misses', 'Cache misses']\n",
    "\n",
    "        layout = go.Layout(\n",
    "            title=test,\n",
    "            font=dict(family='Courier New, monospace', size=15, color='#7f7f7f'),\n",
    "            width=1000,\n",
    "            height=800\n",
    "        )\n",
    "        trace = go.Table(\n",
    "            columnwidth = [40],\n",
    "            header=dict(values=columns),\n",
    "            cells=dict(values=cells, height=40)\n",
    "        )\n",
    "        data = [trace]\n",
    "        figure = go.Figure(layout=layout, data=data)\n",
    "        iplot(figure)\n",
    "\n",
    "        avgs[test] = dict()\n",
    "        avgs[test]['clock'] = clock_avg\n",
    "        avgs[test]['ipc'] = icp_avg\n",
    "        avgs[test]['branch'] = branch_avg\n",
    "        avgs[test]['cache'] = cache_avg\n",
    "\n",
    "        confs[test] = dict()\n",
    "        confs[test]['clock'] = clock_conf\n",
    "        confs[test]['ipc'] = icp_conf\n",
    "        confs[test]['branch'] = branch_conf\n",
    "        confs[test]['cache'] = cache_conf\n",
    "        #print('------------------')\n",
    "        pio.write_image(figure, 'images/{}.jpeg'.format(test))\n",
    "        #print(avgs)\n",
    "    return avgs, confs\n",
    "\n",
    "\n",
    "\n",
    "avgs, confs = plot_tables()"
   ]
  },
  {
   "cell_type": "code",
   "execution_count": 3,
   "metadata": {},
   "outputs": [
    {
     "name": "stdout",
     "output_type": "stream",
     "text": [
      "[21.978, 602.411]\n",
      "[0.009, 0.003]\n",
      "[2064401.332, 2905905.715]\n",
      "[370.042, 417997.755]\n"
     ]
    },
    {
     "data": {
      "application/vnd.plotly.v1+json": {
       "data": [
        {
         "error_y": {
          "array": [
           21.978,
           602.411
          ],
          "type": "data",
          "visible": true
         },
         "mode": "markers",
         "type": "scatter",
         "uid": "f9251e5b-6699-4089-b14e-e989a49c0617",
         "x": [
          "Core i5",
          "ARM"
         ],
         "y": [
          5530.805,
          95407.217
         ]
        }
       ],
       "layout": {
        "title": "Intel Core i5 vs ARM Cortex A7 - Tempo (Multiplicação de matriz de inteiros)"
       }
      },
      "text/html": [
       "<div id=\"c641d306-4de0-43ce-b940-64461c5335a9\" style=\"height: 525px; width: 100%;\" class=\"plotly-graph-div\"></div><script type=\"text/javascript\">require([\"plotly\"], function(Plotly) { window.PLOTLYENV=window.PLOTLYENV || {};window.PLOTLYENV.BASE_URL=\"https://plot.ly\";Plotly.newPlot(\"c641d306-4de0-43ce-b940-64461c5335a9\", [{\"error_y\": {\"array\": [21.978, 602.411], \"type\": \"data\", \"visible\": true}, \"mode\": \"markers\", \"x\": [\"Core i5\", \"ARM\"], \"y\": [5530.805, 95407.217], \"type\": \"scatter\", \"uid\": \"f9251e5b-6699-4089-b14e-e989a49c0617\"}], {\"title\": \"Intel Core i5 vs ARM Cortex A7 - Tempo (Multiplica\\u00e7\\u00e3o de matriz de inteiros)\"}, {\"showLink\": true, \"linkText\": \"Export to plot.ly\"})});</script><script type=\"text/javascript\">window.addEventListener(\"resize\", function(){window._Plotly.Plots.resize(document.getElementById(\"c641d306-4de0-43ce-b940-64461c5335a9\"));});</script>"
      ],
      "text/vnd.plotly.v1+html": [
       "<div id=\"c641d306-4de0-43ce-b940-64461c5335a9\" style=\"height: 525px; width: 100%;\" class=\"plotly-graph-div\"></div><script type=\"text/javascript\">require([\"plotly\"], function(Plotly) { window.PLOTLYENV=window.PLOTLYENV || {};window.PLOTLYENV.BASE_URL=\"https://plot.ly\";Plotly.newPlot(\"c641d306-4de0-43ce-b940-64461c5335a9\", [{\"error_y\": {\"array\": [21.978, 602.411], \"type\": \"data\", \"visible\": true}, \"mode\": \"markers\", \"x\": [\"Core i5\", \"ARM\"], \"y\": [5530.805, 95407.217], \"type\": \"scatter\", \"uid\": \"f9251e5b-6699-4089-b14e-e989a49c0617\"}], {\"title\": \"Intel Core i5 vs ARM Cortex A7 - Tempo (Multiplica\\u00e7\\u00e3o de matriz de inteiros)\"}, {\"showLink\": true, \"linkText\": \"Export to plot.ly\"})});</script><script type=\"text/javascript\">window.addEventListener(\"resize\", function(){window._Plotly.Plots.resize(document.getElementById(\"c641d306-4de0-43ce-b940-64461c5335a9\"));});</script>"
      ]
     },
     "metadata": {},
     "output_type": "display_data"
    },
    {
     "data": {
      "application/vnd.plotly.v1+json": {
       "data": [
        {
         "error_y": {
          "array": [
           0.009,
           0.003
          ],
          "type": "data",
          "visible": true
         },
         "mode": "markers",
         "type": "scatter",
         "uid": "39aa7f34-3985-4f7c-af95-747c8fc55bc0",
         "x": [
          "Core i5",
          "ARM"
         ],
         "y": [
          2.613,
          0.394
         ]
        }
       ],
       "layout": {
        "title": "Intel Core i5 vs ARM Cortex A7 - IPC (Multiplicação de matriz de inteiros)"
       }
      },
      "text/html": [
       "<div id=\"bc781dd7-b12c-4639-a304-7c0274a51e99\" style=\"height: 525px; width: 100%;\" class=\"plotly-graph-div\"></div><script type=\"text/javascript\">require([\"plotly\"], function(Plotly) { window.PLOTLYENV=window.PLOTLYENV || {};window.PLOTLYENV.BASE_URL=\"https://plot.ly\";Plotly.newPlot(\"bc781dd7-b12c-4639-a304-7c0274a51e99\", [{\"error_y\": {\"array\": [0.009, 0.003], \"type\": \"data\", \"visible\": true}, \"mode\": \"markers\", \"x\": [\"Core i5\", \"ARM\"], \"y\": [2.613, 0.394], \"type\": \"scatter\", \"uid\": \"39aa7f34-3985-4f7c-af95-747c8fc55bc0\"}], {\"title\": \"Intel Core i5 vs ARM Cortex A7 - IPC (Multiplica\\u00e7\\u00e3o de matriz de inteiros)\"}, {\"showLink\": true, \"linkText\": \"Export to plot.ly\"})});</script><script type=\"text/javascript\">window.addEventListener(\"resize\", function(){window._Plotly.Plots.resize(document.getElementById(\"bc781dd7-b12c-4639-a304-7c0274a51e99\"));});</script>"
      ],
      "text/vnd.plotly.v1+html": [
       "<div id=\"bc781dd7-b12c-4639-a304-7c0274a51e99\" style=\"height: 525px; width: 100%;\" class=\"plotly-graph-div\"></div><script type=\"text/javascript\">require([\"plotly\"], function(Plotly) { window.PLOTLYENV=window.PLOTLYENV || {};window.PLOTLYENV.BASE_URL=\"https://plot.ly\";Plotly.newPlot(\"bc781dd7-b12c-4639-a304-7c0274a51e99\", [{\"error_y\": {\"array\": [0.009, 0.003], \"type\": \"data\", \"visible\": true}, \"mode\": \"markers\", \"x\": [\"Core i5\", \"ARM\"], \"y\": [2.613, 0.394], \"type\": \"scatter\", \"uid\": \"39aa7f34-3985-4f7c-af95-747c8fc55bc0\"}], {\"title\": \"Intel Core i5 vs ARM Cortex A7 - IPC (Multiplica\\u00e7\\u00e3o de matriz de inteiros)\"}, {\"showLink\": true, \"linkText\": \"Export to plot.ly\"})});</script><script type=\"text/javascript\">window.addEventListener(\"resize\", function(){window._Plotly.Plots.resize(document.getElementById(\"bc781dd7-b12c-4639-a304-7c0274a51e99\"));});</script>"
      ]
     },
     "metadata": {},
     "output_type": "display_data"
    },
    {
     "data": {
      "application/vnd.plotly.v1+json": {
       "data": [
        {
         "error_y": {
          "array": [
           370.042,
           417997.755
          ],
          "type": "data",
          "visible": true
         },
         "mode": "markers",
         "type": "scatter",
         "uid": "85992d61-67f6-4ea9-b67f-0419659634cc",
         "x": [
          "Core i5",
          "ARM"
         ],
         "y": [
          1040972.8,
          4037964.6
         ]
        }
       ],
       "layout": {
        "title": "Intel Core i5 vs ARM Cortex A7 - Branch misses (Multiplicação de matriz de inteiros)"
       }
      },
      "text/html": [
       "<div id=\"59935ede-459e-4b1a-bbc1-b13222b3ce3d\" style=\"height: 525px; width: 100%;\" class=\"plotly-graph-div\"></div><script type=\"text/javascript\">require([\"plotly\"], function(Plotly) { window.PLOTLYENV=window.PLOTLYENV || {};window.PLOTLYENV.BASE_URL=\"https://plot.ly\";Plotly.newPlot(\"59935ede-459e-4b1a-bbc1-b13222b3ce3d\", [{\"error_y\": {\"array\": [370.042, 417997.755], \"type\": \"data\", \"visible\": true}, \"mode\": \"markers\", \"x\": [\"Core i5\", \"ARM\"], \"y\": [1040972.8, 4037964.6], \"type\": \"scatter\", \"uid\": \"85992d61-67f6-4ea9-b67f-0419659634cc\"}], {\"title\": \"Intel Core i5 vs ARM Cortex A7 - Branch misses (Multiplica\\u00e7\\u00e3o de matriz de inteiros)\"}, {\"showLink\": true, \"linkText\": \"Export to plot.ly\"})});</script><script type=\"text/javascript\">window.addEventListener(\"resize\", function(){window._Plotly.Plots.resize(document.getElementById(\"59935ede-459e-4b1a-bbc1-b13222b3ce3d\"));});</script>"
      ],
      "text/vnd.plotly.v1+html": [
       "<div id=\"59935ede-459e-4b1a-bbc1-b13222b3ce3d\" style=\"height: 525px; width: 100%;\" class=\"plotly-graph-div\"></div><script type=\"text/javascript\">require([\"plotly\"], function(Plotly) { window.PLOTLYENV=window.PLOTLYENV || {};window.PLOTLYENV.BASE_URL=\"https://plot.ly\";Plotly.newPlot(\"59935ede-459e-4b1a-bbc1-b13222b3ce3d\", [{\"error_y\": {\"array\": [370.042, 417997.755], \"type\": \"data\", \"visible\": true}, \"mode\": \"markers\", \"x\": [\"Core i5\", \"ARM\"], \"y\": [1040972.8, 4037964.6], \"type\": \"scatter\", \"uid\": \"85992d61-67f6-4ea9-b67f-0419659634cc\"}], {\"title\": \"Intel Core i5 vs ARM Cortex A7 - Branch misses (Multiplica\\u00e7\\u00e3o de matriz de inteiros)\"}, {\"showLink\": true, \"linkText\": \"Export to plot.ly\"})});</script><script type=\"text/javascript\">window.addEventListener(\"resize\", function(){window._Plotly.Plots.resize(document.getElementById(\"59935ede-459e-4b1a-bbc1-b13222b3ce3d\"));});</script>"
      ]
     },
     "metadata": {},
     "output_type": "display_data"
    },
    {
     "data": {
      "application/vnd.plotly.v1+json": {
       "data": [
        {
         "error_y": {
          "array": [
           2064401.332,
           2905905.715
          ],
          "type": "data",
          "visible": true
         },
         "mode": "markers",
         "type": "scatter",
         "uid": "dbcebada-8d59-4118-8423-b39549dfb0f6",
         "x": [
          "Core i5",
          "ARM"
         ],
         "y": [
          1204601072.2,
          1231935837.8
         ]
        }
       ],
       "layout": {
        "title": "Intel Core i5 vs ARM Cortex A7 - Cache misses (Multiplicação de matriz de inteiros)"
       }
      },
      "text/html": [
       "<div id=\"455d0a64-931e-4b92-a548-73fa45a4f6ea\" style=\"height: 525px; width: 100%;\" class=\"plotly-graph-div\"></div><script type=\"text/javascript\">require([\"plotly\"], function(Plotly) { window.PLOTLYENV=window.PLOTLYENV || {};window.PLOTLYENV.BASE_URL=\"https://plot.ly\";Plotly.newPlot(\"455d0a64-931e-4b92-a548-73fa45a4f6ea\", [{\"error_y\": {\"array\": [2064401.332, 2905905.715], \"type\": \"data\", \"visible\": true}, \"mode\": \"markers\", \"x\": [\"Core i5\", \"ARM\"], \"y\": [1204601072.2, 1231935837.8], \"type\": \"scatter\", \"uid\": \"dbcebada-8d59-4118-8423-b39549dfb0f6\"}], {\"title\": \"Intel Core i5 vs ARM Cortex A7 - Cache misses (Multiplica\\u00e7\\u00e3o de matriz de inteiros)\"}, {\"showLink\": true, \"linkText\": \"Export to plot.ly\"})});</script><script type=\"text/javascript\">window.addEventListener(\"resize\", function(){window._Plotly.Plots.resize(document.getElementById(\"455d0a64-931e-4b92-a548-73fa45a4f6ea\"));});</script>"
      ],
      "text/vnd.plotly.v1+html": [
       "<div id=\"455d0a64-931e-4b92-a548-73fa45a4f6ea\" style=\"height: 525px; width: 100%;\" class=\"plotly-graph-div\"></div><script type=\"text/javascript\">require([\"plotly\"], function(Plotly) { window.PLOTLYENV=window.PLOTLYENV || {};window.PLOTLYENV.BASE_URL=\"https://plot.ly\";Plotly.newPlot(\"455d0a64-931e-4b92-a548-73fa45a4f6ea\", [{\"error_y\": {\"array\": [2064401.332, 2905905.715], \"type\": \"data\", \"visible\": true}, \"mode\": \"markers\", \"x\": [\"Core i5\", \"ARM\"], \"y\": [1204601072.2, 1231935837.8], \"type\": \"scatter\", \"uid\": \"dbcebada-8d59-4118-8423-b39549dfb0f6\"}], {\"title\": \"Intel Core i5 vs ARM Cortex A7 - Cache misses (Multiplica\\u00e7\\u00e3o de matriz de inteiros)\"}, {\"showLink\": true, \"linkText\": \"Export to plot.ly\"})});</script><script type=\"text/javascript\">window.addEventListener(\"resize\", function(){window._Plotly.Plots.resize(document.getElementById(\"455d0a64-931e-4b92-a548-73fa45a4f6ea\"));});</script>"
      ]
     },
     "metadata": {},
     "output_type": "display_data"
    },
    {
     "data": {
      "text/plain": [
       "0"
      ]
     },
     "execution_count": 3,
     "metadata": {},
     "output_type": "execute_result"
    }
   ],
   "source": [
    "plot_procs = 'Intel Core i5 vs ARM Cortex A7'\n",
    "labels = []\n",
    "labels = ['Core i5', 'ARM']\n",
    "\n",
    "clock = [avgs['int_mat_i5']['clock'], avgs['int_mat_rasp']['clock']]\n",
    "icp = [avgs['int_mat_i5']['ipc'], avgs['int_mat_rasp']['ipc']]\n",
    "branch = [avgs['int_mat_i5']['branch'], avgs['int_mat_rasp']['branch']]\n",
    "cache = [avgs['int_mat_i5']['cache'], avgs['int_mat_rasp']['cache']]\n",
    "\n",
    "clock_confs = [confs['int_mat_i5']['clock'], confs['int_mat_rasp']['clock']]\n",
    "print(clock_confs)\n",
    "\n",
    "icp_confs = [confs['int_mat_i5']['ipc'], confs['int_mat_rasp']['ipc']]\n",
    "print(icp_confs)\n",
    "\n",
    "cache_confs = [confs['int_mat_i5']['cache'], confs['int_mat_rasp']['cache']]\n",
    "print(cache_confs)\n",
    "\n",
    "branch_confs = [confs['int_mat_i5']['branch'], confs['int_mat_rasp']['branch']]\n",
    "print(branch_confs)\n",
    "\n",
    "def plot_bar_data(data, confs, labels, title):\n",
    "    trace = go.Scatter(\n",
    "        x = labels,\n",
    "        y = data,\n",
    "        mode='markers',\n",
    "        error_y = dict(\n",
    "            type='data',\n",
    "            array=confs,\n",
    "            visible=True\n",
    "        )\n",
    "        #marker=dict(color=['#1F77B4', '#30c95e'])\n",
    "    )\n",
    "    layout = go.Layout(\n",
    "        title=title\n",
    "    )\n",
    "    data = [trace]\n",
    "    fig = go.Figure(data=data, layout=layout)\n",
    "    iplot(fig)\n",
    "    pio.write_image(fig, 'images/{}.jpeg'.format(title))\n",
    "\n",
    "    return 0\n",
    "\n",
    "plot_bar_data(clock, clock_confs,labels, '{} - Tempo (Multiplicação de matriz de inteiros)'.format(plot_procs))\n",
    "plot_bar_data(icp, icp_confs, labels, '{} - IPC (Multiplicação de matriz de inteiros)'.format(plot_procs))\n",
    "plot_bar_data(branch, branch_confs, labels, '{} - Branch misses (Multiplicação de matriz de inteiros)'.format(plot_procs))\n",
    "plot_bar_data(cache, cache_confs, labels, '{} - Cache misses (Multiplicação de matriz de inteiros)'.format(plot_procs))\n"
   ]
  },
  {
   "cell_type": "code",
   "execution_count": 4,
   "metadata": {},
   "outputs": [
    {
     "name": "stdout",
     "output_type": "stream",
     "text": [
      "{'clock': 7485.323, 'ipc': 1.924, 'branch': 1057191.7, 'cache': 1388882447.0}\n",
      "{'clock': 110346.756, 'ipc': 0.345, 'branch': 2721164.0, 'cache': 1480177959.1}\n",
      "[109.631, 1312.622]\n",
      "[0.029, 0.003]\n",
      "[12273535.985, 3915943.072]\n",
      "[1129.298, 831247.14]\n"
     ]
    },
    {
     "data": {
      "application/vnd.plotly.v1+json": {
       "data": [
        {
         "error_y": {
          "array": [
           109.631,
           1312.622
          ],
          "type": "data",
          "visible": true
         },
         "mode": "markers",
         "type": "scatter",
         "uid": "1a887caf-976a-4792-96eb-b7036420fad6",
         "x": [
          "Core i5",
          "ARM"
         ],
         "y": [
          7485.323,
          110346.756
         ]
        }
       ],
       "layout": {
        "title": "Intel Core i5 vs ARM Cortex A7 - Tempo (Multiplicação de matriz de floats)"
       }
      },
      "text/html": [
       "<div id=\"3f9f5d65-4b58-4845-9d0e-3f93ce07b28f\" style=\"height: 525px; width: 100%;\" class=\"plotly-graph-div\"></div><script type=\"text/javascript\">require([\"plotly\"], function(Plotly) { window.PLOTLYENV=window.PLOTLYENV || {};window.PLOTLYENV.BASE_URL=\"https://plot.ly\";Plotly.newPlot(\"3f9f5d65-4b58-4845-9d0e-3f93ce07b28f\", [{\"error_y\": {\"array\": [109.631, 1312.622], \"type\": \"data\", \"visible\": true}, \"mode\": \"markers\", \"x\": [\"Core i5\", \"ARM\"], \"y\": [7485.323, 110346.756], \"type\": \"scatter\", \"uid\": \"1a887caf-976a-4792-96eb-b7036420fad6\"}], {\"title\": \"Intel Core i5 vs ARM Cortex A7 - Tempo (Multiplica\\u00e7\\u00e3o de matriz de floats)\"}, {\"showLink\": true, \"linkText\": \"Export to plot.ly\"})});</script><script type=\"text/javascript\">window.addEventListener(\"resize\", function(){window._Plotly.Plots.resize(document.getElementById(\"3f9f5d65-4b58-4845-9d0e-3f93ce07b28f\"));});</script>"
      ],
      "text/vnd.plotly.v1+html": [
       "<div id=\"3f9f5d65-4b58-4845-9d0e-3f93ce07b28f\" style=\"height: 525px; width: 100%;\" class=\"plotly-graph-div\"></div><script type=\"text/javascript\">require([\"plotly\"], function(Plotly) { window.PLOTLYENV=window.PLOTLYENV || {};window.PLOTLYENV.BASE_URL=\"https://plot.ly\";Plotly.newPlot(\"3f9f5d65-4b58-4845-9d0e-3f93ce07b28f\", [{\"error_y\": {\"array\": [109.631, 1312.622], \"type\": \"data\", \"visible\": true}, \"mode\": \"markers\", \"x\": [\"Core i5\", \"ARM\"], \"y\": [7485.323, 110346.756], \"type\": \"scatter\", \"uid\": \"1a887caf-976a-4792-96eb-b7036420fad6\"}], {\"title\": \"Intel Core i5 vs ARM Cortex A7 - Tempo (Multiplica\\u00e7\\u00e3o de matriz de floats)\"}, {\"showLink\": true, \"linkText\": \"Export to plot.ly\"})});</script><script type=\"text/javascript\">window.addEventListener(\"resize\", function(){window._Plotly.Plots.resize(document.getElementById(\"3f9f5d65-4b58-4845-9d0e-3f93ce07b28f\"));});</script>"
      ]
     },
     "metadata": {},
     "output_type": "display_data"
    },
    {
     "data": {
      "application/vnd.plotly.v1+json": {
       "data": [
        {
         "error_y": {
          "array": [
           0.029,
           0.003
          ],
          "type": "data",
          "visible": true
         },
         "mode": "markers",
         "type": "scatter",
         "uid": "d9d90e81-d3bc-4c24-835e-9527bd9faad6",
         "x": [
          "Core i5",
          "ARM"
         ],
         "y": [
          1.924,
          0.345
         ]
        }
       ],
       "layout": {
        "title": "Intel Core i5 vs ARM Cortex A7 - IPC (Multiplicação de matriz de floats)"
       }
      },
      "text/html": [
       "<div id=\"6bac7d14-b88f-48e3-945e-fc7e9cb00208\" style=\"height: 525px; width: 100%;\" class=\"plotly-graph-div\"></div><script type=\"text/javascript\">require([\"plotly\"], function(Plotly) { window.PLOTLYENV=window.PLOTLYENV || {};window.PLOTLYENV.BASE_URL=\"https://plot.ly\";Plotly.newPlot(\"6bac7d14-b88f-48e3-945e-fc7e9cb00208\", [{\"error_y\": {\"array\": [0.029, 0.003], \"type\": \"data\", \"visible\": true}, \"mode\": \"markers\", \"x\": [\"Core i5\", \"ARM\"], \"y\": [1.924, 0.345], \"type\": \"scatter\", \"uid\": \"d9d90e81-d3bc-4c24-835e-9527bd9faad6\"}], {\"title\": \"Intel Core i5 vs ARM Cortex A7 - IPC (Multiplica\\u00e7\\u00e3o de matriz de floats)\"}, {\"showLink\": true, \"linkText\": \"Export to plot.ly\"})});</script><script type=\"text/javascript\">window.addEventListener(\"resize\", function(){window._Plotly.Plots.resize(document.getElementById(\"6bac7d14-b88f-48e3-945e-fc7e9cb00208\"));});</script>"
      ],
      "text/vnd.plotly.v1+html": [
       "<div id=\"6bac7d14-b88f-48e3-945e-fc7e9cb00208\" style=\"height: 525px; width: 100%;\" class=\"plotly-graph-div\"></div><script type=\"text/javascript\">require([\"plotly\"], function(Plotly) { window.PLOTLYENV=window.PLOTLYENV || {};window.PLOTLYENV.BASE_URL=\"https://plot.ly\";Plotly.newPlot(\"6bac7d14-b88f-48e3-945e-fc7e9cb00208\", [{\"error_y\": {\"array\": [0.029, 0.003], \"type\": \"data\", \"visible\": true}, \"mode\": \"markers\", \"x\": [\"Core i5\", \"ARM\"], \"y\": [1.924, 0.345], \"type\": \"scatter\", \"uid\": \"d9d90e81-d3bc-4c24-835e-9527bd9faad6\"}], {\"title\": \"Intel Core i5 vs ARM Cortex A7 - IPC (Multiplica\\u00e7\\u00e3o de matriz de floats)\"}, {\"showLink\": true, \"linkText\": \"Export to plot.ly\"})});</script><script type=\"text/javascript\">window.addEventListener(\"resize\", function(){window._Plotly.Plots.resize(document.getElementById(\"6bac7d14-b88f-48e3-945e-fc7e9cb00208\"));});</script>"
      ]
     },
     "metadata": {},
     "output_type": "display_data"
    },
    {
     "data": {
      "application/vnd.plotly.v1+json": {
       "data": [
        {
         "error_y": {
          "array": [
           1129.298,
           831247.14
          ],
          "type": "data",
          "visible": true
         },
         "mode": "markers",
         "type": "scatter",
         "uid": "f61defc0-72d7-408e-9c1a-2625838a384a",
         "x": [
          "Core i5",
          "ARM"
         ],
         "y": [
          1057191.7,
          2721164
         ]
        }
       ],
       "layout": {
        "title": "Intel Core i5 vs ARM Cortex A7 - Branch misses (Multiplicação de matriz de floats)"
       }
      },
      "text/html": [
       "<div id=\"f0d35954-2f9e-4c98-81cf-444db30914a4\" style=\"height: 525px; width: 100%;\" class=\"plotly-graph-div\"></div><script type=\"text/javascript\">require([\"plotly\"], function(Plotly) { window.PLOTLYENV=window.PLOTLYENV || {};window.PLOTLYENV.BASE_URL=\"https://plot.ly\";Plotly.newPlot(\"f0d35954-2f9e-4c98-81cf-444db30914a4\", [{\"error_y\": {\"array\": [1129.298, 831247.14], \"type\": \"data\", \"visible\": true}, \"mode\": \"markers\", \"x\": [\"Core i5\", \"ARM\"], \"y\": [1057191.7, 2721164.0], \"type\": \"scatter\", \"uid\": \"f61defc0-72d7-408e-9c1a-2625838a384a\"}], {\"title\": \"Intel Core i5 vs ARM Cortex A7 - Branch misses (Multiplica\\u00e7\\u00e3o de matriz de floats)\"}, {\"showLink\": true, \"linkText\": \"Export to plot.ly\"})});</script><script type=\"text/javascript\">window.addEventListener(\"resize\", function(){window._Plotly.Plots.resize(document.getElementById(\"f0d35954-2f9e-4c98-81cf-444db30914a4\"));});</script>"
      ],
      "text/vnd.plotly.v1+html": [
       "<div id=\"f0d35954-2f9e-4c98-81cf-444db30914a4\" style=\"height: 525px; width: 100%;\" class=\"plotly-graph-div\"></div><script type=\"text/javascript\">require([\"plotly\"], function(Plotly) { window.PLOTLYENV=window.PLOTLYENV || {};window.PLOTLYENV.BASE_URL=\"https://plot.ly\";Plotly.newPlot(\"f0d35954-2f9e-4c98-81cf-444db30914a4\", [{\"error_y\": {\"array\": [1129.298, 831247.14], \"type\": \"data\", \"visible\": true}, \"mode\": \"markers\", \"x\": [\"Core i5\", \"ARM\"], \"y\": [1057191.7, 2721164.0], \"type\": \"scatter\", \"uid\": \"f61defc0-72d7-408e-9c1a-2625838a384a\"}], {\"title\": \"Intel Core i5 vs ARM Cortex A7 - Branch misses (Multiplica\\u00e7\\u00e3o de matriz de floats)\"}, {\"showLink\": true, \"linkText\": \"Export to plot.ly\"})});</script><script type=\"text/javascript\">window.addEventListener(\"resize\", function(){window._Plotly.Plots.resize(document.getElementById(\"f0d35954-2f9e-4c98-81cf-444db30914a4\"));});</script>"
      ]
     },
     "metadata": {},
     "output_type": "display_data"
    },
    {
     "data": {
      "application/vnd.plotly.v1+json": {
       "data": [
        {
         "error_y": {
          "array": [
           12273535.985,
           3915943.072
          ],
          "type": "data",
          "visible": true
         },
         "mode": "markers",
         "type": "scatter",
         "uid": "f3a4860d-d98c-4f42-b1f8-c4747988cb47",
         "x": [
          "Core i5",
          "ARM"
         ],
         "y": [
          1388882447,
          1480177959.1
         ]
        }
       ],
       "layout": {
        "title": "Intel Core i5 vs ARM Cortex A7 - Cache misses (Multiplicação de matriz de floats)"
       }
      },
      "text/html": [
       "<div id=\"499b29f0-aa58-4768-9ac3-635b35702193\" style=\"height: 525px; width: 100%;\" class=\"plotly-graph-div\"></div><script type=\"text/javascript\">require([\"plotly\"], function(Plotly) { window.PLOTLYENV=window.PLOTLYENV || {};window.PLOTLYENV.BASE_URL=\"https://plot.ly\";Plotly.newPlot(\"499b29f0-aa58-4768-9ac3-635b35702193\", [{\"error_y\": {\"array\": [12273535.985, 3915943.072], \"type\": \"data\", \"visible\": true}, \"mode\": \"markers\", \"x\": [\"Core i5\", \"ARM\"], \"y\": [1388882447.0, 1480177959.1], \"type\": \"scatter\", \"uid\": \"f3a4860d-d98c-4f42-b1f8-c4747988cb47\"}], {\"title\": \"Intel Core i5 vs ARM Cortex A7 - Cache misses (Multiplica\\u00e7\\u00e3o de matriz de floats)\"}, {\"showLink\": true, \"linkText\": \"Export to plot.ly\"})});</script><script type=\"text/javascript\">window.addEventListener(\"resize\", function(){window._Plotly.Plots.resize(document.getElementById(\"499b29f0-aa58-4768-9ac3-635b35702193\"));});</script>"
      ],
      "text/vnd.plotly.v1+html": [
       "<div id=\"499b29f0-aa58-4768-9ac3-635b35702193\" style=\"height: 525px; width: 100%;\" class=\"plotly-graph-div\"></div><script type=\"text/javascript\">require([\"plotly\"], function(Plotly) { window.PLOTLYENV=window.PLOTLYENV || {};window.PLOTLYENV.BASE_URL=\"https://plot.ly\";Plotly.newPlot(\"499b29f0-aa58-4768-9ac3-635b35702193\", [{\"error_y\": {\"array\": [12273535.985, 3915943.072], \"type\": \"data\", \"visible\": true}, \"mode\": \"markers\", \"x\": [\"Core i5\", \"ARM\"], \"y\": [1388882447.0, 1480177959.1], \"type\": \"scatter\", \"uid\": \"f3a4860d-d98c-4f42-b1f8-c4747988cb47\"}], {\"title\": \"Intel Core i5 vs ARM Cortex A7 - Cache misses (Multiplica\\u00e7\\u00e3o de matriz de floats)\"}, {\"showLink\": true, \"linkText\": \"Export to plot.ly\"})});</script><script type=\"text/javascript\">window.addEventListener(\"resize\", function(){window._Plotly.Plots.resize(document.getElementById(\"499b29f0-aa58-4768-9ac3-635b35702193\"));});</script>"
      ]
     },
     "metadata": {},
     "output_type": "display_data"
    },
    {
     "data": {
      "text/plain": [
       "0"
      ]
     },
     "execution_count": 4,
     "metadata": {},
     "output_type": "execute_result"
    }
   ],
   "source": [
    "print(avgs['float_mat_i5'])\n",
    "print(avgs['float_mat_rasp'])\n",
    "\n",
    "clock = [avgs['float_mat_i5']['clock'], avgs['float_mat_rasp']['clock']]\n",
    "icp = [avgs['float_mat_i5']['ipc'], avgs['float_mat_rasp']['ipc']]\n",
    "branch = [avgs['float_mat_i5']['branch'], avgs['float_mat_rasp']['branch']]\n",
    "cache = [avgs['float_mat_i5']['cache'], avgs['float_mat_rasp']['cache']]\n",
    "\n",
    "clock_confs = [confs['float_mat_i5']['clock'], confs['float_mat_rasp']['clock']]\n",
    "print(clock_confs)\n",
    "\n",
    "icp_confs = [confs['float_mat_i5']['ipc'], confs['float_mat_rasp']['ipc']]\n",
    "print(icp_confs)\n",
    "\n",
    "cache_confs = [confs['float_mat_i5']['cache'], confs['float_mat_rasp']['cache']]\n",
    "print(cache_confs)\n",
    "\n",
    "branch_confs = [confs['float_mat_i5']['branch'], confs['float_mat_rasp']['branch']]\n",
    "print(branch_confs)\n",
    "\n",
    "plot_bar_data(clock, clock_confs, labels, '{} - Tempo (Multiplicação de matriz de floats)'.format(plot_procs))\n",
    "plot_bar_data(icp, icp_confs, labels, '{} - IPC (Multiplicação de matriz de floats)'.format(plot_procs))\n",
    "plot_bar_data(branch, branch_confs, labels, '{} - Branch misses (Multiplicação de matriz de floats)'.format(plot_procs))\n",
    "plot_bar_data(cache, cache_confs, labels, '{} - Cache misses (Multiplicação de matriz de floats)'.format(plot_procs))"
   ]
  },
  {
   "cell_type": "code",
   "execution_count": 5,
   "metadata": {},
   "outputs": [
    {
     "name": "stdout",
     "output_type": "stream",
     "text": [
      "{'int_mat_i5': {'clock': 5530.805, 'ipc': 2.613, 'branch': 1040972.8, 'cache': 1204601072.2}, 'float_mat_i5': {'clock': 7485.323, 'ipc': 1.924, 'branch': 1057191.7, 'cache': 1388882447.0}, 'float_gauss_i5': {'clock': 3714.823, 'ipc': 1.748, 'branch': 4099589.8, 'cache': 229916209.4}, 'dep_i5': {'clock': 813.061, 'ipc': 1.295, 'branch': 85191.6, 'cache': 17780976.3}, 'branch_i5': {'clock': 0.76, 'ipc': 1.321, 'branch': 22019.5, 'cache': 15123.8}, 'branch_sort_i5': {'clock': 9.925, 'ipc': 1.996, 'branch': 160088.8, 'cache': 24916.8}, 'int_mat_rasp': {'clock': 95407.217, 'ipc': 0.394, 'branch': 4037964.6, 'cache': 1231935837.8}, 'float_mat_rasp': {'clock': 110346.756, 'ipc': 0.345, 'branch': 2721164.0, 'cache': 1480177959.1}, 'float_gauss_rasp': {'clock': 7011.943, 'ipc': 0.52, 'branch': 3731672.4, 'cache': 16136505.5}, 'dep_rasp': {'clock': 8644.85, 'ipc': 0.88, 'branch': 208778.2, 'cache': 2556415.0}, 'branch_rasp': {'clock': 5.893, 'ipc': 1.788, 'branch': 26216.3, 'cache': 6285.0}, 'branch_sort_rasp': {'clock': 82.202, 'ipc': 0.745, 'branch': 206702.7, 'cache': 12385.1}}\n",
      "[11.145, 39.907]\n",
      "[0.002, 0.0]\n",
      "[946844.598, 253649.975]\n",
      "[52862.389, 122986.831]\n"
     ]
    },
    {
     "data": {
      "application/vnd.plotly.v1+json": {
       "data": [
        {
         "error_y": {
          "array": [
           11.145,
           39.907
          ],
          "type": "data",
          "visible": true
         },
         "mode": "markers",
         "type": "scatter",
         "uid": "99efdc8d-ea86-4c6f-9d84-79bf8a067fbe",
         "x": [
          "Core i5",
          "ARM"
         ],
         "y": [
          3714.823,
          7011.943
         ]
        }
       ],
       "layout": {
        "title": "Intel Core i5 vs ARM Cortex A7 - Tempo (Escalonamento de Gauss)"
       }
      },
      "text/html": [
       "<div id=\"21d0db23-9f60-41ce-a654-93baafcc0b00\" style=\"height: 525px; width: 100%;\" class=\"plotly-graph-div\"></div><script type=\"text/javascript\">require([\"plotly\"], function(Plotly) { window.PLOTLYENV=window.PLOTLYENV || {};window.PLOTLYENV.BASE_URL=\"https://plot.ly\";Plotly.newPlot(\"21d0db23-9f60-41ce-a654-93baafcc0b00\", [{\"error_y\": {\"array\": [11.145, 39.907], \"type\": \"data\", \"visible\": true}, \"mode\": \"markers\", \"x\": [\"Core i5\", \"ARM\"], \"y\": [3714.823, 7011.943], \"type\": \"scatter\", \"uid\": \"99efdc8d-ea86-4c6f-9d84-79bf8a067fbe\"}], {\"title\": \"Intel Core i5 vs ARM Cortex A7 - Tempo (Escalonamento de Gauss)\"}, {\"showLink\": true, \"linkText\": \"Export to plot.ly\"})});</script><script type=\"text/javascript\">window.addEventListener(\"resize\", function(){window._Plotly.Plots.resize(document.getElementById(\"21d0db23-9f60-41ce-a654-93baafcc0b00\"));});</script>"
      ],
      "text/vnd.plotly.v1+html": [
       "<div id=\"21d0db23-9f60-41ce-a654-93baafcc0b00\" style=\"height: 525px; width: 100%;\" class=\"plotly-graph-div\"></div><script type=\"text/javascript\">require([\"plotly\"], function(Plotly) { window.PLOTLYENV=window.PLOTLYENV || {};window.PLOTLYENV.BASE_URL=\"https://plot.ly\";Plotly.newPlot(\"21d0db23-9f60-41ce-a654-93baafcc0b00\", [{\"error_y\": {\"array\": [11.145, 39.907], \"type\": \"data\", \"visible\": true}, \"mode\": \"markers\", \"x\": [\"Core i5\", \"ARM\"], \"y\": [3714.823, 7011.943], \"type\": \"scatter\", \"uid\": \"99efdc8d-ea86-4c6f-9d84-79bf8a067fbe\"}], {\"title\": \"Intel Core i5 vs ARM Cortex A7 - Tempo (Escalonamento de Gauss)\"}, {\"showLink\": true, \"linkText\": \"Export to plot.ly\"})});</script><script type=\"text/javascript\">window.addEventListener(\"resize\", function(){window._Plotly.Plots.resize(document.getElementById(\"21d0db23-9f60-41ce-a654-93baafcc0b00\"));});</script>"
      ]
     },
     "metadata": {},
     "output_type": "display_data"
    },
    {
     "data": {
      "application/vnd.plotly.v1+json": {
       "data": [
        {
         "error_y": {
          "array": [
           0.002,
           0
          ],
          "type": "data",
          "visible": true
         },
         "mode": "markers",
         "type": "scatter",
         "uid": "29f40679-ff9e-44ad-afc2-7ff58687d0ef",
         "x": [
          "Core i5",
          "ARM"
         ],
         "y": [
          1.748,
          0.52
         ]
        }
       ],
       "layout": {
        "title": "Intel Core i5 vs ARM Cortex A7 - IPC (Escalonamento de Gauss)"
       }
      },
      "text/html": [
       "<div id=\"8c6f506a-9470-4448-9bd7-a4e4e639b6a6\" style=\"height: 525px; width: 100%;\" class=\"plotly-graph-div\"></div><script type=\"text/javascript\">require([\"plotly\"], function(Plotly) { window.PLOTLYENV=window.PLOTLYENV || {};window.PLOTLYENV.BASE_URL=\"https://plot.ly\";Plotly.newPlot(\"8c6f506a-9470-4448-9bd7-a4e4e639b6a6\", [{\"error_y\": {\"array\": [0.002, 0.0], \"type\": \"data\", \"visible\": true}, \"mode\": \"markers\", \"x\": [\"Core i5\", \"ARM\"], \"y\": [1.748, 0.52], \"type\": \"scatter\", \"uid\": \"29f40679-ff9e-44ad-afc2-7ff58687d0ef\"}], {\"title\": \"Intel Core i5 vs ARM Cortex A7 - IPC (Escalonamento de Gauss)\"}, {\"showLink\": true, \"linkText\": \"Export to plot.ly\"})});</script><script type=\"text/javascript\">window.addEventListener(\"resize\", function(){window._Plotly.Plots.resize(document.getElementById(\"8c6f506a-9470-4448-9bd7-a4e4e639b6a6\"));});</script>"
      ],
      "text/vnd.plotly.v1+html": [
       "<div id=\"8c6f506a-9470-4448-9bd7-a4e4e639b6a6\" style=\"height: 525px; width: 100%;\" class=\"plotly-graph-div\"></div><script type=\"text/javascript\">require([\"plotly\"], function(Plotly) { window.PLOTLYENV=window.PLOTLYENV || {};window.PLOTLYENV.BASE_URL=\"https://plot.ly\";Plotly.newPlot(\"8c6f506a-9470-4448-9bd7-a4e4e639b6a6\", [{\"error_y\": {\"array\": [0.002, 0.0], \"type\": \"data\", \"visible\": true}, \"mode\": \"markers\", \"x\": [\"Core i5\", \"ARM\"], \"y\": [1.748, 0.52], \"type\": \"scatter\", \"uid\": \"29f40679-ff9e-44ad-afc2-7ff58687d0ef\"}], {\"title\": \"Intel Core i5 vs ARM Cortex A7 - IPC (Escalonamento de Gauss)\"}, {\"showLink\": true, \"linkText\": \"Export to plot.ly\"})});</script><script type=\"text/javascript\">window.addEventListener(\"resize\", function(){window._Plotly.Plots.resize(document.getElementById(\"8c6f506a-9470-4448-9bd7-a4e4e639b6a6\"));});</script>"
      ]
     },
     "metadata": {},
     "output_type": "display_data"
    },
    {
     "data": {
      "application/vnd.plotly.v1+json": {
       "data": [
        {
         "error_y": {
          "array": [
           52862.389,
           122986.831
          ],
          "type": "data",
          "visible": true
         },
         "mode": "markers",
         "type": "scatter",
         "uid": "b3680c3c-011d-4147-8c45-49ae0648c497",
         "x": [
          "Core i5",
          "ARM"
         ],
         "y": [
          4099589.8,
          3731672.4
         ]
        }
       ],
       "layout": {
        "title": "Intel Core i5 vs ARM Cortex A7 - Branch misses (Escalonamento de Gauss)"
       }
      },
      "text/html": [
       "<div id=\"260de8a0-03c1-4db3-a054-9edf4ffc7683\" style=\"height: 525px; width: 100%;\" class=\"plotly-graph-div\"></div><script type=\"text/javascript\">require([\"plotly\"], function(Plotly) { window.PLOTLYENV=window.PLOTLYENV || {};window.PLOTLYENV.BASE_URL=\"https://plot.ly\";Plotly.newPlot(\"260de8a0-03c1-4db3-a054-9edf4ffc7683\", [{\"error_y\": {\"array\": [52862.389, 122986.831], \"type\": \"data\", \"visible\": true}, \"mode\": \"markers\", \"x\": [\"Core i5\", \"ARM\"], \"y\": [4099589.8, 3731672.4], \"type\": \"scatter\", \"uid\": \"b3680c3c-011d-4147-8c45-49ae0648c497\"}], {\"title\": \"Intel Core i5 vs ARM Cortex A7 - Branch misses (Escalonamento de Gauss)\"}, {\"showLink\": true, \"linkText\": \"Export to plot.ly\"})});</script><script type=\"text/javascript\">window.addEventListener(\"resize\", function(){window._Plotly.Plots.resize(document.getElementById(\"260de8a0-03c1-4db3-a054-9edf4ffc7683\"));});</script>"
      ],
      "text/vnd.plotly.v1+html": [
       "<div id=\"260de8a0-03c1-4db3-a054-9edf4ffc7683\" style=\"height: 525px; width: 100%;\" class=\"plotly-graph-div\"></div><script type=\"text/javascript\">require([\"plotly\"], function(Plotly) { window.PLOTLYENV=window.PLOTLYENV || {};window.PLOTLYENV.BASE_URL=\"https://plot.ly\";Plotly.newPlot(\"260de8a0-03c1-4db3-a054-9edf4ffc7683\", [{\"error_y\": {\"array\": [52862.389, 122986.831], \"type\": \"data\", \"visible\": true}, \"mode\": \"markers\", \"x\": [\"Core i5\", \"ARM\"], \"y\": [4099589.8, 3731672.4], \"type\": \"scatter\", \"uid\": \"b3680c3c-011d-4147-8c45-49ae0648c497\"}], {\"title\": \"Intel Core i5 vs ARM Cortex A7 - Branch misses (Escalonamento de Gauss)\"}, {\"showLink\": true, \"linkText\": \"Export to plot.ly\"})});</script><script type=\"text/javascript\">window.addEventListener(\"resize\", function(){window._Plotly.Plots.resize(document.getElementById(\"260de8a0-03c1-4db3-a054-9edf4ffc7683\"));});</script>"
      ]
     },
     "metadata": {},
     "output_type": "display_data"
    },
    {
     "data": {
      "application/vnd.plotly.v1+json": {
       "data": [
        {
         "error_y": {
          "array": [
           946844.598,
           253649.975
          ],
          "type": "data",
          "visible": true
         },
         "mode": "markers",
         "type": "scatter",
         "uid": "8a4f4d43-0c7e-4fee-aa3e-733d7f790007",
         "x": [
          "Core i5",
          "ARM"
         ],
         "y": [
          229916209.4,
          16136505.5
         ]
        }
       ],
       "layout": {
        "title": "Intel Core i5 vs ARM Cortex A7 - Cache misses (Escalonamento de Gauss)"
       }
      },
      "text/html": [
       "<div id=\"423e7bf3-fafd-42e8-9808-0ce70f54c992\" style=\"height: 525px; width: 100%;\" class=\"plotly-graph-div\"></div><script type=\"text/javascript\">require([\"plotly\"], function(Plotly) { window.PLOTLYENV=window.PLOTLYENV || {};window.PLOTLYENV.BASE_URL=\"https://plot.ly\";Plotly.newPlot(\"423e7bf3-fafd-42e8-9808-0ce70f54c992\", [{\"error_y\": {\"array\": [946844.598, 253649.975], \"type\": \"data\", \"visible\": true}, \"mode\": \"markers\", \"x\": [\"Core i5\", \"ARM\"], \"y\": [229916209.4, 16136505.5], \"type\": \"scatter\", \"uid\": \"8a4f4d43-0c7e-4fee-aa3e-733d7f790007\"}], {\"title\": \"Intel Core i5 vs ARM Cortex A7 - Cache misses (Escalonamento de Gauss)\"}, {\"showLink\": true, \"linkText\": \"Export to plot.ly\"})});</script><script type=\"text/javascript\">window.addEventListener(\"resize\", function(){window._Plotly.Plots.resize(document.getElementById(\"423e7bf3-fafd-42e8-9808-0ce70f54c992\"));});</script>"
      ],
      "text/vnd.plotly.v1+html": [
       "<div id=\"423e7bf3-fafd-42e8-9808-0ce70f54c992\" style=\"height: 525px; width: 100%;\" class=\"plotly-graph-div\"></div><script type=\"text/javascript\">require([\"plotly\"], function(Plotly) { window.PLOTLYENV=window.PLOTLYENV || {};window.PLOTLYENV.BASE_URL=\"https://plot.ly\";Plotly.newPlot(\"423e7bf3-fafd-42e8-9808-0ce70f54c992\", [{\"error_y\": {\"array\": [946844.598, 253649.975], \"type\": \"data\", \"visible\": true}, \"mode\": \"markers\", \"x\": [\"Core i5\", \"ARM\"], \"y\": [229916209.4, 16136505.5], \"type\": \"scatter\", \"uid\": \"8a4f4d43-0c7e-4fee-aa3e-733d7f790007\"}], {\"title\": \"Intel Core i5 vs ARM Cortex A7 - Cache misses (Escalonamento de Gauss)\"}, {\"showLink\": true, \"linkText\": \"Export to plot.ly\"})});</script><script type=\"text/javascript\">window.addEventListener(\"resize\", function(){window._Plotly.Plots.resize(document.getElementById(\"423e7bf3-fafd-42e8-9808-0ce70f54c992\"));});</script>"
      ]
     },
     "metadata": {},
     "output_type": "display_data"
    },
    {
     "data": {
      "text/plain": [
       "0"
      ]
     },
     "execution_count": 5,
     "metadata": {},
     "output_type": "execute_result"
    }
   ],
   "source": [
    "print(avgs)\n",
    "\n",
    "clock = [avgs['float_gauss_i5']['clock'], avgs['float_gauss_rasp']['clock']]\n",
    "icp = [avgs['float_gauss_i5']['ipc'], avgs['float_gauss_rasp']['ipc']]\n",
    "branch = [avgs['float_gauss_i5']['branch'], avgs['float_gauss_rasp']['branch']]\n",
    "cache = [avgs['float_gauss_i5']['cache'], avgs['float_gauss_rasp']['cache']]\n",
    "\n",
    "clock_confs = [confs['float_gauss_i5']['clock'], confs['float_gauss_rasp']['clock']]\n",
    "print(clock_confs)\n",
    "\n",
    "icp_confs = [confs['float_gauss_i5']['ipc'], confs['float_gauss_rasp']['ipc']]\n",
    "print(icp_confs)\n",
    "\n",
    "cache_confs = [confs['float_gauss_i5']['cache'], confs['float_gauss_rasp']['cache']]\n",
    "print(cache_confs)\n",
    "\n",
    "branch_confs = [confs['float_gauss_i5']['branch'], confs['float_gauss_rasp']['branch']]\n",
    "print(branch_confs)\n",
    "\n",
    "plot_bar_data(clock, clock_confs, labels, '{} - Tempo (Escalonamento de Gauss)'.format(plot_procs))\n",
    "plot_bar_data(icp, icp_confs, labels, '{} - IPC (Escalonamento de Gauss)'.format(plot_procs))\n",
    "plot_bar_data(branch, branch_confs, labels, '{} - Branch misses (Escalonamento de Gauss)'.format(plot_procs))\n",
    "plot_bar_data(cache, cache_confs, labels, '{} - Cache misses (Escalonamento de Gauss)'.format(plot_procs))"
   ]
  },
  {
   "cell_type": "code",
   "execution_count": 9,
   "metadata": {},
   "outputs": [
    {
     "name": "stdout",
     "output_type": "stream",
     "text": [
      "[0.76, 5.893]\n",
      "[9.925, 82.202]\n",
      "clock data [0.76, 5.893, 9.925, 82.202]\n"
     ]
    },
    {
     "data": {
      "application/vnd.plotly.v1+json": {
       "data": [
        {
         "error_y": {
          "array": [
           0.025,
           1.228,
           0.054,
           6.155
          ],
          "type": "data",
          "visible": true
         },
         "mode": "markers",
         "type": "scatter",
         "uid": "2bb2a2ba-40b8-4140-8659-674199f5aee2",
         "x": [
          "i5 (não ordenado)",
          "ARM (não ordenado)",
          "i5 (ordenado)",
          "ARM (ordenado)"
         ],
         "y": [
          0.76,
          5.893,
          9.925,
          82.202
         ]
        }
       ],
       "layout": {
        "title": "Intel Core i5 vs ARM Cortex A7 - Tempo (Dependencia de controle)"
       }
      },
      "text/html": [
       "<div id=\"52ee6128-a0e0-4cfb-bdbb-58972c203a66\" style=\"height: 525px; width: 100%;\" class=\"plotly-graph-div\"></div><script type=\"text/javascript\">require([\"plotly\"], function(Plotly) { window.PLOTLYENV=window.PLOTLYENV || {};window.PLOTLYENV.BASE_URL=\"https://plot.ly\";Plotly.newPlot(\"52ee6128-a0e0-4cfb-bdbb-58972c203a66\", [{\"error_y\": {\"array\": [0.025, 1.228, 0.054, 6.155], \"type\": \"data\", \"visible\": true}, \"mode\": \"markers\", \"x\": [\"i5 (n\\u00e3o ordenado)\", \"ARM (n\\u00e3o ordenado)\", \"i5 (ordenado)\", \"ARM (ordenado)\"], \"y\": [0.76, 5.893, 9.925, 82.202], \"type\": \"scatter\", \"uid\": \"2bb2a2ba-40b8-4140-8659-674199f5aee2\"}], {\"title\": \"Intel Core i5 vs ARM Cortex A7 - Tempo (Dependencia de controle)\"}, {\"showLink\": true, \"linkText\": \"Export to plot.ly\"})});</script><script type=\"text/javascript\">window.addEventListener(\"resize\", function(){window._Plotly.Plots.resize(document.getElementById(\"52ee6128-a0e0-4cfb-bdbb-58972c203a66\"));});</script>"
      ],
      "text/vnd.plotly.v1+html": [
       "<div id=\"52ee6128-a0e0-4cfb-bdbb-58972c203a66\" style=\"height: 525px; width: 100%;\" class=\"plotly-graph-div\"></div><script type=\"text/javascript\">require([\"plotly\"], function(Plotly) { window.PLOTLYENV=window.PLOTLYENV || {};window.PLOTLYENV.BASE_URL=\"https://plot.ly\";Plotly.newPlot(\"52ee6128-a0e0-4cfb-bdbb-58972c203a66\", [{\"error_y\": {\"array\": [0.025, 1.228, 0.054, 6.155], \"type\": \"data\", \"visible\": true}, \"mode\": \"markers\", \"x\": [\"i5 (n\\u00e3o ordenado)\", \"ARM (n\\u00e3o ordenado)\", \"i5 (ordenado)\", \"ARM (ordenado)\"], \"y\": [0.76, 5.893, 9.925, 82.202], \"type\": \"scatter\", \"uid\": \"2bb2a2ba-40b8-4140-8659-674199f5aee2\"}], {\"title\": \"Intel Core i5 vs ARM Cortex A7 - Tempo (Dependencia de controle)\"}, {\"showLink\": true, \"linkText\": \"Export to plot.ly\"})});</script><script type=\"text/javascript\">window.addEventListener(\"resize\", function(){window._Plotly.Plots.resize(document.getElementById(\"52ee6128-a0e0-4cfb-bdbb-58972c203a66\"));});</script>"
      ]
     },
     "metadata": {},
     "output_type": "display_data"
    },
    {
     "data": {
      "application/vnd.plotly.v1+json": {
       "data": [
        {
         "error_y": {
          "array": [
           0.024,
           1.064,
           0.004,
           0.008
          ],
          "type": "data",
          "visible": true
         },
         "mode": "markers",
         "type": "scatter",
         "uid": "732c4f35-41ee-4436-8978-e6a582342bd9",
         "x": [
          "i5 (não ordenado)",
          "ARM (não ordenado)",
          "i5 (ordenado)",
          "ARM (ordenado)"
         ],
         "y": [
          1.321,
          1.788,
          1.996,
          0.745
         ]
        }
       ],
       "layout": {
        "title": "Intel Core i5 vs ARM Cortex A7 - IPC (Dependencia de controle)"
       }
      },
      "text/html": [
       "<div id=\"f1173cfa-9a09-4dde-a2ae-391866bdaa23\" style=\"height: 525px; width: 100%;\" class=\"plotly-graph-div\"></div><script type=\"text/javascript\">require([\"plotly\"], function(Plotly) { window.PLOTLYENV=window.PLOTLYENV || {};window.PLOTLYENV.BASE_URL=\"https://plot.ly\";Plotly.newPlot(\"f1173cfa-9a09-4dde-a2ae-391866bdaa23\", [{\"error_y\": {\"array\": [0.024, 1.064, 0.004, 0.008], \"type\": \"data\", \"visible\": true}, \"mode\": \"markers\", \"x\": [\"i5 (n\\u00e3o ordenado)\", \"ARM (n\\u00e3o ordenado)\", \"i5 (ordenado)\", \"ARM (ordenado)\"], \"y\": [1.321, 1.788, 1.996, 0.745], \"type\": \"scatter\", \"uid\": \"732c4f35-41ee-4436-8978-e6a582342bd9\"}], {\"title\": \"Intel Core i5 vs ARM Cortex A7 - IPC (Dependencia de controle)\"}, {\"showLink\": true, \"linkText\": \"Export to plot.ly\"})});</script><script type=\"text/javascript\">window.addEventListener(\"resize\", function(){window._Plotly.Plots.resize(document.getElementById(\"f1173cfa-9a09-4dde-a2ae-391866bdaa23\"));});</script>"
      ],
      "text/vnd.plotly.v1+html": [
       "<div id=\"f1173cfa-9a09-4dde-a2ae-391866bdaa23\" style=\"height: 525px; width: 100%;\" class=\"plotly-graph-div\"></div><script type=\"text/javascript\">require([\"plotly\"], function(Plotly) { window.PLOTLYENV=window.PLOTLYENV || {};window.PLOTLYENV.BASE_URL=\"https://plot.ly\";Plotly.newPlot(\"f1173cfa-9a09-4dde-a2ae-391866bdaa23\", [{\"error_y\": {\"array\": [0.024, 1.064, 0.004, 0.008], \"type\": \"data\", \"visible\": true}, \"mode\": \"markers\", \"x\": [\"i5 (n\\u00e3o ordenado)\", \"ARM (n\\u00e3o ordenado)\", \"i5 (ordenado)\", \"ARM (ordenado)\"], \"y\": [1.321, 1.788, 1.996, 0.745], \"type\": \"scatter\", \"uid\": \"732c4f35-41ee-4436-8978-e6a582342bd9\"}], {\"title\": \"Intel Core i5 vs ARM Cortex A7 - IPC (Dependencia de controle)\"}, {\"showLink\": true, \"linkText\": \"Export to plot.ly\"})});</script><script type=\"text/javascript\">window.addEventListener(\"resize\", function(){window._Plotly.Plots.resize(document.getElementById(\"f1173cfa-9a09-4dde-a2ae-391866bdaa23\"));});</script>"
      ]
     },
     "metadata": {},
     "output_type": "display_data"
    },
    {
     "data": {
      "application/vnd.plotly.v1+json": {
       "data": [
        {
         "error_y": {
          "array": [
           244.026,
           124.774,
           286.026,
           3818.879
          ],
          "type": "data",
          "visible": true
         },
         "mode": "markers",
         "type": "scatter",
         "uid": "e4716a71-3801-4341-8ef9-5f6af8bae0af",
         "x": [
          "i5 (não ordenado)",
          "ARM (não ordenado)",
          "i5 (ordenado)",
          "ARM (ordenado)"
         ],
         "y": [
          22019.5,
          26216.3,
          160088.8,
          206702.7
         ]
        }
       ],
       "layout": {
        "title": "Intel Core i5 vs ARM Cortex A7 - Branch misses (Dependencia de controle)"
       }
      },
      "text/html": [
       "<div id=\"61550c55-739e-4991-b2f3-dcffa533b106\" style=\"height: 525px; width: 100%;\" class=\"plotly-graph-div\"></div><script type=\"text/javascript\">require([\"plotly\"], function(Plotly) { window.PLOTLYENV=window.PLOTLYENV || {};window.PLOTLYENV.BASE_URL=\"https://plot.ly\";Plotly.newPlot(\"61550c55-739e-4991-b2f3-dcffa533b106\", [{\"error_y\": {\"array\": [244.026, 124.774, 286.026, 3818.879], \"type\": \"data\", \"visible\": true}, \"mode\": \"markers\", \"x\": [\"i5 (n\\u00e3o ordenado)\", \"ARM (n\\u00e3o ordenado)\", \"i5 (ordenado)\", \"ARM (ordenado)\"], \"y\": [22019.5, 26216.3, 160088.8, 206702.7], \"type\": \"scatter\", \"uid\": \"e4716a71-3801-4341-8ef9-5f6af8bae0af\"}], {\"title\": \"Intel Core i5 vs ARM Cortex A7 - Branch misses (Dependencia de controle)\"}, {\"showLink\": true, \"linkText\": \"Export to plot.ly\"})});</script><script type=\"text/javascript\">window.addEventListener(\"resize\", function(){window._Plotly.Plots.resize(document.getElementById(\"61550c55-739e-4991-b2f3-dcffa533b106\"));});</script>"
      ],
      "text/vnd.plotly.v1+html": [
       "<div id=\"61550c55-739e-4991-b2f3-dcffa533b106\" style=\"height: 525px; width: 100%;\" class=\"plotly-graph-div\"></div><script type=\"text/javascript\">require([\"plotly\"], function(Plotly) { window.PLOTLYENV=window.PLOTLYENV || {};window.PLOTLYENV.BASE_URL=\"https://plot.ly\";Plotly.newPlot(\"61550c55-739e-4991-b2f3-dcffa533b106\", [{\"error_y\": {\"array\": [244.026, 124.774, 286.026, 3818.879], \"type\": \"data\", \"visible\": true}, \"mode\": \"markers\", \"x\": [\"i5 (n\\u00e3o ordenado)\", \"ARM (n\\u00e3o ordenado)\", \"i5 (ordenado)\", \"ARM (ordenado)\"], \"y\": [22019.5, 26216.3, 160088.8, 206702.7], \"type\": \"scatter\", \"uid\": \"e4716a71-3801-4341-8ef9-5f6af8bae0af\"}], {\"title\": \"Intel Core i5 vs ARM Cortex A7 - Branch misses (Dependencia de controle)\"}, {\"showLink\": true, \"linkText\": \"Export to plot.ly\"})});</script><script type=\"text/javascript\">window.addEventListener(\"resize\", function(){window._Plotly.Plots.resize(document.getElementById(\"61550c55-739e-4991-b2f3-dcffa533b106\"));});</script>"
      ]
     },
     "metadata": {},
     "output_type": "display_data"
    },
    {
     "data": {
      "application/vnd.plotly.v1+json": {
       "data": [
        {
         "error_y": {
          "array": [
           228.87,
           160.646,
           225.812,
           768.51
          ],
          "type": "data",
          "visible": true
         },
         "mode": "markers",
         "type": "scatter",
         "uid": "c41f1370-7a38-47a8-ab4c-5cdf5cda0a8d",
         "x": [
          "i5 (não ordenado)",
          "ARM (não ordenado)",
          "i5 (ordenado)",
          "ARM (ordenado)"
         ],
         "y": [
          15123.8,
          6285,
          24916.8,
          12385.1
         ]
        }
       ],
       "layout": {
        "title": "Intel Core i5 vs ARM Cortex A7 - Cache misses (Dependencia de controle)"
       }
      },
      "text/html": [
       "<div id=\"29f2dd24-c3b6-4de6-990d-582a13429219\" style=\"height: 525px; width: 100%;\" class=\"plotly-graph-div\"></div><script type=\"text/javascript\">require([\"plotly\"], function(Plotly) { window.PLOTLYENV=window.PLOTLYENV || {};window.PLOTLYENV.BASE_URL=\"https://plot.ly\";Plotly.newPlot(\"29f2dd24-c3b6-4de6-990d-582a13429219\", [{\"error_y\": {\"array\": [228.87, 160.646, 225.812, 768.51], \"type\": \"data\", \"visible\": true}, \"mode\": \"markers\", \"x\": [\"i5 (n\\u00e3o ordenado)\", \"ARM (n\\u00e3o ordenado)\", \"i5 (ordenado)\", \"ARM (ordenado)\"], \"y\": [15123.8, 6285.0, 24916.8, 12385.1], \"type\": \"scatter\", \"uid\": \"c41f1370-7a38-47a8-ab4c-5cdf5cda0a8d\"}], {\"title\": \"Intel Core i5 vs ARM Cortex A7 - Cache misses (Dependencia de controle)\"}, {\"showLink\": true, \"linkText\": \"Export to plot.ly\"})});</script><script type=\"text/javascript\">window.addEventListener(\"resize\", function(){window._Plotly.Plots.resize(document.getElementById(\"29f2dd24-c3b6-4de6-990d-582a13429219\"));});</script>"
      ],
      "text/vnd.plotly.v1+html": [
       "<div id=\"29f2dd24-c3b6-4de6-990d-582a13429219\" style=\"height: 525px; width: 100%;\" class=\"plotly-graph-div\"></div><script type=\"text/javascript\">require([\"plotly\"], function(Plotly) { window.PLOTLYENV=window.PLOTLYENV || {};window.PLOTLYENV.BASE_URL=\"https://plot.ly\";Plotly.newPlot(\"29f2dd24-c3b6-4de6-990d-582a13429219\", [{\"error_y\": {\"array\": [228.87, 160.646, 225.812, 768.51], \"type\": \"data\", \"visible\": true}, \"mode\": \"markers\", \"x\": [\"i5 (n\\u00e3o ordenado)\", \"ARM (n\\u00e3o ordenado)\", \"i5 (ordenado)\", \"ARM (ordenado)\"], \"y\": [15123.8, 6285.0, 24916.8, 12385.1], \"type\": \"scatter\", \"uid\": \"c41f1370-7a38-47a8-ab4c-5cdf5cda0a8d\"}], {\"title\": \"Intel Core i5 vs ARM Cortex A7 - Cache misses (Dependencia de controle)\"}, {\"showLink\": true, \"linkText\": \"Export to plot.ly\"})});</script><script type=\"text/javascript\">window.addEventListener(\"resize\", function(){window._Plotly.Plots.resize(document.getElementById(\"29f2dd24-c3b6-4de6-990d-582a13429219\"));});</script>"
      ]
     },
     "metadata": {},
     "output_type": "display_data"
    },
    {
     "data": {
      "text/plain": [
       "0"
      ]
     },
     "execution_count": 9,
     "metadata": {},
     "output_type": "execute_result"
    }
   ],
   "source": [
    "#print(avgs)\n",
    "clock = [avgs['branch_i5']['clock'], avgs['branch_rasp']['clock']]\n",
    "clock_confs = [confs['branch_i5']['clock'], confs['branch_rasp']['clock']]\n",
    "icp = [avgs['branch_i5']['ipc'], avgs['branch_rasp']['ipc']]\n",
    "icp_confs = [confs['branch_i5']['ipc'], confs['branch_rasp']['ipc']]\n",
    "branch = [avgs['branch_i5']['branch'], avgs['branch_rasp']['branch']]\n",
    "branch_confs = [confs['branch_i5']['branch'], confs['branch_rasp']['branch']]\n",
    "cache = [avgs['branch_i5']['cache'], avgs['branch_rasp']['cache']]\n",
    "cache_confs = [confs['branch_i5']['cache'], confs['branch_rasp']['cache']]\n",
    "\n",
    "clock_sorted = [avgs['branch_sort_i5']['clock'], avgs['branch_sort_rasp']['clock']]\n",
    "clock_sorted_confs = [confs['branch_sort_i5']['clock'], confs['branch_sort_rasp']['clock']]\n",
    "icp_sorted = [avgs['branch_sort_i5']['ipc'], avgs['branch_sort_rasp']['ipc']]\n",
    "icp_sorted_confs = [confs['branch_sort_i5']['ipc'], confs['branch_sort_rasp']['ipc']]\n",
    "branch_sorted = [avgs['branch_sort_i5']['branch'], avgs['branch_sort_rasp']['branch']]\n",
    "branch_sorted_confs = [confs['branch_sort_i5']['branch'], confs['branch_sort_rasp']['branch']]\n",
    "cache_sorted = [avgs['branch_sort_i5']['cache'], avgs['branch_sort_rasp']['cache']]\n",
    "cache_sorted_confs = [confs['branch_sort_i5']['cache'], confs['branch_sort_rasp']['cache']]\n",
    "\n",
    "clock_data = clock + clock_sorted\n",
    "print(clock)\n",
    "print(clock_sorted)\n",
    "print('clock data', clock_data)\n",
    "clock_comb_conf = clock_confs + clock_sorted_confs\n",
    "icp_data = icp + icp_sorted\n",
    "icp_comb_conf = icp_confs + icp_sorted_confs\n",
    "branch_data = branch + branch_sorted\n",
    "branch_comb_conf = branch_confs + branch_sorted_confs\n",
    "cache_data = cache + cache_sorted\n",
    "cache_comb_conf = cache_confs + cache_sorted_confs\n",
    "\n",
    "labels = ['i5 (não ordenado)', 'ARM (não ordenado)', 'i5 (ordenado)', 'ARM (ordenado)']\n",
    "plot_bar_data(clock_data, clock_comb_conf, labels, '{} - Tempo (Dependencia de controle)'.format(plot_procs))\n",
    "plot_bar_data(icp_data, icp_comb_conf, labels, '{} - IPC (Dependencia de controle)'.format(plot_procs))\n",
    "plot_bar_data(branch_data, branch_comb_conf, labels, '{} - Branch misses (Dependencia de controle)'.format(plot_procs))\n",
    "plot_bar_data(cache_data, cache_comb_conf, labels, '{} - Cache misses (Dependencia de controle)'.format(plot_procs))"
   ]
  },
  {
   "cell_type": "code",
   "execution_count": 7,
   "metadata": {},
   "outputs": [
    {
     "name": "stdout",
     "output_type": "stream",
     "text": [
      "[4.274, 15.392]\n",
      "[0.003, 0.0]\n",
      "[248283.028, 444522.893]\n",
      "[3464.095, 71522.189]\n"
     ]
    },
    {
     "data": {
      "application/vnd.plotly.v1+json": {
       "data": [
        {
         "error_y": {
          "array": [
           4.274,
           15.392
          ],
          "type": "data",
          "visible": true
         },
         "mode": "markers",
         "type": "scatter",
         "uid": "78343321-5551-4af7-bd73-84c3e155dbe1",
         "x": [
          "i5 (não ordenado)",
          "ARM (não ordenado)",
          "i5 (ordenado)",
          "ARM (ordenado)"
         ],
         "y": [
          813.061,
          8644.85
         ]
        }
       ],
       "layout": {
        "title": "Intel Core i5 vs ARM Cortex A7 - Tempo (Dependência de dados)"
       }
      },
      "text/html": [
       "<div id=\"752fe2d1-4c46-4ced-8697-65410989e35b\" style=\"height: 525px; width: 100%;\" class=\"plotly-graph-div\"></div><script type=\"text/javascript\">require([\"plotly\"], function(Plotly) { window.PLOTLYENV=window.PLOTLYENV || {};window.PLOTLYENV.BASE_URL=\"https://plot.ly\";Plotly.newPlot(\"752fe2d1-4c46-4ced-8697-65410989e35b\", [{\"error_y\": {\"array\": [4.274, 15.392], \"type\": \"data\", \"visible\": true}, \"mode\": \"markers\", \"x\": [\"i5 (n\\u00e3o ordenado)\", \"ARM (n\\u00e3o ordenado)\", \"i5 (ordenado)\", \"ARM (ordenado)\"], \"y\": [813.061, 8644.85], \"type\": \"scatter\", \"uid\": \"78343321-5551-4af7-bd73-84c3e155dbe1\"}], {\"title\": \"Intel Core i5 vs ARM Cortex A7 - Tempo (Depend\\u00eancia de dados)\"}, {\"showLink\": true, \"linkText\": \"Export to plot.ly\"})});</script><script type=\"text/javascript\">window.addEventListener(\"resize\", function(){window._Plotly.Plots.resize(document.getElementById(\"752fe2d1-4c46-4ced-8697-65410989e35b\"));});</script>"
      ],
      "text/vnd.plotly.v1+html": [
       "<div id=\"752fe2d1-4c46-4ced-8697-65410989e35b\" style=\"height: 525px; width: 100%;\" class=\"plotly-graph-div\"></div><script type=\"text/javascript\">require([\"plotly\"], function(Plotly) { window.PLOTLYENV=window.PLOTLYENV || {};window.PLOTLYENV.BASE_URL=\"https://plot.ly\";Plotly.newPlot(\"752fe2d1-4c46-4ced-8697-65410989e35b\", [{\"error_y\": {\"array\": [4.274, 15.392], \"type\": \"data\", \"visible\": true}, \"mode\": \"markers\", \"x\": [\"i5 (n\\u00e3o ordenado)\", \"ARM (n\\u00e3o ordenado)\", \"i5 (ordenado)\", \"ARM (ordenado)\"], \"y\": [813.061, 8644.85], \"type\": \"scatter\", \"uid\": \"78343321-5551-4af7-bd73-84c3e155dbe1\"}], {\"title\": \"Intel Core i5 vs ARM Cortex A7 - Tempo (Depend\\u00eancia de dados)\"}, {\"showLink\": true, \"linkText\": \"Export to plot.ly\"})});</script><script type=\"text/javascript\">window.addEventListener(\"resize\", function(){window._Plotly.Plots.resize(document.getElementById(\"752fe2d1-4c46-4ced-8697-65410989e35b\"));});</script>"
      ]
     },
     "metadata": {},
     "output_type": "display_data"
    },
    {
     "data": {
      "application/vnd.plotly.v1+json": {
       "data": [
        {
         "error_y": {
          "array": [
           0.003,
           0
          ],
          "type": "data",
          "visible": true
         },
         "mode": "markers",
         "type": "scatter",
         "uid": "294e4eff-7042-4379-8fdd-3acae3dbabc3",
         "x": [
          "i5 (não ordenado)",
          "ARM (não ordenado)",
          "i5 (ordenado)",
          "ARM (ordenado)"
         ],
         "y": [
          1.295,
          0.88
         ]
        }
       ],
       "layout": {
        "title": "Intel Core i5 vs ARM Cortex A7 - IPC (Dependência de dados)"
       }
      },
      "text/html": [
       "<div id=\"50d9e3af-8ce3-4cc5-9928-ac6714a5602a\" style=\"height: 525px; width: 100%;\" class=\"plotly-graph-div\"></div><script type=\"text/javascript\">require([\"plotly\"], function(Plotly) { window.PLOTLYENV=window.PLOTLYENV || {};window.PLOTLYENV.BASE_URL=\"https://plot.ly\";Plotly.newPlot(\"50d9e3af-8ce3-4cc5-9928-ac6714a5602a\", [{\"error_y\": {\"array\": [0.003, 0.0], \"type\": \"data\", \"visible\": true}, \"mode\": \"markers\", \"x\": [\"i5 (n\\u00e3o ordenado)\", \"ARM (n\\u00e3o ordenado)\", \"i5 (ordenado)\", \"ARM (ordenado)\"], \"y\": [1.295, 0.88], \"type\": \"scatter\", \"uid\": \"294e4eff-7042-4379-8fdd-3acae3dbabc3\"}], {\"title\": \"Intel Core i5 vs ARM Cortex A7 - IPC (Depend\\u00eancia de dados)\"}, {\"showLink\": true, \"linkText\": \"Export to plot.ly\"})});</script><script type=\"text/javascript\">window.addEventListener(\"resize\", function(){window._Plotly.Plots.resize(document.getElementById(\"50d9e3af-8ce3-4cc5-9928-ac6714a5602a\"));});</script>"
      ],
      "text/vnd.plotly.v1+html": [
       "<div id=\"50d9e3af-8ce3-4cc5-9928-ac6714a5602a\" style=\"height: 525px; width: 100%;\" class=\"plotly-graph-div\"></div><script type=\"text/javascript\">require([\"plotly\"], function(Plotly) { window.PLOTLYENV=window.PLOTLYENV || {};window.PLOTLYENV.BASE_URL=\"https://plot.ly\";Plotly.newPlot(\"50d9e3af-8ce3-4cc5-9928-ac6714a5602a\", [{\"error_y\": {\"array\": [0.003, 0.0], \"type\": \"data\", \"visible\": true}, \"mode\": \"markers\", \"x\": [\"i5 (n\\u00e3o ordenado)\", \"ARM (n\\u00e3o ordenado)\", \"i5 (ordenado)\", \"ARM (ordenado)\"], \"y\": [1.295, 0.88], \"type\": \"scatter\", \"uid\": \"294e4eff-7042-4379-8fdd-3acae3dbabc3\"}], {\"title\": \"Intel Core i5 vs ARM Cortex A7 - IPC (Depend\\u00eancia de dados)\"}, {\"showLink\": true, \"linkText\": \"Export to plot.ly\"})});</script><script type=\"text/javascript\">window.addEventListener(\"resize\", function(){window._Plotly.Plots.resize(document.getElementById(\"50d9e3af-8ce3-4cc5-9928-ac6714a5602a\"));});</script>"
      ]
     },
     "metadata": {},
     "output_type": "display_data"
    },
    {
     "data": {
      "application/vnd.plotly.v1+json": {
       "data": [
        {
         "error_y": {
          "array": [
           3464.095,
           71522.189
          ],
          "type": "data",
          "visible": true
         },
         "mode": "markers",
         "type": "scatter",
         "uid": "01503d57-4f38-4b9b-88e0-c4e0a1ceea4c",
         "x": [
          "i5 (não ordenado)",
          "ARM (não ordenado)",
          "i5 (ordenado)",
          "ARM (ordenado)"
         ],
         "y": [
          85191.6,
          208778.2
         ]
        }
       ],
       "layout": {
        "title": "Intel Core i5 vs ARM Cortex A7 - Branch misses (Dependência de dados)"
       }
      },
      "text/html": [
       "<div id=\"2f983722-f052-4436-a730-15dd5caaf0c3\" style=\"height: 525px; width: 100%;\" class=\"plotly-graph-div\"></div><script type=\"text/javascript\">require([\"plotly\"], function(Plotly) { window.PLOTLYENV=window.PLOTLYENV || {};window.PLOTLYENV.BASE_URL=\"https://plot.ly\";Plotly.newPlot(\"2f983722-f052-4436-a730-15dd5caaf0c3\", [{\"error_y\": {\"array\": [3464.095, 71522.189], \"type\": \"data\", \"visible\": true}, \"mode\": \"markers\", \"x\": [\"i5 (n\\u00e3o ordenado)\", \"ARM (n\\u00e3o ordenado)\", \"i5 (ordenado)\", \"ARM (ordenado)\"], \"y\": [85191.6, 208778.2], \"type\": \"scatter\", \"uid\": \"01503d57-4f38-4b9b-88e0-c4e0a1ceea4c\"}], {\"title\": \"Intel Core i5 vs ARM Cortex A7 - Branch misses (Depend\\u00eancia de dados)\"}, {\"showLink\": true, \"linkText\": \"Export to plot.ly\"})});</script><script type=\"text/javascript\">window.addEventListener(\"resize\", function(){window._Plotly.Plots.resize(document.getElementById(\"2f983722-f052-4436-a730-15dd5caaf0c3\"));});</script>"
      ],
      "text/vnd.plotly.v1+html": [
       "<div id=\"2f983722-f052-4436-a730-15dd5caaf0c3\" style=\"height: 525px; width: 100%;\" class=\"plotly-graph-div\"></div><script type=\"text/javascript\">require([\"plotly\"], function(Plotly) { window.PLOTLYENV=window.PLOTLYENV || {};window.PLOTLYENV.BASE_URL=\"https://plot.ly\";Plotly.newPlot(\"2f983722-f052-4436-a730-15dd5caaf0c3\", [{\"error_y\": {\"array\": [3464.095, 71522.189], \"type\": \"data\", \"visible\": true}, \"mode\": \"markers\", \"x\": [\"i5 (n\\u00e3o ordenado)\", \"ARM (n\\u00e3o ordenado)\", \"i5 (ordenado)\", \"ARM (ordenado)\"], \"y\": [85191.6, 208778.2], \"type\": \"scatter\", \"uid\": \"01503d57-4f38-4b9b-88e0-c4e0a1ceea4c\"}], {\"title\": \"Intel Core i5 vs ARM Cortex A7 - Branch misses (Depend\\u00eancia de dados)\"}, {\"showLink\": true, \"linkText\": \"Export to plot.ly\"})});</script><script type=\"text/javascript\">window.addEventListener(\"resize\", function(){window._Plotly.Plots.resize(document.getElementById(\"2f983722-f052-4436-a730-15dd5caaf0c3\"));});</script>"
      ]
     },
     "metadata": {},
     "output_type": "display_data"
    },
    {
     "data": {
      "application/vnd.plotly.v1+json": {
       "data": [
        {
         "error_y": {
          "array": [
           248283.028,
           444522.893
          ],
          "type": "data",
          "visible": true
         },
         "mode": "markers",
         "type": "scatter",
         "uid": "643a1e1c-77d0-4d9c-87b6-9ff701792ba6",
         "x": [
          "i5 (não ordenado)",
          "ARM (não ordenado)",
          "i5 (ordenado)",
          "ARM (ordenado)"
         ],
         "y": [
          17780976.3,
          2556415
         ]
        }
       ],
       "layout": {
        "title": "Intel Core i5 vs ARM Cortex A7 - Cache misses (Dependência de dados)"
       }
      },
      "text/html": [
       "<div id=\"809dfbb0-298c-495c-942a-4c486ca614fc\" style=\"height: 525px; width: 100%;\" class=\"plotly-graph-div\"></div><script type=\"text/javascript\">require([\"plotly\"], function(Plotly) { window.PLOTLYENV=window.PLOTLYENV || {};window.PLOTLYENV.BASE_URL=\"https://plot.ly\";Plotly.newPlot(\"809dfbb0-298c-495c-942a-4c486ca614fc\", [{\"error_y\": {\"array\": [248283.028, 444522.893], \"type\": \"data\", \"visible\": true}, \"mode\": \"markers\", \"x\": [\"i5 (n\\u00e3o ordenado)\", \"ARM (n\\u00e3o ordenado)\", \"i5 (ordenado)\", \"ARM (ordenado)\"], \"y\": [17780976.3, 2556415.0], \"type\": \"scatter\", \"uid\": \"643a1e1c-77d0-4d9c-87b6-9ff701792ba6\"}], {\"title\": \"Intel Core i5 vs ARM Cortex A7 - Cache misses (Depend\\u00eancia de dados)\"}, {\"showLink\": true, \"linkText\": \"Export to plot.ly\"})});</script><script type=\"text/javascript\">window.addEventListener(\"resize\", function(){window._Plotly.Plots.resize(document.getElementById(\"809dfbb0-298c-495c-942a-4c486ca614fc\"));});</script>"
      ],
      "text/vnd.plotly.v1+html": [
       "<div id=\"809dfbb0-298c-495c-942a-4c486ca614fc\" style=\"height: 525px; width: 100%;\" class=\"plotly-graph-div\"></div><script type=\"text/javascript\">require([\"plotly\"], function(Plotly) { window.PLOTLYENV=window.PLOTLYENV || {};window.PLOTLYENV.BASE_URL=\"https://plot.ly\";Plotly.newPlot(\"809dfbb0-298c-495c-942a-4c486ca614fc\", [{\"error_y\": {\"array\": [248283.028, 444522.893], \"type\": \"data\", \"visible\": true}, \"mode\": \"markers\", \"x\": [\"i5 (n\\u00e3o ordenado)\", \"ARM (n\\u00e3o ordenado)\", \"i5 (ordenado)\", \"ARM (ordenado)\"], \"y\": [17780976.3, 2556415.0], \"type\": \"scatter\", \"uid\": \"643a1e1c-77d0-4d9c-87b6-9ff701792ba6\"}], {\"title\": \"Intel Core i5 vs ARM Cortex A7 - Cache misses (Depend\\u00eancia de dados)\"}, {\"showLink\": true, \"linkText\": \"Export to plot.ly\"})});</script><script type=\"text/javascript\">window.addEventListener(\"resize\", function(){window._Plotly.Plots.resize(document.getElementById(\"809dfbb0-298c-495c-942a-4c486ca614fc\"));});</script>"
      ]
     },
     "metadata": {},
     "output_type": "display_data"
    },
    {
     "data": {
      "text/plain": [
       "0"
      ]
     },
     "execution_count": 7,
     "metadata": {},
     "output_type": "execute_result"
    }
   ],
   "source": [
    "clock = [avgs['dep_i5']['clock'], avgs['dep_rasp']['clock']]\n",
    "icp = [avgs['dep_i5']['ipc'], avgs['dep_rasp']['ipc']]\n",
    "branch = [avgs['dep_i5']['branch'], avgs['dep_rasp']['branch']]\n",
    "cache = [avgs['dep_i5']['cache'], avgs['dep_rasp']['cache']]\n",
    "\n",
    "clock_confs = [confs['dep_i5']['clock'], confs['dep_rasp']['clock']]\n",
    "print(clock_confs)\n",
    "\n",
    "icp_confs = [confs['dep_i5']['ipc'], confs['dep_rasp']['ipc']]\n",
    "print(icp_confs)\n",
    "\n",
    "cache_confs = [confs['dep_i5']['cache'], confs['dep_rasp']['cache']]\n",
    "print(cache_confs)\n",
    "\n",
    "branch_confs = [confs['dep_i5']['branch'], confs['dep_rasp']['branch']]\n",
    "print(branch_confs)\n",
    "\n",
    "\n",
    "plot_bar_data(clock, clock_confs, labels, '{} - Tempo (Dependência de dados)'.format(plot_procs))\n",
    "plot_bar_data(icp, icp_confs, labels, '{} - IPC (Dependência de dados)'.format(plot_procs))\n",
    "plot_bar_data(branch, branch_confs, labels, '{} - Branch misses (Dependência de dados)'.format(plot_procs))\n",
    "plot_bar_data(cache, cache_confs, labels, '{} - Cache misses (Dependência de dados)'.format(plot_procs))"
   ]
  },
  {
   "cell_type": "code",
   "execution_count": null,
   "metadata": {},
   "outputs": [],
   "source": []
  }
 ],
 "metadata": {
  "kernelspec": {
   "display_name": "Python 3",
   "language": "python",
   "name": "python3"
  },
  "language_info": {
   "codemirror_mode": {
    "name": "ipython",
    "version": 3
   },
   "file_extension": ".py",
   "mimetype": "text/x-python",
   "name": "python",
   "nbconvert_exporter": "python",
   "pygments_lexer": "ipython3",
   "version": "3.6.5"
  }
 },
 "nbformat": 4,
 "nbformat_minor": 2
}
